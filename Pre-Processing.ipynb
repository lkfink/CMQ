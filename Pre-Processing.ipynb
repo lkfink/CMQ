{
 "cells": [
  {
   "cell_type": "markdown",
   "metadata": {},
   "source": [
    "# **Pre-process Coronavirus Music Questionnaire (CMQ) data**\n",
    "Lindsay Warrenburg & Lauren Fink  \n",
    "lindsay.a.warrenburg@gmail.com  lauren.fink@ae.mpg.de  \n",
    "Final version: December 20, 2020"
   ]
  },
  {
   "cell_type": "markdown",
   "metadata": {},
   "source": [
    "The goal of this Jupyter Notebook is to conduct pre-processing, such as investigating where there might be missing data, removing any participants who were not taking the study seriously, and examining differences across participants in 6 countries (Germany, Italy, France, India, UK, and USA)."
   ]
  },
  {
   "cell_type": "code",
   "execution_count": 1,
   "metadata": {},
   "outputs": [],
   "source": [
    "import numpy as np, math, pandas as pd, os, sys, scipy, xlrd, urllib, itertools, re, warnings, matplotlib.pyplot as plt, seaborn as sns\n",
    "from pandas.api.types import CategoricalDtype\n",
    "%matplotlib inline\n",
    "plt.rcParams['figure.figsize'] = (14,4)\n",
    "\n",
    "# Local imports\n",
    "import local_dicts # dictionary defining column labels for our dataframe and answer text~answer code relationships \n",
    "import local_funcs # functions that we might want to use in multiple scripts throughout the project\n",
    "import importlib\n",
    "\n",
    "importlib.reload(local_dicts) \n",
    "importlib.reload(local_funcs)\n",
    "\n",
    "# display all columns in dataframe\n",
    "pd.set_option('display.max_columns', None)\n",
    "pd.set_option('display.max_rows', None)\n",
    "\n",
    "warnings.filterwarnings(action='ignore')"
   ]
  },
  {
   "cell_type": "code",
   "execution_count": 2,
   "metadata": {},
   "outputs": [
    {
     "data": {
      "text/plain": [
       "(5907, 239)"
      ]
     },
     "execution_count": 2,
     "metadata": {},
     "output_type": "execute_result"
    }
   ],
   "source": [
    "data = pd.read_csv('raw_data.csv')\n",
    "data.shape"
   ]
  },
  {
   "cell_type": "markdown",
   "metadata": {},
   "source": [
    "# **Looking for Missing Values and Duplicates**"
   ]
  },
  {
   "cell_type": "markdown",
   "metadata": {},
   "source": [
    "### Check the amount of overall missing values in the dataframe\n",
    "Missing values make statistical models almost impossible to interpret. Even though we are not going to deal with them here, it's good to know what we are getting into."
   ]
  },
  {
   "cell_type": "code",
   "execution_count": 3,
   "metadata": {},
   "outputs": [
    {
     "name": "stdout",
     "output_type": "stream",
     "text": [
      "5905 participants with at least 1 missing value\n"
     ]
    }
   ],
   "source": [
    "null = data[data.isnull().any(axis=1)]\n",
    "print(len(null),\"participants with at least 1 missing value\") "
   ]
  },
  {
   "cell_type": "markdown",
   "metadata": {},
   "source": [
    "### Check that no rows have exactly the same observations (i.e., same participant, same answers)"
   ]
  },
  {
   "cell_type": "code",
   "execution_count": 4,
   "metadata": {},
   "outputs": [
    {
     "name": "stdout",
     "output_type": "stream",
     "text": [
      "are there duplicates?  False\n"
     ]
    }
   ],
   "source": [
    "print(\"are there duplicates? \", data.iloc[:,1:].duplicated().any())"
   ]
  },
  {
   "cell_type": "markdown",
   "metadata": {},
   "source": [
    "### Exploring the Percent of Questions with Missing Values\n",
    "\n",
    "We are not actually using this to screen people, but rather to understand better how people took the survey"
   ]
  },
  {
   "cell_type": "code",
   "execution_count": 5,
   "metadata": {},
   "outputs": [
    {
     "name": "stdout",
     "output_type": "stream",
     "text": [
      "0 participants with more than 175 questions incomplete.\n"
     ]
    }
   ],
   "source": [
    "# Count number of missing questions per person\n",
    "data['Survey Info_Number of Missing Questions'] = data.isnull().sum(axis=1)\n",
    "\n",
    "# find people who have more than 175 missing questions (out of of 202 total questions)\n",
    "screenNaNs = data.loc[data['Survey Info_Number of Missing Questions'] > 175]\n",
    "print(screenNaNs.shape[0], \"participants with more than 175 questions incomplete.\")"
   ]
  },
  {
   "cell_type": "markdown",
   "metadata": {},
   "source": [
    "### Plot how many questions each participant is missing to see the general distribution."
   ]
  },
  {
   "cell_type": "code",
   "execution_count": 6,
   "metadata": {},
   "outputs": [
    {
     "data": {
      "image/png": "[encoded data removed]",
      "text/plain": [
       "<Figure size 576x360 with 1 Axes>"
      ]
     },
     "metadata": {
      "needs_background": "light"
     },
     "output_type": "display_data"
    }
   ],
   "source": [
    "plt.figure(figsize=[8,5]);\n",
    "ax = sns.distplot(data['Survey Info_Number of Missing Questions'], kde=False, bins = 50);\n",
    "ax.axvline(x = 0.9*202, ymin = 0, ymax = 1, color = 'green', linewidth=2);\n",
    "plt.title('Histogram of Incomplete Questions\\n Green line = 90% Missing', size = 22);\n",
    "plt.ylabel('Number of Participants', fontsize=16);\n",
    "plt.xlabel('Number of Incomplete Questions', fontsize=16);\n",
    "plt.xticks(np.arange(0, 210, step=10));\n",
    "\n",
    "data = data.drop(['Survey Info_Number of Missing Questions'], axis=1)"
   ]
  },
  {
   "cell_type": "markdown",
   "metadata": {},
   "source": [
    "# Screening Participants by Study Duration\n",
    "Check who took too little time to complete the survey. Of course, there are some people who did not take the Music Listening/Making Music sections that we should keep. We only want to throw out people who took way too little time. We can check on those who took too long but we likely should not screen those who took too long, as participants could return to the survey at a later time. We also need to account for which sections of the survey they saw. "
   ]
  },
  {
   "cell_type": "markdown",
   "metadata": {},
   "source": [
    "### How many people did not answer any of the music listening/making questions? \n",
    "Our survey was based on skip logic. Namely, people were asked `Have you been (1) listening to music or (2) making music during the coronavirus crisis?` If they answered *Yes*, they were asked further questions about that activity (music listening or making). If they answered *No*, they did not see any questions about that activity (music listening or making)."
   ]
  },
  {
   "cell_type": "code",
   "execution_count": 7,
   "metadata": {},
   "outputs": [
    {
     "name": "stdout",
     "output_type": "stream",
     "text": [
      "491 people did not answer any of the music listening questions\n"
     ]
    }
   ],
   "source": [
    "# music listening\n",
    "exclude_listening_list = ['Activities_Music Listening','Music Listening_Examples_Free Response','Music Listening_Functions_Free Response']\n",
    "listening_list = [c for c in data.columns if 'Music Listening' in c and c not in exclude_listening_list]\n",
    "\n",
    "data['tmp_listening'] = data[listening_list].isnull().apply(lambda x: all(x), axis=1)\n",
    "print(data['tmp_listening'].sum(), \"people did not answer any of the music listening questions\")"
   ]
  },
  {
   "cell_type": "code",
   "execution_count": 8,
   "metadata": {},
   "outputs": [
    {
     "name": "stdout",
     "output_type": "stream",
     "text": [
      "2343 people did not answer any of the music listening questions\n"
     ]
    }
   ],
   "source": [
    "# music making\n",
    "exclude_performing_list = ['Activities_Making Music','Making Music_Examples_Free Response','Making Music_Functions_Free Response','Demographics_Music_Making Music-Alone','Demographics_Music_Making Music-Both Alone And Together','Demographics_Music_Making Music-Together','Demographics_Music_Making Music-No Response']\n",
    "performing_list = [c for c in data.columns if 'Making Music' in c and c not in exclude_performing_list]\n",
    "\n",
    "data['tmp_performing'] = data[performing_list].isnull().apply(lambda x: all(x), axis=1)\n",
    "print(data['tmp_performing'].sum(), \"people did not answer any of the music listening questions\")"
   ]
  },
  {
   "cell_type": "markdown",
   "metadata": {},
   "source": [
    "### Create 4 groups with regards to the parts of the survey that they saw\n",
    "- People who only took the *music listening* part of the survey\n",
    "- People who only took the *music making* part of the survey\n",
    "- People who took *both the music listening and music making* parts of the survey\n",
    "- People who *did not take either the music listening or music making* parts of the survey (i.e., they only took the demographic/personality sections because they reported not listening to or making music during the coronavirus crisis)"
   ]
  },
  {
   "cell_type": "code",
   "execution_count": 9,
   "metadata": {},
   "outputs": [],
   "source": [
    "# Creating the 4 groups\n",
    "conditions = [(data.tmp_listening == True) & (data.tmp_performing == True), \n",
    "              (data.tmp_listening == False) & (data.tmp_performing == True),\n",
    "              (data.tmp_listening == True) & (data.tmp_performing == False),\n",
    "              (data.tmp_listening == False) & (data.tmp_performing == False)\n",
    "             ]\n",
    "choices = ['neither','listening only','performing only','both']\n",
    "\n",
    "data[\"Survey Info_Group\"] = np.select(conditions, choices, default=np.nan)"
   ]
  },
  {
   "cell_type": "code",
   "execution_count": 10,
   "metadata": {},
   "outputs": [
    {
     "data": {
      "text/html": [
       "<div>\n",
       "<style scoped>\n",
       "    .dataframe tbody tr th:only-of-type {\n",
       "        vertical-align: middle;\n",
       "    }\n",
       "\n",
       "    .dataframe tbody tr th {\n",
       "        vertical-align: top;\n",
       "    }\n",
       "\n",
       "    .dataframe thead th {\n",
       "        text-align: right;\n",
       "    }\n",
       "</style>\n",
       "<table border=\"1\" class=\"dataframe\">\n",
       "  <thead>\n",
       "    <tr style=\"text-align: right;\">\n",
       "      <th></th>\n",
       "      <th>count</th>\n",
       "      <th>mean</th>\n",
       "      <th>std</th>\n",
       "      <th>min</th>\n",
       "      <th>max</th>\n",
       "    </tr>\n",
       "    <tr>\n",
       "      <th>Survey Info_Group</th>\n",
       "      <th></th>\n",
       "      <th></th>\n",
       "      <th></th>\n",
       "      <th></th>\n",
       "      <th></th>\n",
       "    </tr>\n",
       "  </thead>\n",
       "  <tbody>\n",
       "    <tr>\n",
       "      <th>both</th>\n",
       "      <td>3534</td>\n",
       "      <td>45.3</td>\n",
       "      <td>302.6</td>\n",
       "      <td>3.4</td>\n",
       "      <td>9041.7</td>\n",
       "    </tr>\n",
       "    <tr>\n",
       "      <th>listening only</th>\n",
       "      <td>1882</td>\n",
       "      <td>65.7</td>\n",
       "      <td>416.4</td>\n",
       "      <td>2.8</td>\n",
       "      <td>6967.6</td>\n",
       "    </tr>\n",
       "    <tr>\n",
       "      <th>neither</th>\n",
       "      <td>461</td>\n",
       "      <td>100.6</td>\n",
       "      <td>577.9</td>\n",
       "      <td>0.8</td>\n",
       "      <td>6171.9</td>\n",
       "    </tr>\n",
       "    <tr>\n",
       "      <th>performing only</th>\n",
       "      <td>30</td>\n",
       "      <td>18.5</td>\n",
       "      <td>15.2</td>\n",
       "      <td>7.7</td>\n",
       "      <td>74.9</td>\n",
       "    </tr>\n",
       "  </tbody>\n",
       "</table>\n",
       "</div>"
      ],
      "text/plain": [
       "                   count   mean    std  min     max\n",
       "Survey Info_Group                                  \n",
       "both                3534   45.3  302.6  3.4  9041.7\n",
       "listening only      1882   65.7  416.4  2.8  6967.6\n",
       "neither              461  100.6  577.9  0.8  6171.9\n",
       "performing only       30   18.5   15.2  7.7    74.9"
      ]
     },
     "execution_count": 10,
     "metadata": {},
     "output_type": "execute_result"
    }
   ],
   "source": [
    "# Examine the average study duration for people in each of these 4 groups\n",
    "data.groupby(['Survey Info_Group'])['Survey Info_Duration'].agg(['count','mean','std','min','max']).round(1)"
   ]
  },
  {
   "cell_type": "markdown",
   "metadata": {},
   "source": [
    "### Exclude participants who took the shortest time to complete the survey, based on which sections of the survey (listening, making, both, neither) they saw\n",
    "\n",
    "We elected to exclude the people in the lowest 10% of study duration for each group."
   ]
  },
  {
   "cell_type": "code",
   "execution_count": 11,
   "metadata": {},
   "outputs": [],
   "source": [
    "cut_percentile = 10"
   ]
  },
  {
   "cell_type": "code",
   "execution_count": 12,
   "metadata": {},
   "outputs": [
    {
     "name": "stdout",
     "output_type": "stream",
     "text": [
      "Neither music listening nor making:\n",
      "Lowest percentile under 2.6 minutes\n"
     ]
    }
   ],
   "source": [
    "# People who did not see the music listening or music making sections\n",
    "data['cut_len'] = np.nan\n",
    "group1durs = data['Survey Info_Duration'].loc[data['Survey Info_Group'] == 'neither']\n",
    "low10_g1 = np.percentile(group1durs, cut_percentile)\n",
    "print('Neither music listening nor making:')\n",
    "print('Lowest percentile under', low10_g1.round(1), 'minutes')\n",
    "data['cut_len'] = np.where( (data['Survey Info_Group'] == 'neither') & (data['Survey Info_Duration'] <= low10_g1), 1, data['cut_len'])"
   ]
  },
  {
   "cell_type": "code",
   "execution_count": 13,
   "metadata": {},
   "outputs": [
    {
     "name": "stdout",
     "output_type": "stream",
     "text": [
      "Music listening only:\n",
      "Lowest percentile under 8.4 minutes\n"
     ]
    }
   ],
   "source": [
    "# People who only saw the music listening questions\n",
    "group2durs = data['Survey Info_Duration'].loc[data['Survey Info_Group'] == 'listening only']\n",
    "low10_g2 = np.percentile(group2durs, cut_percentile)\n",
    "print('Music listening only:')\n",
    "print('Lowest percentile under', low10_g2.round(1), 'minutes')\n",
    "data['cut_len'] = np.where( (data['Survey Info_Group'] == 'listening only') & (data['Survey Info_Duration'] <= low10_g2), 1, data['cut_len'])"
   ]
  },
  {
   "cell_type": "code",
   "execution_count": 14,
   "metadata": {},
   "outputs": [
    {
     "name": "stdout",
     "output_type": "stream",
     "text": [
      "Music making only:\n",
      "Lowest percentile under 8.8 minutes\n"
     ]
    }
   ],
   "source": [
    "# People who only saw the music making questions\n",
    "group3durs = data['Survey Info_Duration'].loc[data['Survey Info_Group'] == 'performing only']\n",
    "low10_g3 = np.percentile(group3durs, cut_percentile)\n",
    "print('Music making only:')\n",
    "print('Lowest percentile under', low10_g3.round(1), 'minutes')\n",
    "data['cut_len'] = np.where( (data['Survey Info_Group'] == 'performing only') & (data['Survey Info_Duration'] <= low10_g3), 1, data['cut_len'])"
   ]
  },
  {
   "cell_type": "code",
   "execution_count": 15,
   "metadata": {},
   "outputs": [
    {
     "name": "stdout",
     "output_type": "stream",
     "text": [
      "Both music listening and music making:\n",
      "Lowest percentile under 8.5 minutes\n"
     ]
    }
   ],
   "source": [
    "# People who saw both the music listening and music making questions\n",
    "group4durs = data['Survey Info_Duration'].loc[data['Survey Info_Group'] == 'both']\n",
    "low10_g4 = np.percentile(group4durs, cut_percentile)\n",
    "print('Both music listening and music making:')\n",
    "print('Lowest percentile under', low10_g4.round(1), 'minutes')\n",
    "data['cut_len'] = np.where( (data['Survey Info_Group'] == 'both') & (data['Survey Info_Duration'] <= low10_g4), 1, data['cut_len'])"
   ]
  },
  {
   "cell_type": "code",
   "execution_count": 16,
   "metadata": {},
   "outputs": [
    {
     "data": {
      "text/plain": [
       "<matplotlib.legend.Legend at 0x7fab142cd0d0>"
      ]
     },
     "execution_count": 16,
     "metadata": {},
     "output_type": "execute_result"
    },
    {
     "data": {
      "image/png": "[encoded data removed]",
      "text/plain": [
       "<Figure size 1008x288 with 1 Axes>"
      ]
     },
     "metadata": {
      "needs_background": "light"
     },
     "output_type": "display_data"
    }
   ],
   "source": [
    "# graph\n",
    "sns.distplot(group1durs[group1durs < 20], label = 'Neither')\n",
    "sns.distplot(group2durs[group2durs < 20], label = 'Listening')\n",
    "sns.distplot(group3durs[group3durs < 20], label = 'Making')\n",
    "sns.distplot(group4durs[group4durs < 20], label = 'Both')\n",
    "plt.legend()"
   ]
  },
  {
   "cell_type": "markdown",
   "metadata": {},
   "source": [
    "### Exclude the participants we have flagged"
   ]
  },
  {
   "cell_type": "code",
   "execution_count": 17,
   "metadata": {},
   "outputs": [
    {
     "name": "stdout",
     "output_type": "stream",
     "text": [
      "595.0 participants were cut due to short study duration\n",
      "\n",
      "5907 original participants\n",
      "5312 participants after duration exclusion\n"
     ]
    }
   ],
   "source": [
    "print(data['cut_len'].sum(), 'participants were cut due to short study duration\\n')\n",
    "print(len(data),'original participants')\n",
    "\n",
    "data = data[data['cut_len'] != 1]\n",
    "print(len(data),'participants after duration exclusion')\n",
    "\n",
    "data = data.drop(['cut_len','tmp_listening','tmp_performing'], axis=1)\n",
    "data.reset_index(inplace = True, drop = True) "
   ]
  },
  {
   "cell_type": "markdown",
   "metadata": {},
   "source": [
    "# Screening Participants by Repeated Answers\n",
    "\n",
    "This is our way of checking who answered all questions with the same response, while still taking into account (1) when this 0 variance is meaningful versus (2) when this 0 variance indicates lack of effort.\n",
    "\n",
    "- Exclude participants who had 0 response range within each of the 3 sections (*Leisure Activities, Functions of Music Making, Functions of Music Listening*)\n",
    "- **Exception:** Keep data if the repeated response was `4: No change from before the pandemic to during the pandemic`"
   ]
  },
  {
   "cell_type": "code",
   "execution_count": 18,
   "metadata": {},
   "outputs": [
    {
     "name": "stdout",
     "output_type": "stream",
     "text": [
      "31 participants excluded for 0 variance in the activities section\n"
     ]
    }
   ],
   "source": [
    "# leisure activities\n",
    "activities = [col for col in data.columns if col.startswith('Activities_')]\n",
    "\n",
    "act_zero_std = (np.nanstd(data[activities],axis=1) == 0) \n",
    "act_not_same_as_before = data[activities].apply(lambda x: ~x.isin([4.,0.,99.,np.nan])).sum(axis=1) > 0\n",
    "cut_activities_ids = data[act_zero_std & act_not_same_as_before].ID.unique().tolist()\n",
    "print(len(cut_activities_ids), \"participants excluded for 0 variance in the activities section\")"
   ]
  },
  {
   "cell_type": "code",
   "execution_count": 19,
   "metadata": {},
   "outputs": [
    {
     "name": "stdout",
     "output_type": "stream",
     "text": [
      "156 participants excluded for 0 variance in the music listening section\n"
     ]
    }
   ],
   "source": [
    "# functions of music listening\n",
    "listening = [col for col in data.columns if col.startswith('Music Listening_Functions') and col != 'Music Listening_Functions_Free Response']\n",
    "\n",
    "list_zero_std = (np.nanstd(data[listening],axis=1) == 0) \n",
    "list_not_same_as_before = data[listening].apply(lambda x: ~x.isin([4.,0.,99.,np.nan])).sum(axis=1) > 0\n",
    "cut_listening_ids = data[list_zero_std & list_not_same_as_before].ID.unique().tolist()\n",
    "print(len(cut_listening_ids), \"participants excluded for 0 variance in the music listening section\")"
   ]
  },
  {
   "cell_type": "code",
   "execution_count": 20,
   "metadata": {},
   "outputs": [
    {
     "name": "stdout",
     "output_type": "stream",
     "text": [
      "104 participants excluded for 0 variance in the making music section\n"
     ]
    }
   ],
   "source": [
    "# functions of music making\n",
    "playing = [col for col in data.columns if col.startswith('Making Music_Functions') and col != 'Making Music_Functions_Free Response']\n",
    "\n",
    "play_zero_std = (np.nanstd(data[playing],axis=1) == 0) \n",
    "play_not_same_as_before = data[playing].apply(lambda x: ~x.isin([4.,0.,99.,np.nan])).sum(axis=1) > 0\n",
    "cut_playing_ids = data[play_zero_std & play_not_same_as_before].ID.unique().tolist()\n",
    "print(len(cut_playing_ids), \"participants excluded for 0 variance in the making music section\")"
   ]
  },
  {
   "cell_type": "code",
   "execution_count": 21,
   "metadata": {},
   "outputs": [
    {
     "name": "stdout",
     "output_type": "stream",
     "text": [
      "18 participants who were flagged for exclusion in all 3 categories\n",
      "199 total participants excluded due to 0 response variance\n"
     ]
    }
   ],
   "source": [
    "# total\n",
    "cut_all = [cut_activities_ids, cut_listening_ids, cut_playing_ids]\n",
    "drop_ids = set.intersection(*map(set,cut_all))\n",
    "print(len(drop_ids), \"participants who were flagged for exclusion in all 3 categories\")\n",
    "\n",
    "cut_ids = list(set([y for x in cut_all for y in x]))\n",
    "cut_ids.sort()\n",
    "\n",
    "print(len(cut_ids),\"total participants excluded due to 0 response variance\")"
   ]
  },
  {
   "cell_type": "markdown",
   "metadata": {},
   "source": [
    "### Exclude the participants we have flagged"
   ]
  },
  {
   "cell_type": "code",
   "execution_count": 22,
   "metadata": {},
   "outputs": [
    {
     "name": "stdout",
     "output_type": "stream",
     "text": [
      "5113 participants after 0 variance exclusion\n"
     ]
    }
   ],
   "source": [
    "data = data[~data.ID.isin(cut_ids)]\n",
    "data.reset_index(inplace = True, drop = True)\n",
    "print(len(data),'participants after 0 variance exclusion')"
   ]
  },
  {
   "cell_type": "markdown",
   "metadata": {},
   "source": [
    "# Overall Data Investigation\n",
    "\n",
    "Now that we've screened out participants, let's look at some information about the data. \n",
    "\n",
    "### Number of participants by country"
   ]
  },
  {
   "cell_type": "code",
   "execution_count": 23,
   "metadata": {},
   "outputs": [
    {
     "data": {
      "text/plain": [
       "Country_Country Name\n",
       "France     983\n",
       "Germany    872\n",
       "India      891\n",
       "Italy      892\n",
       "UK         621\n",
       "USA        854\n",
       "dtype: int64"
      ]
     },
     "execution_count": 23,
     "metadata": {},
     "output_type": "execute_result"
    }
   ],
   "source": [
    "data.groupby(['Country_Country Name']).size()"
   ]
  },
  {
   "cell_type": "markdown",
   "metadata": {},
   "source": [
    "### Study duration"
   ]
  },
  {
   "cell_type": "code",
   "execution_count": 24,
   "metadata": {},
   "outputs": [
    {
     "name": "stdout",
     "output_type": "stream",
     "text": [
      "min          2.6\n",
      "max       9041.7\n",
      "mean        63.1\n",
      "median      17.0\n",
      "std        396.3\n",
      "Name: Survey Info_Duration, dtype: float64\n"
     ]
    }
   ],
   "source": [
    "print(data['Survey Info_Duration'].agg(['min','max','mean','median','std']).round(1))\n",
    "data = data.drop(['Survey Info_Duration'], axis=1)"
   ]
  },
  {
   "cell_type": "markdown",
   "metadata": {},
   "source": [
    "### Percent missing and median value by column"
   ]
  },
  {
   "cell_type": "code",
   "execution_count": 25,
   "metadata": {},
   "outputs": [],
   "source": [
    "df = data[data.columns.difference(['ID'])]\n",
    "checking = df.describe(percentiles=[0.5]).T\n",
    "checking['percent missing'] = (((len(df) - checking['count'])/len(df))*100).round(2)\n",
    "checking = checking.loc[checking['percent missing'] >0,['percent missing','50%']].sort_values(['percent missing'], ascending=False)\n",
    "#checking"
   ]
  },
  {
   "cell_type": "markdown",
   "metadata": {},
   "source": [
    "# Recoding\n",
    "\n",
    "We need to do a little bit of cleaning before we can use the data in other scripts.\n",
    "\n",
    "### Create binary gender column because of lack of representative data for people who did not answer 'woman' or 'man'"
   ]
  },
  {
   "cell_type": "code",
   "execution_count": 26,
   "metadata": {},
   "outputs": [],
   "source": [
    "# 0 = woman, 1 = man\n",
    "data['Demographics_General_Gender_binary'] = data['Demographics_General_Gender'].astype(str)\n",
    "data = data.replace({'Demographics_General_Gender_binary': {'1.0': 0, '2.0': 1, '3.0': np.nan, '4.0': np.nan, 'nan': np.nan}})"
   ]
  },
  {
   "cell_type": "markdown",
   "metadata": {},
   "source": [
    "### Recode values from Qualtrics\n",
    "- `99` in Qualtrics referred to an unanswered question --> recode as `NaN`\n",
    "- `0` in Qualtrics referred to a response of `never do this/does not apply` --> recode as `4: no change before and during the coronavirus crisis`"
   ]
  },
  {
   "cell_type": "code",
   "execution_count": 27,
   "metadata": {},
   "outputs": [],
   "source": [
    "recoding_cols = [col for col in data.columns if 'Activities_' in col or '_Hypotheses_' in col \n",
    "                 or '_Functions_' in col or '_Situations_' in col \n",
    "                 or 'Music Listening_Formats_' in col] + ['Music Engagement_Diversity of Music', 'Music Engagement_Interest in Others Music', 'Music Engagement_Nostalgic Music']\n",
    "\n",
    "data[recoding_cols] = data[recoding_cols].replace({99:np.nan, 0:4.})"
   ]
  },
  {
   "cell_type": "markdown",
   "metadata": {},
   "source": [
    "### High Correlations"
   ]
  },
  {
   "cell_type": "code",
   "execution_count": 28,
   "metadata": {},
   "outputs": [
    {
     "name": "stdout",
     "output_type": "stream",
     "text": [
      "0.01 % of correlations > 0.90\n",
      "Highest (absolute value) correlation is 0.94\n"
     ]
    }
   ],
   "source": [
    "# correlations\n",
    "cor_real = data.corr()\n",
    "cor_abs = data.corr().abs()\n",
    "triangle = cor_real.where(np.triu(np.ones(cor_real.shape), k = 1).astype(np.bool))\n",
    "\n",
    "cor = cor_abs.unstack()\n",
    "cor = cor.sort_values(kind=\"quicksort\", ascending = False)\n",
    "cor = pd.DataFrame(cor)\n",
    "cor.columns = ['cor']\n",
    "cor = cor.query('cor < 1')\n",
    "\n",
    "cor_high = cor.query('0.90 < cor < 1')\n",
    "print(\"{:.2f}\".format((len(cor_high)/len(cor))*100), \"% of correlations > 0.90\")\n",
    "print(\"Highest (absolute value) correlation is\", \"{:.2f}\".format(cor['cor'].max()))"
   ]
  },
  {
   "cell_type": "code",
   "execution_count": 29,
   "metadata": {},
   "outputs": [
    {
     "data": {
      "text/html": [
       "<div>\n",
       "<style scoped>\n",
       "    .dataframe tbody tr th:only-of-type {\n",
       "        vertical-align: middle;\n",
       "    }\n",
       "\n",
       "    .dataframe tbody tr th {\n",
       "        vertical-align: top;\n",
       "    }\n",
       "\n",
       "    .dataframe thead th {\n",
       "        text-align: right;\n",
       "    }\n",
       "</style>\n",
       "<table border=\"1\" class=\"dataframe\">\n",
       "  <thead>\n",
       "    <tr style=\"text-align: right;\">\n",
       "      <th></th>\n",
       "      <th></th>\n",
       "      <th>cor</th>\n",
       "    </tr>\n",
       "  </thead>\n",
       "  <tbody>\n",
       "    <tr>\n",
       "      <th>Country_Confirmed Deaths</th>\n",
       "      <th>Country_Confirmed Cases</th>\n",
       "      <td>0.940590</td>\n",
       "    </tr>\n",
       "    <tr>\n",
       "      <th>Country_Confirmed Cases</th>\n",
       "      <th>Country_Confirmed Deaths</th>\n",
       "      <td>0.940590</td>\n",
       "    </tr>\n",
       "    <tr>\n",
       "      <th>Country_Stringency Index</th>\n",
       "      <th>Country_Government Response Index</th>\n",
       "      <td>0.925485</td>\n",
       "    </tr>\n",
       "    <tr>\n",
       "      <th rowspan=\"2\" valign=\"top\">Country_Government Response Index</th>\n",
       "      <th>Country_Stringency Index</th>\n",
       "      <td>0.925485</td>\n",
       "    </tr>\n",
       "    <tr>\n",
       "      <th>Country_Containment Health Index</th>\n",
       "      <td>0.925350</td>\n",
       "    </tr>\n",
       "    <tr>\n",
       "      <th>Country_Containment Health Index</th>\n",
       "      <th>Country_Government Response Index</th>\n",
       "      <td>0.925350</td>\n",
       "    </tr>\n",
       "  </tbody>\n",
       "</table>\n",
       "</div>"
      ],
      "text/plain": [
       "                                                                          cor\n",
       "Country_Confirmed Deaths          Country_Confirmed Cases            0.940590\n",
       "Country_Confirmed Cases           Country_Confirmed Deaths           0.940590\n",
       "Country_Stringency Index          Country_Government Response Index  0.925485\n",
       "Country_Government Response Index Country_Stringency Index           0.925485\n",
       "                                  Country_Containment Health Index   0.925350\n",
       "Country_Containment Health Index  Country_Government Response Index  0.925350"
      ]
     },
     "execution_count": 29,
     "metadata": {},
     "output_type": "execute_result"
    }
   ],
   "source": [
    "# highest correlations\n",
    "cor_high"
   ]
  },
  {
   "cell_type": "markdown",
   "metadata": {},
   "source": [
    "# Export data"
   ]
  },
  {
   "cell_type": "markdown",
   "metadata": {},
   "source": [
    "### Export Text Responses\n",
    "Make a new dataframe (and export CSV file) of the free responses and then remove them from the quantitative data frame."
   ]
  },
  {
   "cell_type": "code",
   "execution_count": 30,
   "metadata": {},
   "outputs": [],
   "source": [
    "# create new dataframe of free text responses\n",
    "demo = ['Country_Country Name', 'Demographics_General_Age', 'Demographics_General_Gender', 'Demographics_Music_Ollen']\n",
    "free = [col for col in data.columns if col.endswith('Free Response')]\n",
    "\n",
    "cleanedTextCols = ['ESM_ID'] + demo + free\n",
    "free_responses = data[cleanedTextCols]"
   ]
  },
  {
   "cell_type": "code",
   "execution_count": 31,
   "metadata": {},
   "outputs": [],
   "source": [
    "# map column values to something meaningful so that those working with it outside of coding environment don't need to look up values\n",
    "free_responses['Demographics_General_Gender'] = free_responses['Demographics_General_Gender'].map(local_dicts.answer_code_dict['Demographics_General_Gender'])\n",
    "free_responses['Demographics_Music_Ollen'] = free_responses['Demographics_Music_Ollen'].map(local_dicts.answer_code_dict['Demographics_Music_Ollen'])"
   ]
  },
  {
   "cell_type": "code",
   "execution_count": 32,
   "metadata": {},
   "outputs": [],
   "source": [
    "# export in csv and xls formats\n",
    "free_responses.to_csv(r'free_responses.csv', index = None, header = True)\n",
    "free_responses.to_excel(r'free_responses.xls', index = None, header = True)"
   ]
  },
  {
   "cell_type": "markdown",
   "metadata": {},
   "source": [
    "### Export Quantitative Data\n",
    "This is the data table LW and LF will use in all the analyses for the manuscript."
   ]
  },
  {
   "cell_type": "code",
   "execution_count": 33,
   "metadata": {},
   "outputs": [],
   "source": [
    "# remove free response columns in the quantitative dataframe\n",
    "data = data.drop(['Demographics_COVID_Living Situation Free Response',\n",
    "                  'Making Music_Examples_Free Response', \n",
    "                  'Making Music_Functions_Free Response', \n",
    "                  'Music Engagement_Other Ways Use Music Differently Free Response',\n",
    "                  'Music Listening_Examples_Free Response',\n",
    "                  'Music Listening_Functions_Free Response'], \n",
    "                 axis=1)"
   ]
  },
  {
   "cell_type": "code",
   "execution_count": 34,
   "metadata": {},
   "outputs": [
    {
     "data": {
      "text/plain": [
       "(5113, 234)"
      ]
     },
     "execution_count": 34,
     "metadata": {},
     "output_type": "execute_result"
    }
   ],
   "source": [
    "data.shape"
   ]
  },
  {
   "cell_type": "code",
   "execution_count": 35,
   "metadata": {},
   "outputs": [],
   "source": [
    "data.to_csv(r'cleaned_data.csv', index = None, header = True)"
   ]
  }
 ],
 "metadata": {
  "kernelspec": {
   "display_name": "Python 3",
   "language": "python",
   "name": "python3"
  },
  "language_info": {
   "codemirror_mode": {
    "name": "ipython",
    "version": 3
   },
   "file_extension": ".py",
   "mimetype": "text/x-python",
   "name": "python",
   "nbconvert_exporter": "python",
   "pygments_lexer": "ipython3",
   "version": "3.8.6"
  },
  "varInspector": {
   "cols": {
    "lenName": 16,
    "lenType": 16,
    "lenVar": 40
   },
   "kernels_config": {
    "python": {
     "delete_cmd_postfix": "",
     "delete_cmd_prefix": "del ",
     "library": "var_list.py",
     "varRefreshCmd": "print(var_dic_list())"
    },
    "r": {
     "delete_cmd_postfix": ") ",
     "delete_cmd_prefix": "rm(",
     "library": "var_list.r",
     "varRefreshCmd": "cat(var_dic_list()) "
    }
   },
   "types_to_exclude": [
    "module",
    "function",
    "builtin_function_or_method",
    "instance",
    "_Feature"
   ],
   "window_display": false
  }
 },
 "nbformat": 4,
 "nbformat_minor": 2
}
