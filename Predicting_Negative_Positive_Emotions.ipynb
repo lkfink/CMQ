{
 "cells": [
  {
   "cell_type": "code",
   "execution_count": 21,
   "metadata": {},
   "outputs": [],
   "source": [
    "import numpy as np, pandas as pd, os, sys, seaborn as sns, warnings, matplotlib.pyplot as plt, statsmodels.api as sm\n",
    "from statsmodels.stats.outliers_influence import variance_inflation_factor\n",
    "pd.set_option('display.max_columns', None)\n",
    "pd.set_option('display.max_rows', None)\n",
    "%matplotlib inline\n",
    "plt.rcParams['figure.figsize'] = (14,4)\n",
    "warnings.filterwarnings(action='ignore')\n",
    "LW = 0\n",
    "if LW:\n",
    "    os.chdir(\"/Users/home/Desktop/Research/Coronavirus/Public GitHub\")\n",
    "%run Coronavirus_Music_Functions.ipynb"
   ]
  },
  {
   "cell_type": "code",
   "execution_count": 4,
   "metadata": {},
   "outputs": [
    {
     "data": {
      "text/plain": [
       "(5113, 239)"
      ]
     },
     "execution_count": 4,
     "metadata": {},
     "output_type": "execute_result"
    }
   ],
   "source": [
    "if LW:\n",
    "    with open(\"/Users/home/Desktop/Research/Coronavirus/Public GitHub/factors_all_data.csv\", encoding=\"utf8\", errors='ignore') as file:\n",
    "        all_data = pd.read_csv(file)\n",
    "else:\n",
    "    all_data = pd.read_csv('factors_all_data.csv') \n",
    "all_data.rename(columns={'Demographics_General_Gender': 'Gender'}, inplace=True)\n",
    "all_data.columns = all_data.columns.str.replace(r'^.*_', '', regex=True)\n",
    "all_data.shape"
   ]
  },
  {
   "cell_type": "code",
   "execution_count": 5,
   "metadata": {},
   "outputs": [],
   "source": [
    "living = [c for c in all_data.columns if c.startswith('Living Situation') and 'No Response' not in c]\n",
    "work = [c for c in all_data.columns if c.startswith('Ways Work Affected') and 'No Response' not in c]\n",
    "covid = [c for c in all_data.columns if c.startswith('Infected with COVID') and 'No Response' not in c]\n",
    "col_list = living + work + covid\n",
    "\n",
    "all_X = all_data.loc[:,col_list]\n",
    "all_X.reset_index(inplace = True, drop = True)"
   ]
  },
  {
   "cell_type": "markdown",
   "metadata": {},
   "source": [
    "### **Factor 1: Negative Emotions**"
   ]
  },
  {
   "cell_type": "code",
   "execution_count": 6,
   "metadata": {},
   "outputs": [],
   "source": [
    "y = all_data.loc[:,'F1']"
   ]
  },
  {
   "cell_type": "code",
   "execution_count": 7,
   "metadata": {},
   "outputs": [
    {
     "data": {
      "text/plain": [
       "<matplotlib.axes._subplots.AxesSubplot at 0x110a39790>"
      ]
     },
     "execution_count": 7,
     "metadata": {},
     "output_type": "execute_result"
    },
    {
     "data": {
      "image/png": "[encoded data removed]",
      "text/plain": [
       "<Figure size 576x576 with 2 Axes>"
      ]
     },
     "metadata": {
      "needs_background": "light"
     },
     "output_type": "display_data"
    }
   ],
   "source": [
    "# living situation\n",
    "data = all_X.loc[:,living]\n",
    "data.columns = data.columns.str.replace(r'^.*-', '', regex=True)\n",
    "data['NEGATIVE EMOTIONS'] = y\n",
    "corr = data.corr()\n",
    "fig, ax = plt.subplots(figsize=(8, 8))\n",
    "cmap = sns.diverging_palette(230, 10, as_cmap=True)\n",
    "mask = np.triu(np.ones_like(corr))\n",
    "sns.heatmap(corr, cmap = cmap, fmt = '.2g', vmax = 1.0, vmin = -1.0, center = 0, square = True, \\\n",
    "            mask = mask, linewidths = 0.7, cbar_kws = {\"shrink\": 0.5}, annot = False)\n",
    "\n",
    "# NOTE from LF TODO CHECK: why is alone highly correlated with sibcous? Someone living alone should not have that.. "
   ]
  },
  {
   "cell_type": "code",
   "execution_count": 26,
   "metadata": {},
   "outputs": [
    {
     "data": {
      "text/html": [
       "<table class=\"simpletable\">\n",
       "<caption>OLS Regression Results</caption>\n",
       "<tr>\n",
       "  <th>Dep. Variable:</th>           <td>F3</td>        <th>  R-squared:         </th> <td>   0.072</td> \n",
       "</tr>\n",
       "<tr>\n",
       "  <th>Model:</th>                   <td>OLS</td>       <th>  Adj. R-squared:    </th> <td>   0.070</td> \n",
       "</tr>\n",
       "<tr>\n",
       "  <th>Method:</th>             <td>Least Squares</td>  <th>  F-statistic:       </th> <td>   39.46</td> \n",
       "</tr>\n",
       "<tr>\n",
       "  <th>Date:</th>             <td>Wed, 09 Dec 2020</td> <th>  Prob (F-statistic):</th> <td>1.38e-75</td> \n",
       "</tr>\n",
       "<tr>\n",
       "  <th>Time:</th>                 <td>22:21:31</td>     <th>  Log-Likelihood:    </th> <td> -6353.4</td> \n",
       "</tr>\n",
       "<tr>\n",
       "  <th>No. Observations:</th>      <td>  5113</td>      <th>  AIC:               </th> <td>1.273e+04</td>\n",
       "</tr>\n",
       "<tr>\n",
       "  <th>Df Residuals:</th>          <td>  5102</td>      <th>  BIC:               </th> <td>1.280e+04</td>\n",
       "</tr>\n",
       "<tr>\n",
       "  <th>Df Model:</th>              <td>    10</td>      <th>                     </th>     <td> </td>    \n",
       "</tr>\n",
       "<tr>\n",
       "  <th>Covariance Type:</th>      <td>nonrobust</td>    <th>                     </th>     <td> </td>    \n",
       "</tr>\n",
       "</table>\n",
       "<table class=\"simpletable\">\n",
       "<tr>\n",
       "     <td></td>        <th>coef</th>     <th>std err</th>      <th>t</th>      <th>P>|t|</th>  <th>[0.025</th>    <th>0.975]</th>  \n",
       "</tr>\n",
       "<tr>\n",
       "  <th>const</th>   <td>   -0.3991</td> <td>    0.036</td> <td>  -11.127</td> <td> 0.000</td> <td>   -0.469</td> <td>   -0.329</td>\n",
       "</tr>\n",
       "<tr>\n",
       "  <th>Alone</th>   <td>    0.5147</td> <td>    0.046</td> <td>   11.277</td> <td> 0.000</td> <td>    0.425</td> <td>    0.604</td>\n",
       "</tr>\n",
       "<tr>\n",
       "  <th>Child</th>   <td>    0.4014</td> <td>    0.028</td> <td>   14.595</td> <td> 0.000</td> <td>    0.348</td> <td>    0.455</td>\n",
       "</tr>\n",
       "<tr>\n",
       "  <th>Elderly</th> <td>    0.2587</td> <td>    0.092</td> <td>    2.799</td> <td> 0.005</td> <td>    0.077</td> <td>    0.440</td>\n",
       "</tr>\n",
       "<tr>\n",
       "  <th>Friend</th>  <td>    0.5809</td> <td>    0.093</td> <td>    6.257</td> <td> 0.000</td> <td>    0.399</td> <td>    0.763</td>\n",
       "</tr>\n",
       "<tr>\n",
       "  <th>Other</th>   <td>   -0.2677</td> <td>    0.089</td> <td>   -3.022</td> <td> 0.003</td> <td>   -0.441</td> <td>   -0.094</td>\n",
       "</tr>\n",
       "<tr>\n",
       "  <th>Parent</th>  <td>    0.2696</td> <td>    0.038</td> <td>    7.067</td> <td> 0.000</td> <td>    0.195</td> <td>    0.344</td>\n",
       "</tr>\n",
       "<tr>\n",
       "  <th>Partner</th> <td>    0.2772</td> <td>    0.035</td> <td>    7.819</td> <td> 0.000</td> <td>    0.208</td> <td>    0.347</td>\n",
       "</tr>\n",
       "<tr>\n",
       "  <th>Pet</th>     <td>   -0.1482</td> <td>    0.029</td> <td>   -5.026</td> <td> 0.000</td> <td>   -0.206</td> <td>   -0.090</td>\n",
       "</tr>\n",
       "<tr>\n",
       "  <th>Shared</th>  <td>   -0.0182</td> <td>    0.085</td> <td>   -0.214</td> <td> 0.830</td> <td>   -0.184</td> <td>    0.148</td>\n",
       "</tr>\n",
       "<tr>\n",
       "  <th>SibCous</th> <td>   -0.4359</td> <td>    0.072</td> <td>   -6.044</td> <td> 0.000</td> <td>   -0.577</td> <td>   -0.295</td>\n",
       "</tr>\n",
       "</table>\n",
       "<table class=\"simpletable\">\n",
       "<tr>\n",
       "  <th>Omnibus:</th>       <td>417.464</td> <th>  Durbin-Watson:     </th> <td>   1.529</td> \n",
       "</tr>\n",
       "<tr>\n",
       "  <th>Prob(Omnibus):</th> <td> 0.000</td>  <th>  Jarque-Bera (JB):  </th> <td> 737.615</td> \n",
       "</tr>\n",
       "<tr>\n",
       "  <th>Skew:</th>          <td> 0.587</td>  <th>  Prob(JB):          </th> <td>6.74e-161</td>\n",
       "</tr>\n",
       "<tr>\n",
       "  <th>Kurtosis:</th>      <td> 4.444</td>  <th>  Cond. No.          </th> <td>    11.2</td> \n",
       "</tr>\n",
       "</table><br/><br/>Warnings:<br/>[1] Standard Errors assume that the covariance matrix of the errors is correctly specified."
      ],
      "text/plain": [
       "<class 'statsmodels.iolib.summary.Summary'>\n",
       "\"\"\"\n",
       "                            OLS Regression Results                            \n",
       "==============================================================================\n",
       "Dep. Variable:                     F3   R-squared:                       0.072\n",
       "Model:                            OLS   Adj. R-squared:                  0.070\n",
       "Method:                 Least Squares   F-statistic:                     39.46\n",
       "Date:                Wed, 09 Dec 2020   Prob (F-statistic):           1.38e-75\n",
       "Time:                        22:21:31   Log-Likelihood:                -6353.4\n",
       "No. Observations:                5113   AIC:                         1.273e+04\n",
       "Df Residuals:                    5102   BIC:                         1.280e+04\n",
       "Df Model:                          10                                         \n",
       "Covariance Type:            nonrobust                                         \n",
       "==============================================================================\n",
       "                 coef    std err          t      P>|t|      [0.025      0.975]\n",
       "------------------------------------------------------------------------------\n",
       "const         -0.3991      0.036    -11.127      0.000      -0.469      -0.329\n",
       "Alone          0.5147      0.046     11.277      0.000       0.425       0.604\n",
       "Child          0.4014      0.028     14.595      0.000       0.348       0.455\n",
       "Elderly        0.2587      0.092      2.799      0.005       0.077       0.440\n",
       "Friend         0.5809      0.093      6.257      0.000       0.399       0.763\n",
       "Other         -0.2677      0.089     -3.022      0.003      -0.441      -0.094\n",
       "Parent         0.2696      0.038      7.067      0.000       0.195       0.344\n",
       "Partner        0.2772      0.035      7.819      0.000       0.208       0.347\n",
       "Pet           -0.1482      0.029     -5.026      0.000      -0.206      -0.090\n",
       "Shared        -0.0182      0.085     -0.214      0.830      -0.184       0.148\n",
       "SibCous       -0.4359      0.072     -6.044      0.000      -0.577      -0.295\n",
       "==============================================================================\n",
       "Omnibus:                      417.464   Durbin-Watson:                   1.529\n",
       "Prob(Omnibus):                  0.000   Jarque-Bera (JB):              737.615\n",
       "Skew:                           0.587   Prob(JB):                    6.74e-161\n",
       "Kurtosis:                       4.444   Cond. No.                         11.2\n",
       "==============================================================================\n",
       "\n",
       "Warnings:\n",
       "[1] Standard Errors assume that the covariance matrix of the errors is correctly specified.\n",
       "\"\"\""
      ]
     },
     "execution_count": 26,
     "metadata": {},
     "output_type": "execute_result"
    }
   ],
   "source": [
    "# NOTE from LF: so we are predicting continuous factor score from binary OHE columns? Does this make sense?\n",
    "# From the corrs above it's possible some predictors might need to be dropped. But we check VIFs (added a cell below) \n",
    "# We might consider checking VIFs for all. I have to say I'm still confused though we alone should be correlated highly with anything else besides maybe pet.. \n",
    "\n",
    "X = all_X.loc[:,living]\n",
    "X.columns = X.columns.str.replace(r'^.*-', '', regex=True)\n",
    "X = sm.add_constant(X)\n",
    "\n",
    "avg_ols_model = sm.OLS(y, X)\n",
    "avg_results = avg_ols_model.fit(L1_wt=1, refit=True)\n",
    "f1_living_r2 = avg_results.rsquared\n",
    "avg_results.summary()"
   ]
  },
  {
   "cell_type": "code",
   "execution_count": 27,
   "metadata": {},
   "outputs": [
    {
     "data": {
      "text/html": [
       "<div>\n",
       "<style scoped>\n",
       "    .dataframe tbody tr th:only-of-type {\n",
       "        vertical-align: middle;\n",
       "    }\n",
       "\n",
       "    .dataframe tbody tr th {\n",
       "        vertical-align: top;\n",
       "    }\n",
       "\n",
       "    .dataframe thead th {\n",
       "        text-align: right;\n",
       "    }\n",
       "</style>\n",
       "<table border=\"1\" class=\"dataframe\">\n",
       "  <thead>\n",
       "    <tr style=\"text-align: right;\">\n",
       "      <th></th>\n",
       "      <th>VIF Factor</th>\n",
       "      <th>features</th>\n",
       "    </tr>\n",
       "  </thead>\n",
       "  <tbody>\n",
       "    <tr>\n",
       "      <th>0</th>\n",
       "      <td>9.339082</td>\n",
       "      <td>const</td>\n",
       "    </tr>\n",
       "    <tr>\n",
       "      <th>1</th>\n",
       "      <td>2.382431</td>\n",
       "      <td>Alone</td>\n",
       "    </tr>\n",
       "    <tr>\n",
       "      <th>2</th>\n",
       "      <td>1.182721</td>\n",
       "      <td>Child</td>\n",
       "    </tr>\n",
       "    <tr>\n",
       "      <th>3</th>\n",
       "      <td>1.025683</td>\n",
       "      <td>Elderly</td>\n",
       "    </tr>\n",
       "    <tr>\n",
       "      <th>4</th>\n",
       "      <td>1.058317</td>\n",
       "      <td>Friend</td>\n",
       "    </tr>\n",
       "    <tr>\n",
       "      <th>5</th>\n",
       "      <td>1.049320</td>\n",
       "      <td>Other</td>\n",
       "    </tr>\n",
       "    <tr>\n",
       "      <th>6</th>\n",
       "      <td>1.652179</td>\n",
       "      <td>Parent</td>\n",
       "    </tr>\n",
       "    <tr>\n",
       "      <th>7</th>\n",
       "      <td>2.225755</td>\n",
       "      <td>Partner</td>\n",
       "    </tr>\n",
       "    <tr>\n",
       "      <th>8</th>\n",
       "      <td>1.037456</td>\n",
       "      <td>Pet</td>\n",
       "    </tr>\n",
       "    <tr>\n",
       "      <th>9</th>\n",
       "      <td>1.040411</td>\n",
       "      <td>Shared</td>\n",
       "    </tr>\n",
       "    <tr>\n",
       "      <th>10</th>\n",
       "      <td>1.541201</td>\n",
       "      <td>SibCous</td>\n",
       "    </tr>\n",
       "  </tbody>\n",
       "</table>\n",
       "</div>"
      ],
      "text/plain": [
       "    VIF Factor features\n",
       "0     9.339082    const\n",
       "1     2.382431    Alone\n",
       "2     1.182721    Child\n",
       "3     1.025683  Elderly\n",
       "4     1.058317   Friend\n",
       "5     1.049320    Other\n",
       "6     1.652179   Parent\n",
       "7     2.225755  Partner\n",
       "8     1.037456      Pet\n",
       "9     1.040411   Shared\n",
       "10    1.541201  SibCous"
      ]
     },
     "execution_count": 27,
     "metadata": {},
     "output_type": "execute_result"
    }
   ],
   "source": [
    "vif = pd.DataFrame()\n",
    "vif[\"VIF Factor\"] = [variance_inflation_factor(X.values, i) for i in range(X.shape[1])]\n",
    "vif[\"features\"] = X.columns\n",
    "vif"
   ]
  },
  {
   "cell_type": "code",
   "execution_count": 9,
   "metadata": {},
   "outputs": [
    {
     "data": {
      "text/plain": [
       "<matplotlib.axes._subplots.AxesSubplot at 0x1309cb4d0>"
      ]
     },
     "execution_count": 9,
     "metadata": {},
     "output_type": "execute_result"
    },
    {
     "data": {
      "image/png": "[encoded data removed]",
      "text/plain": [
       "<Figure size 576x576 with 2 Axes>"
      ]
     },
     "metadata": {
      "needs_background": "light"
     },
     "output_type": "display_data"
    }
   ],
   "source": [
    "# work situation\n",
    "data = all_X.loc[:,work]\n",
    "data.columns = data.columns.str.replace(r'^.*-', '', regex=True)\n",
    "data['NEGATIVE EMOTIONS'] = y\n",
    "corr = data.corr()\n",
    "fig, ax = plt.subplots(figsize=(8, 8))\n",
    "cmap = sns.diverging_palette(230, 10, as_cmap=True)\n",
    "mask = np.triu(np.ones_like(corr))\n",
    "sns.heatmap(corr, cmap = cmap, fmt = '.2g', vmax = 1.0, vmin = -1.0, center = 0, square = True, \\\n",
    "            mask = mask, linewidths = 0.7, cbar_kws = {\"shrink\": 0.5}, annot = False)"
   ]
  },
  {
   "cell_type": "code",
   "execution_count": 10,
   "metadata": {},
   "outputs": [
    {
     "data": {
      "text/html": [
       "<table class=\"simpletable\">\n",
       "<caption>OLS Regression Results</caption>\n",
       "<tr>\n",
       "  <th>Dep. Variable:</th>           <td>F1</td>        <th>  R-squared:         </th> <td>   0.046</td> \n",
       "</tr>\n",
       "<tr>\n",
       "  <th>Model:</th>                   <td>OLS</td>       <th>  Adj. R-squared:    </th> <td>   0.045</td> \n",
       "</tr>\n",
       "<tr>\n",
       "  <th>Method:</th>             <td>Least Squares</td>  <th>  F-statistic:       </th> <td>   27.36</td> \n",
       "</tr>\n",
       "<tr>\n",
       "  <th>Date:</th>             <td>Wed, 09 Dec 2020</td> <th>  Prob (F-statistic):</th> <td>9.35e-47</td> \n",
       "</tr>\n",
       "<tr>\n",
       "  <th>Time:</th>                 <td>22:03:36</td>     <th>  Log-Likelihood:    </th> <td> -6817.8</td> \n",
       "</tr>\n",
       "<tr>\n",
       "  <th>No. Observations:</th>      <td>  5113</td>      <th>  AIC:               </th> <td>1.366e+04</td>\n",
       "</tr>\n",
       "<tr>\n",
       "  <th>Df Residuals:</th>          <td>  5104</td>      <th>  BIC:               </th> <td>1.372e+04</td>\n",
       "</tr>\n",
       "<tr>\n",
       "  <th>Df Model:</th>              <td>     9</td>      <th>                     </th>     <td> </td>    \n",
       "</tr>\n",
       "<tr>\n",
       "  <th>Covariance Type:</th>      <td>nonrobust</td>    <th>                     </th>     <td> </td>    \n",
       "</tr>\n",
       "</table>\n",
       "<table class=\"simpletable\">\n",
       "<tr>\n",
       "            <td></td>              <th>coef</th>     <th>std err</th>      <th>t</th>      <th>P>|t|</th>  <th>[0.025</th>    <th>0.975]</th>  \n",
       "</tr>\n",
       "<tr>\n",
       "  <th>const</th>                <td>   -0.2173</td> <td>    0.031</td> <td>   -6.936</td> <td> 0.000</td> <td>   -0.279</td> <td>   -0.156</td>\n",
       "</tr>\n",
       "<tr>\n",
       "  <th>Homeschool Children</th>  <td>    0.0453</td> <td>    0.045</td> <td>    1.011</td> <td> 0.312</td> <td>   -0.043</td> <td>    0.133</td>\n",
       "</tr>\n",
       "<tr>\n",
       "  <th>Job At Risk</th>          <td>    0.3737</td> <td>    0.054</td> <td>    6.888</td> <td> 0.000</td> <td>    0.267</td> <td>    0.480</td>\n",
       "</tr>\n",
       "<tr>\n",
       "  <th>Lost Job</th>             <td>    0.3342</td> <td>    0.049</td> <td>    6.786</td> <td> 0.000</td> <td>    0.238</td> <td>    0.431</td>\n",
       "</tr>\n",
       "<tr>\n",
       "  <th>Lower Income</th>         <td>    0.2578</td> <td>    0.037</td> <td>    6.992</td> <td> 0.000</td> <td>    0.185</td> <td>    0.330</td>\n",
       "</tr>\n",
       "<tr>\n",
       "  <th>Now Work From Home</th>   <td>    0.1563</td> <td>    0.035</td> <td>    4.479</td> <td> 0.000</td> <td>    0.088</td> <td>    0.225</td>\n",
       "</tr>\n",
       "<tr>\n",
       "  <th>Reduced Hours</th>        <td>    0.1862</td> <td>    0.039</td> <td>    4.777</td> <td> 0.000</td> <td>    0.110</td> <td>    0.263</td>\n",
       "</tr>\n",
       "<tr>\n",
       "  <th>Still Go To Work</th>     <td>    0.1112</td> <td>    0.038</td> <td>    2.953</td> <td> 0.003</td> <td>    0.037</td> <td>    0.185</td>\n",
       "</tr>\n",
       "<tr>\n",
       "  <th>Still Work From Home</th> <td>    0.0910</td> <td>    0.038</td> <td>    2.417</td> <td> 0.016</td> <td>    0.017</td> <td>    0.165</td>\n",
       "</tr>\n",
       "</table>\n",
       "<table class=\"simpletable\">\n",
       "<tr>\n",
       "  <th>Omnibus:</th>       <td>176.719</td> <th>  Durbin-Watson:     </th> <td>   1.913</td>\n",
       "</tr>\n",
       "<tr>\n",
       "  <th>Prob(Omnibus):</th> <td> 0.000</td>  <th>  Jarque-Bera (JB):  </th> <td> 212.645</td>\n",
       "</tr>\n",
       "<tr>\n",
       "  <th>Skew:</th>          <td>-0.410</td>  <th>  Prob(JB):          </th> <td>6.68e-47</td>\n",
       "</tr>\n",
       "<tr>\n",
       "  <th>Kurtosis:</th>      <td> 3.571</td>  <th>  Cond. No.          </th> <td>    5.91</td>\n",
       "</tr>\n",
       "</table><br/><br/>Warnings:<br/>[1] Standard Errors assume that the covariance matrix of the errors is correctly specified."
      ],
      "text/plain": [
       "<class 'statsmodels.iolib.summary.Summary'>\n",
       "\"\"\"\n",
       "                            OLS Regression Results                            \n",
       "==============================================================================\n",
       "Dep. Variable:                     F1   R-squared:                       0.046\n",
       "Model:                            OLS   Adj. R-squared:                  0.045\n",
       "Method:                 Least Squares   F-statistic:                     27.36\n",
       "Date:                Wed, 09 Dec 2020   Prob (F-statistic):           9.35e-47\n",
       "Time:                        22:03:36   Log-Likelihood:                -6817.8\n",
       "No. Observations:                5113   AIC:                         1.366e+04\n",
       "Df Residuals:                    5104   BIC:                         1.372e+04\n",
       "Df Model:                           9                                         \n",
       "Covariance Type:            nonrobust                                         \n",
       "========================================================================================\n",
       "                           coef    std err          t      P>|t|      [0.025      0.975]\n",
       "----------------------------------------------------------------------------------------\n",
       "const                   -0.2173      0.031     -6.936      0.000      -0.279      -0.156\n",
       "Homeschool Children      0.0453      0.045      1.011      0.312      -0.043       0.133\n",
       "Job At Risk              0.3737      0.054      6.888      0.000       0.267       0.480\n",
       "Lost Job                 0.3342      0.049      6.786      0.000       0.238       0.431\n",
       "Lower Income             0.2578      0.037      6.992      0.000       0.185       0.330\n",
       "Now Work From Home       0.1563      0.035      4.479      0.000       0.088       0.225\n",
       "Reduced Hours            0.1862      0.039      4.777      0.000       0.110       0.263\n",
       "Still Go To Work         0.1112      0.038      2.953      0.003       0.037       0.185\n",
       "Still Work From Home     0.0910      0.038      2.417      0.016       0.017       0.165\n",
       "==============================================================================\n",
       "Omnibus:                      176.719   Durbin-Watson:                   1.913\n",
       "Prob(Omnibus):                  0.000   Jarque-Bera (JB):              212.645\n",
       "Skew:                          -0.410   Prob(JB):                     6.68e-47\n",
       "Kurtosis:                       3.571   Cond. No.                         5.91\n",
       "==============================================================================\n",
       "\n",
       "Warnings:\n",
       "[1] Standard Errors assume that the covariance matrix of the errors is correctly specified.\n",
       "\"\"\""
      ]
     },
     "execution_count": 10,
     "metadata": {},
     "output_type": "execute_result"
    }
   ],
   "source": [
    "X = all_X.loc[:,work]\n",
    "X.columns = X.columns.str.replace(r'^.*-', '', regex=True)\n",
    "X = sm.add_constant(X)\n",
    "\n",
    "avg_ols_model = sm.OLS(y, X)\n",
    "avg_results = avg_ols_model.fit_regularized(L1_wt=1, refit=True)\n",
    "f1_work_r2 = avg_results.rsquared\n",
    "avg_results.summary()"
   ]
  },
  {
   "cell_type": "code",
   "execution_count": 11,
   "metadata": {},
   "outputs": [
    {
     "data": {
      "text/plain": [
       "<matplotlib.axes._subplots.AxesSubplot at 0x13139ba10>"
      ]
     },
     "execution_count": 11,
     "metadata": {},
     "output_type": "execute_result"
    },
    {
     "data": {
      "image/png": "[encoded data removed]",
      "text/plain": [
       "<Figure size 576x576 with 2 Axes>"
      ]
     },
     "metadata": {
      "needs_background": "light"
     },
     "output_type": "display_data"
    }
   ],
   "source": [
    "# contact with Covid-19\n",
    "data = all_X.loc[:,covid]\n",
    "data.columns = data.columns.str.replace(r'^.*-', '', regex=True)\n",
    "data['NEGATIVE EMOTIONS'] = y\n",
    "corr = data.corr()\n",
    "fig, ax = plt.subplots(figsize=(8, 8))\n",
    "cmap = sns.diverging_palette(230, 10, as_cmap=True)\n",
    "mask = np.triu(np.ones_like(corr))\n",
    "sns.heatmap(corr, cmap = cmap, fmt = '.2g', vmax = 1.0, vmin = -1.0, center = 0, square = True, \\\n",
    "            mask = mask, linewidths = 0.7, cbar_kws = {\"shrink\": 0.5}, annot = False)"
   ]
  },
  {
   "cell_type": "code",
   "execution_count": 12,
   "metadata": {},
   "outputs": [
    {
     "data": {
      "text/html": [
       "<table class=\"simpletable\">\n",
       "<caption>OLS Regression Results</caption>\n",
       "<tr>\n",
       "  <th>Dep. Variable:</th>           <td>F1</td>        <th>  R-squared:         </th> <td>   0.085</td> \n",
       "</tr>\n",
       "<tr>\n",
       "  <th>Model:</th>                   <td>OLS</td>       <th>  Adj. R-squared:    </th> <td>   0.084</td> \n",
       "</tr>\n",
       "<tr>\n",
       "  <th>Method:</th>             <td>Least Squares</td>  <th>  F-statistic:       </th> <td>   59.14</td> \n",
       "</tr>\n",
       "<tr>\n",
       "  <th>Date:</th>             <td>Wed, 09 Dec 2020</td> <th>  Prob (F-statistic):</th> <td>9.48e-93</td> \n",
       "</tr>\n",
       "<tr>\n",
       "  <th>Time:</th>                 <td>22:03:36</td>     <th>  Log-Likelihood:    </th> <td> -6711.6</td> \n",
       "</tr>\n",
       "<tr>\n",
       "  <th>No. Observations:</th>      <td>  5113</td>      <th>  AIC:               </th> <td>1.344e+04</td>\n",
       "</tr>\n",
       "<tr>\n",
       "  <th>Df Residuals:</th>          <td>  5105</td>      <th>  BIC:               </th> <td>1.350e+04</td>\n",
       "</tr>\n",
       "<tr>\n",
       "  <th>Df Model:</th>              <td>     8</td>      <th>                     </th>     <td> </td>    \n",
       "</tr>\n",
       "<tr>\n",
       "  <th>Covariance Type:</th>      <td>nonrobust</td>    <th>                     </th>     <td> </td>    \n",
       "</tr>\n",
       "</table>\n",
       "<table class=\"simpletable\">\n",
       "<tr>\n",
       "               <td></td>                  <th>coef</th>     <th>std err</th>      <th>t</th>      <th>P>|t|</th>  <th>[0.025</th>    <th>0.975]</th>  \n",
       "</tr>\n",
       "<tr>\n",
       "  <th>const</th>                       <td>   -0.0156</td> <td>    0.021</td> <td>   -0.756</td> <td> 0.450</td> <td>   -0.056</td> <td>    0.025</td>\n",
       "</tr>\n",
       "<tr>\n",
       "  <th>I Am Infected</th>               <td>    0.5085</td> <td>    0.070</td> <td>    7.300</td> <td> 0.000</td> <td>    0.372</td> <td>    0.645</td>\n",
       "</tr>\n",
       "<tr>\n",
       "  <th>I Am Mourning A Loss</th>        <td>    0.3170</td> <td>    0.068</td> <td>    4.656</td> <td> 0.000</td> <td>    0.184</td> <td>    0.451</td>\n",
       "</tr>\n",
       "<tr>\n",
       "  <th>I Have Professional Contact</th> <td>    0.4436</td> <td>    0.057</td> <td>    7.789</td> <td> 0.000</td> <td>    0.332</td> <td>    0.555</td>\n",
       "</tr>\n",
       "<tr>\n",
       "  <th>I Live With Someone</th>         <td>    0.4715</td> <td>    0.073</td> <td>    6.501</td> <td> 0.000</td> <td>    0.329</td> <td>    0.614</td>\n",
       "</tr>\n",
       "<tr>\n",
       "  <th>None</th>                        <td>   -0.1736</td> <td>    0.029</td> <td>   -6.092</td> <td> 0.000</td> <td>   -0.229</td> <td>   -0.118</td>\n",
       "</tr>\n",
       "<tr>\n",
       "  <th>Prefer Not To Say</th>           <td>   -0.2394</td> <td>    0.068</td> <td>   -3.497</td> <td> 0.000</td> <td>   -0.374</td> <td>   -0.105</td>\n",
       "</tr>\n",
       "<tr>\n",
       "  <th>Someone I Am Close To</th>       <td>    0.1602</td> <td>    0.040</td> <td>    4.034</td> <td> 0.000</td> <td>    0.082</td> <td>    0.238</td>\n",
       "</tr>\n",
       "</table>\n",
       "<table class=\"simpletable\">\n",
       "<tr>\n",
       "  <th>Omnibus:</th>       <td>214.368</td> <th>  Durbin-Watson:     </th> <td>   1.917</td>\n",
       "</tr>\n",
       "<tr>\n",
       "  <th>Prob(Omnibus):</th> <td> 0.000</td>  <th>  Jarque-Bera (JB):  </th> <td> 266.752</td>\n",
       "</tr>\n",
       "<tr>\n",
       "  <th>Skew:</th>          <td>-0.453</td>  <th>  Prob(JB):          </th> <td>1.19e-58</td>\n",
       "</tr>\n",
       "<tr>\n",
       "  <th>Kurtosis:</th>      <td> 3.656</td>  <th>  Cond. No.          </th> <td>    7.06</td>\n",
       "</tr>\n",
       "</table><br/><br/>Warnings:<br/>[1] Standard Errors assume that the covariance matrix of the errors is correctly specified."
      ],
      "text/plain": [
       "<class 'statsmodels.iolib.summary.Summary'>\n",
       "\"\"\"\n",
       "                            OLS Regression Results                            \n",
       "==============================================================================\n",
       "Dep. Variable:                     F1   R-squared:                       0.085\n",
       "Model:                            OLS   Adj. R-squared:                  0.084\n",
       "Method:                 Least Squares   F-statistic:                     59.14\n",
       "Date:                Wed, 09 Dec 2020   Prob (F-statistic):           9.48e-93\n",
       "Time:                        22:03:36   Log-Likelihood:                -6711.6\n",
       "No. Observations:                5113   AIC:                         1.344e+04\n",
       "Df Residuals:                    5105   BIC:                         1.350e+04\n",
       "Df Model:                           8                                         \n",
       "Covariance Type:            nonrobust                                         \n",
       "===============================================================================================\n",
       "                                  coef    std err          t      P>|t|      [0.025      0.975]\n",
       "-----------------------------------------------------------------------------------------------\n",
       "const                          -0.0156      0.021     -0.756      0.450      -0.056       0.025\n",
       "I Am Infected                   0.5085      0.070      7.300      0.000       0.372       0.645\n",
       "I Am Mourning A Loss            0.3170      0.068      4.656      0.000       0.184       0.451\n",
       "I Have Professional Contact     0.4436      0.057      7.789      0.000       0.332       0.555\n",
       "I Live With Someone             0.4715      0.073      6.501      0.000       0.329       0.614\n",
       "None                           -0.1736      0.029     -6.092      0.000      -0.229      -0.118\n",
       "Prefer Not To Say              -0.2394      0.068     -3.497      0.000      -0.374      -0.105\n",
       "Someone I Am Close To           0.1602      0.040      4.034      0.000       0.082       0.238\n",
       "==============================================================================\n",
       "Omnibus:                      214.368   Durbin-Watson:                   1.917\n",
       "Prob(Omnibus):                  0.000   Jarque-Bera (JB):              266.752\n",
       "Skew:                          -0.453   Prob(JB):                     1.19e-58\n",
       "Kurtosis:                       3.656   Cond. No.                         7.06\n",
       "==============================================================================\n",
       "\n",
       "Warnings:\n",
       "[1] Standard Errors assume that the covariance matrix of the errors is correctly specified.\n",
       "\"\"\""
      ]
     },
     "execution_count": 12,
     "metadata": {},
     "output_type": "execute_result"
    }
   ],
   "source": [
    "X = all_X.loc[:,covid]\n",
    "X.columns = X.columns.str.replace(r'^.*-', '', regex=True)\n",
    "X = sm.add_constant(X)\n",
    "\n",
    "avg_ols_model = sm.OLS(y, X)\n",
    "avg_results = avg_ols_model.fit_regularized(L1_wt=1, refit=True)\n",
    "f1_covid_r2 = avg_results.rsquared\n",
    "avg_results.summary()"
   ]
  },
  {
   "cell_type": "markdown",
   "metadata": {},
   "source": [
    "### **Factor 3: Positive Emotions**"
   ]
  },
  {
   "cell_type": "code",
   "execution_count": 13,
   "metadata": {},
   "outputs": [],
   "source": [
    "y = all_data.loc[:,'F3']"
   ]
  },
  {
   "cell_type": "code",
   "execution_count": 14,
   "metadata": {},
   "outputs": [
    {
     "data": {
      "text/plain": [
       "<matplotlib.axes._subplots.AxesSubplot at 0x131b86590>"
      ]
     },
     "execution_count": 14,
     "metadata": {},
     "output_type": "execute_result"
    },
    {
     "data": {
      "image/png": "[encoded data removed]",
      "text/plain": [
       "<Figure size 576x576 with 2 Axes>"
      ]
     },
     "metadata": {
      "needs_background": "light"
     },
     "output_type": "display_data"
    }
   ],
   "source": [
    "# living situation\n",
    "data = all_X.loc[:,living]\n",
    "data.columns = data.columns.str.replace(r'^.*-', '', regex=True)\n",
    "data['POSITIVE EMOTIONS'] = y\n",
    "corr = data.corr()\n",
    "fig, ax = plt.subplots(figsize=(8, 8))\n",
    "cmap = sns.diverging_palette(230, 10, as_cmap=True)\n",
    "mask = np.triu(np.ones_like(corr))\n",
    "sns.heatmap(corr, cmap = cmap, fmt = '.2g', vmax = 1.0, vmin = -1.0, center = 0, square = True, \\\n",
    "            mask = mask, linewidths = 0.7, cbar_kws = {\"shrink\": 0.5}, annot = False)"
   ]
  },
  {
   "cell_type": "code",
   "execution_count": 15,
   "metadata": {},
   "outputs": [
    {
     "data": {
      "text/html": [
       "<table class=\"simpletable\">\n",
       "<caption>OLS Regression Results</caption>\n",
       "<tr>\n",
       "  <th>Dep. Variable:</th>           <td>F3</td>        <th>  R-squared:         </th> <td>   0.072</td> \n",
       "</tr>\n",
       "<tr>\n",
       "  <th>Model:</th>                   <td>OLS</td>       <th>  Adj. R-squared:    </th> <td>   0.070</td> \n",
       "</tr>\n",
       "<tr>\n",
       "  <th>Method:</th>             <td>Least Squares</td>  <th>  F-statistic:       </th> <td>   35.88</td> \n",
       "</tr>\n",
       "<tr>\n",
       "  <th>Date:</th>             <td>Wed, 09 Dec 2020</td> <th>  Prob (F-statistic):</th> <td>8.58e-75</td> \n",
       "</tr>\n",
       "<tr>\n",
       "  <th>Time:</th>                 <td>22:03:37</td>     <th>  Log-Likelihood:    </th> <td> -6353.4</td> \n",
       "</tr>\n",
       "<tr>\n",
       "  <th>No. Observations:</th>      <td>  5113</td>      <th>  AIC:               </th> <td>1.273e+04</td>\n",
       "</tr>\n",
       "<tr>\n",
       "  <th>Df Residuals:</th>          <td>  5102</td>      <th>  BIC:               </th> <td>1.281e+04</td>\n",
       "</tr>\n",
       "<tr>\n",
       "  <th>Df Model:</th>              <td>    11</td>      <th>                     </th>     <td> </td>    \n",
       "</tr>\n",
       "<tr>\n",
       "  <th>Covariance Type:</th>      <td>nonrobust</td>    <th>                     </th>     <td> </td>    \n",
       "</tr>\n",
       "</table>\n",
       "<table class=\"simpletable\">\n",
       "<tr>\n",
       "     <td></td>        <th>coef</th>     <th>std err</th>      <th>t</th>      <th>P>|t|</th>  <th>[0.025</th>    <th>0.975]</th>  \n",
       "</tr>\n",
       "<tr>\n",
       "  <th>const</th>   <td>   -0.3991</td> <td>    0.036</td> <td>  -11.127</td> <td> 0.000</td> <td>   -0.469</td> <td>   -0.329</td>\n",
       "</tr>\n",
       "<tr>\n",
       "  <th>Alone</th>   <td>    0.5147</td> <td>    0.046</td> <td>   11.277</td> <td> 0.000</td> <td>    0.425</td> <td>    0.604</td>\n",
       "</tr>\n",
       "<tr>\n",
       "  <th>Child</th>   <td>    0.4014</td> <td>    0.028</td> <td>   14.595</td> <td> 0.000</td> <td>    0.348</td> <td>    0.455</td>\n",
       "</tr>\n",
       "<tr>\n",
       "  <th>Elderly</th> <td>    0.2587</td> <td>    0.092</td> <td>    2.799</td> <td> 0.005</td> <td>    0.077</td> <td>    0.440</td>\n",
       "</tr>\n",
       "<tr>\n",
       "  <th>Friend</th>  <td>    0.5809</td> <td>    0.093</td> <td>    6.257</td> <td> 0.000</td> <td>    0.399</td> <td>    0.763</td>\n",
       "</tr>\n",
       "<tr>\n",
       "  <th>Other</th>   <td>   -0.2677</td> <td>    0.089</td> <td>   -3.022</td> <td> 0.003</td> <td>   -0.441</td> <td>   -0.094</td>\n",
       "</tr>\n",
       "<tr>\n",
       "  <th>Parent</th>  <td>    0.2696</td> <td>    0.038</td> <td>    7.067</td> <td> 0.000</td> <td>    0.195</td> <td>    0.344</td>\n",
       "</tr>\n",
       "<tr>\n",
       "  <th>Partner</th> <td>    0.2772</td> <td>    0.035</td> <td>    7.819</td> <td> 0.000</td> <td>    0.208</td> <td>    0.347</td>\n",
       "</tr>\n",
       "<tr>\n",
       "  <th>Pet</th>     <td>   -0.1482</td> <td>    0.029</td> <td>   -5.026</td> <td> 0.000</td> <td>   -0.206</td> <td>   -0.090</td>\n",
       "</tr>\n",
       "<tr>\n",
       "  <th>Shared</th>  <td>   -0.0182</td> <td>    0.085</td> <td>   -0.214</td> <td> 0.830</td> <td>   -0.184</td> <td>    0.148</td>\n",
       "</tr>\n",
       "<tr>\n",
       "  <th>SibCous</th> <td>   -0.4359</td> <td>    0.072</td> <td>   -6.044</td> <td> 0.000</td> <td>   -0.577</td> <td>   -0.295</td>\n",
       "</tr>\n",
       "</table>\n",
       "<table class=\"simpletable\">\n",
       "<tr>\n",
       "  <th>Omnibus:</th>       <td>417.464</td> <th>  Durbin-Watson:     </th> <td>   1.529</td> \n",
       "</tr>\n",
       "<tr>\n",
       "  <th>Prob(Omnibus):</th> <td> 0.000</td>  <th>  Jarque-Bera (JB):  </th> <td> 737.615</td> \n",
       "</tr>\n",
       "<tr>\n",
       "  <th>Skew:</th>          <td> 0.587</td>  <th>  Prob(JB):          </th> <td>6.74e-161</td>\n",
       "</tr>\n",
       "<tr>\n",
       "  <th>Kurtosis:</th>      <td> 4.444</td>  <th>  Cond. No.          </th> <td>    11.2</td> \n",
       "</tr>\n",
       "</table><br/><br/>Warnings:<br/>[1] Standard Errors assume that the covariance matrix of the errors is correctly specified."
      ],
      "text/plain": [
       "<class 'statsmodels.iolib.summary.Summary'>\n",
       "\"\"\"\n",
       "                            OLS Regression Results                            \n",
       "==============================================================================\n",
       "Dep. Variable:                     F3   R-squared:                       0.072\n",
       "Model:                            OLS   Adj. R-squared:                  0.070\n",
       "Method:                 Least Squares   F-statistic:                     35.88\n",
       "Date:                Wed, 09 Dec 2020   Prob (F-statistic):           8.58e-75\n",
       "Time:                        22:03:37   Log-Likelihood:                -6353.4\n",
       "No. Observations:                5113   AIC:                         1.273e+04\n",
       "Df Residuals:                    5102   BIC:                         1.281e+04\n",
       "Df Model:                          11                                         \n",
       "Covariance Type:            nonrobust                                         \n",
       "==============================================================================\n",
       "                 coef    std err          t      P>|t|      [0.025      0.975]\n",
       "------------------------------------------------------------------------------\n",
       "const         -0.3991      0.036    -11.127      0.000      -0.469      -0.329\n",
       "Alone          0.5147      0.046     11.277      0.000       0.425       0.604\n",
       "Child          0.4014      0.028     14.595      0.000       0.348       0.455\n",
       "Elderly        0.2587      0.092      2.799      0.005       0.077       0.440\n",
       "Friend         0.5809      0.093      6.257      0.000       0.399       0.763\n",
       "Other         -0.2677      0.089     -3.022      0.003      -0.441      -0.094\n",
       "Parent         0.2696      0.038      7.067      0.000       0.195       0.344\n",
       "Partner        0.2772      0.035      7.819      0.000       0.208       0.347\n",
       "Pet           -0.1482      0.029     -5.026      0.000      -0.206      -0.090\n",
       "Shared        -0.0182      0.085     -0.214      0.830      -0.184       0.148\n",
       "SibCous       -0.4359      0.072     -6.044      0.000      -0.577      -0.295\n",
       "==============================================================================\n",
       "Omnibus:                      417.464   Durbin-Watson:                   1.529\n",
       "Prob(Omnibus):                  0.000   Jarque-Bera (JB):              737.615\n",
       "Skew:                           0.587   Prob(JB):                    6.74e-161\n",
       "Kurtosis:                       4.444   Cond. No.                         11.2\n",
       "==============================================================================\n",
       "\n",
       "Warnings:\n",
       "[1] Standard Errors assume that the covariance matrix of the errors is correctly specified.\n",
       "\"\"\""
      ]
     },
     "execution_count": 15,
     "metadata": {},
     "output_type": "execute_result"
    }
   ],
   "source": [
    "X = all_X.loc[:,living]\n",
    "X.columns = X.columns.str.replace(r'^.*-', '', regex=True)\n",
    "X = sm.add_constant(X)\n",
    "\n",
    "avg_ols_model = sm.OLS(y, X)\n",
    "avg_results = avg_ols_model.fit_regularized(L1_wt=1, refit=True)\n",
    "avg_results.summary()"
   ]
  },
  {
   "cell_type": "code",
   "execution_count": 16,
   "metadata": {},
   "outputs": [
    {
     "data": {
      "text/plain": [
       "<matplotlib.axes._subplots.AxesSubplot at 0x131bda050>"
      ]
     },
     "execution_count": 16,
     "metadata": {},
     "output_type": "execute_result"
    },
    {
     "data": {
      "image/png": "[encoded data removed]",
      "text/plain": [
       "<Figure size 576x576 with 2 Axes>"
      ]
     },
     "metadata": {
      "needs_background": "light"
     },
     "output_type": "display_data"
    }
   ],
   "source": [
    "# work situation\n",
    "data = all_X.loc[:,work]\n",
    "data.columns = data.columns.str.replace(r'^.*-', '', regex=True)\n",
    "data['POSITIVE EMOTIONS'] = y\n",
    "corr = data.corr()\n",
    "fig, ax = plt.subplots(figsize=(8, 8))\n",
    "cmap = sns.diverging_palette(230, 10, as_cmap=True)\n",
    "mask = np.triu(np.ones_like(corr))\n",
    "sns.heatmap(corr, cmap = cmap, fmt = '.2g', vmax = 1.0, vmin = -1.0, center = 0, square = True, \\\n",
    "            mask = mask, linewidths = 0.7, cbar_kws = {\"shrink\": 0.5}, annot = False)"
   ]
  },
  {
   "cell_type": "code",
   "execution_count": 17,
   "metadata": {},
   "outputs": [
    {
     "data": {
      "text/html": [
       "<table class=\"simpletable\">\n",
       "<caption>OLS Regression Results</caption>\n",
       "<tr>\n",
       "  <th>Dep. Variable:</th>           <td>F3</td>        <th>  R-squared:         </th> <td>   0.209</td> \n",
       "</tr>\n",
       "<tr>\n",
       "  <th>Model:</th>                   <td>OLS</td>       <th>  Adj. R-squared:    </th> <td>   0.208</td> \n",
       "</tr>\n",
       "<tr>\n",
       "  <th>Method:</th>             <td>Least Squares</td>  <th>  F-statistic:       </th> <td>   150.3</td> \n",
       "</tr>\n",
       "<tr>\n",
       "  <th>Date:</th>             <td>Wed, 09 Dec 2020</td> <th>  Prob (F-statistic):</th> <td>9.16e-253</td>\n",
       "</tr>\n",
       "<tr>\n",
       "  <th>Time:</th>                 <td>22:03:37</td>     <th>  Log-Likelihood:    </th> <td> -5943.0</td> \n",
       "</tr>\n",
       "<tr>\n",
       "  <th>No. Observations:</th>      <td>  5113</td>      <th>  AIC:               </th> <td>1.191e+04</td>\n",
       "</tr>\n",
       "<tr>\n",
       "  <th>Df Residuals:</th>          <td>  5104</td>      <th>  BIC:               </th> <td>1.197e+04</td>\n",
       "</tr>\n",
       "<tr>\n",
       "  <th>Df Model:</th>              <td>     9</td>      <th>                     </th>     <td> </td>    \n",
       "</tr>\n",
       "<tr>\n",
       "  <th>Covariance Type:</th>      <td>nonrobust</td>    <th>                     </th>     <td> </td>    \n",
       "</tr>\n",
       "</table>\n",
       "<table class=\"simpletable\">\n",
       "<tr>\n",
       "            <td></td>              <th>coef</th>     <th>std err</th>      <th>t</th>      <th>P>|t|</th>  <th>[0.025</th>    <th>0.975]</th>  \n",
       "</tr>\n",
       "<tr>\n",
       "  <th>const</th>                <td>   -0.5616</td> <td>    0.026</td> <td>  -21.265</td> <td> 0.000</td> <td>   -0.613</td> <td>   -0.510</td>\n",
       "</tr>\n",
       "<tr>\n",
       "  <th>Homeschool Children</th>  <td>   -0.2432</td> <td>    0.038</td> <td>   -6.443</td> <td> 0.000</td> <td>   -0.317</td> <td>   -0.169</td>\n",
       "</tr>\n",
       "<tr>\n",
       "  <th>Job At Risk</th>          <td>    0.3279</td> <td>    0.046</td> <td>    7.172</td> <td> 0.000</td> <td>    0.238</td> <td>    0.418</td>\n",
       "</tr>\n",
       "<tr>\n",
       "  <th>Lost Job</th>             <td>    0.3793</td> <td>    0.042</td> <td>    9.140</td> <td> 0.000</td> <td>    0.298</td> <td>    0.461</td>\n",
       "</tr>\n",
       "<tr>\n",
       "  <th>Lower Income</th>         <td>    0.1517</td> <td>    0.031</td> <td>    4.883</td> <td> 0.000</td> <td>    0.091</td> <td>    0.213</td>\n",
       "</tr>\n",
       "<tr>\n",
       "  <th>Now Work From Home</th>   <td>    0.6580</td> <td>    0.029</td> <td>   22.370</td> <td> 0.000</td> <td>    0.600</td> <td>    0.716</td>\n",
       "</tr>\n",
       "<tr>\n",
       "  <th>Reduced Hours</th>        <td>    0.6845</td> <td>    0.033</td> <td>   20.833</td> <td> 0.000</td> <td>    0.620</td> <td>    0.749</td>\n",
       "</tr>\n",
       "<tr>\n",
       "  <th>Still Go To Work</th>     <td>    0.6979</td> <td>    0.032</td> <td>   21.998</td> <td> 0.000</td> <td>    0.636</td> <td>    0.760</td>\n",
       "</tr>\n",
       "<tr>\n",
       "  <th>Still Work From Home</th> <td>    0.3308</td> <td>    0.032</td> <td>   10.423</td> <td> 0.000</td> <td>    0.269</td> <td>    0.393</td>\n",
       "</tr>\n",
       "</table>\n",
       "<table class=\"simpletable\">\n",
       "<tr>\n",
       "  <th>Omnibus:</th>       <td>323.680</td> <th>  Durbin-Watson:     </th> <td>   1.622</td> \n",
       "</tr>\n",
       "<tr>\n",
       "  <th>Prob(Omnibus):</th> <td> 0.000</td>  <th>  Jarque-Bera (JB):  </th> <td> 563.968</td> \n",
       "</tr>\n",
       "<tr>\n",
       "  <th>Skew:</th>          <td> 0.483</td>  <th>  Prob(JB):          </th> <td>3.43e-123</td>\n",
       "</tr>\n",
       "<tr>\n",
       "  <th>Kurtosis:</th>      <td> 4.309</td>  <th>  Cond. No.          </th> <td>    5.91</td> \n",
       "</tr>\n",
       "</table><br/><br/>Warnings:<br/>[1] Standard Errors assume that the covariance matrix of the errors is correctly specified."
      ],
      "text/plain": [
       "<class 'statsmodels.iolib.summary.Summary'>\n",
       "\"\"\"\n",
       "                            OLS Regression Results                            \n",
       "==============================================================================\n",
       "Dep. Variable:                     F3   R-squared:                       0.209\n",
       "Model:                            OLS   Adj. R-squared:                  0.208\n",
       "Method:                 Least Squares   F-statistic:                     150.3\n",
       "Date:                Wed, 09 Dec 2020   Prob (F-statistic):          9.16e-253\n",
       "Time:                        22:03:37   Log-Likelihood:                -5943.0\n",
       "No. Observations:                5113   AIC:                         1.191e+04\n",
       "Df Residuals:                    5104   BIC:                         1.197e+04\n",
       "Df Model:                           9                                         \n",
       "Covariance Type:            nonrobust                                         \n",
       "========================================================================================\n",
       "                           coef    std err          t      P>|t|      [0.025      0.975]\n",
       "----------------------------------------------------------------------------------------\n",
       "const                   -0.5616      0.026    -21.265      0.000      -0.613      -0.510\n",
       "Homeschool Children     -0.2432      0.038     -6.443      0.000      -0.317      -0.169\n",
       "Job At Risk              0.3279      0.046      7.172      0.000       0.238       0.418\n",
       "Lost Job                 0.3793      0.042      9.140      0.000       0.298       0.461\n",
       "Lower Income             0.1517      0.031      4.883      0.000       0.091       0.213\n",
       "Now Work From Home       0.6580      0.029     22.370      0.000       0.600       0.716\n",
       "Reduced Hours            0.6845      0.033     20.833      0.000       0.620       0.749\n",
       "Still Go To Work         0.6979      0.032     21.998      0.000       0.636       0.760\n",
       "Still Work From Home     0.3308      0.032     10.423      0.000       0.269       0.393\n",
       "==============================================================================\n",
       "Omnibus:                      323.680   Durbin-Watson:                   1.622\n",
       "Prob(Omnibus):                  0.000   Jarque-Bera (JB):              563.968\n",
       "Skew:                           0.483   Prob(JB):                    3.43e-123\n",
       "Kurtosis:                       4.309   Cond. No.                         5.91\n",
       "==============================================================================\n",
       "\n",
       "Warnings:\n",
       "[1] Standard Errors assume that the covariance matrix of the errors is correctly specified.\n",
       "\"\"\""
      ]
     },
     "execution_count": 17,
     "metadata": {},
     "output_type": "execute_result"
    }
   ],
   "source": [
    "X = all_X.loc[:,work]\n",
    "X.columns = X.columns.str.replace(r'^.*-', '', regex=True)\n",
    "X = sm.add_constant(X)\n",
    "\n",
    "avg_ols_model = sm.OLS(y, X)\n",
    "avg_results = avg_ols_model.fit_regularized(L1_wt=1, refit=True)\n",
    "avg_results.summary()"
   ]
  },
  {
   "cell_type": "code",
   "execution_count": 18,
   "metadata": {},
   "outputs": [
    {
     "data": {
      "text/plain": [
       "<matplotlib.axes._subplots.AxesSubplot at 0x131d1a650>"
      ]
     },
     "execution_count": 18,
     "metadata": {},
     "output_type": "execute_result"
    },
    {
     "data": {
      "image/png": "[encoded data removed]",
      "text/plain": [
       "<Figure size 576x576 with 2 Axes>"
      ]
     },
     "metadata": {
      "needs_background": "light"
     },
     "output_type": "display_data"
    }
   ],
   "source": [
    "# contact with Covid-19\n",
    "data = all_X.loc[:,covid]\n",
    "data.columns = data.columns.str.replace(r'^.*-', '', regex=True)\n",
    "data['POSITIVE EMOTIONS'] = y\n",
    "corr = data.corr()\n",
    "fig, ax = plt.subplots(figsize=(8, 8))\n",
    "cmap = sns.diverging_palette(230, 10, as_cmap=True)\n",
    "mask = np.triu(np.ones_like(corr))\n",
    "sns.heatmap(corr, cmap = cmap, fmt = '.2g', vmax = 1.0, vmin = -1.0, center = 0, square = True, \\\n",
    "            mask = mask, linewidths = 0.7, cbar_kws = {\"shrink\": 0.5}, annot = False)"
   ]
  },
  {
   "cell_type": "code",
   "execution_count": 19,
   "metadata": {},
   "outputs": [
    {
     "data": {
      "text/html": [
       "<table class=\"simpletable\">\n",
       "<caption>OLS Regression Results</caption>\n",
       "<tr>\n",
       "  <th>Dep. Variable:</th>           <td>F3</td>        <th>  R-squared:         </th> <td>   0.280</td> \n",
       "</tr>\n",
       "<tr>\n",
       "  <th>Model:</th>                   <td>OLS</td>       <th>  Adj. R-squared:    </th> <td>   0.279</td> \n",
       "</tr>\n",
       "<tr>\n",
       "  <th>Method:</th>             <td>Least Squares</td>  <th>  F-statistic:       </th> <td>   248.3</td> \n",
       "</tr>\n",
       "<tr>\n",
       "  <th>Date:</th>             <td>Wed, 09 Dec 2020</td> <th>  Prob (F-statistic):</th>  <td>  0.00</td>  \n",
       "</tr>\n",
       "<tr>\n",
       "  <th>Time:</th>                 <td>22:03:38</td>     <th>  Log-Likelihood:    </th> <td> -5703.7</td> \n",
       "</tr>\n",
       "<tr>\n",
       "  <th>No. Observations:</th>      <td>  5113</td>      <th>  AIC:               </th> <td>1.143e+04</td>\n",
       "</tr>\n",
       "<tr>\n",
       "  <th>Df Residuals:</th>          <td>  5105</td>      <th>  BIC:               </th> <td>1.148e+04</td>\n",
       "</tr>\n",
       "<tr>\n",
       "  <th>Df Model:</th>              <td>     8</td>      <th>                     </th>     <td> </td>    \n",
       "</tr>\n",
       "<tr>\n",
       "  <th>Covariance Type:</th>      <td>nonrobust</td>    <th>                     </th>     <td> </td>    \n",
       "</tr>\n",
       "</table>\n",
       "<table class=\"simpletable\">\n",
       "<tr>\n",
       "               <td></td>                  <th>coef</th>     <th>std err</th>      <th>t</th>      <th>P>|t|</th>  <th>[0.025</th>    <th>0.975]</th>  \n",
       "</tr>\n",
       "<tr>\n",
       "  <th>const</th>                       <td>    0.0413</td> <td>    0.017</td> <td>    2.436</td> <td> 0.015</td> <td>    0.008</td> <td>    0.074</td>\n",
       "</tr>\n",
       "<tr>\n",
       "  <th>I Am Infected</th>               <td>    0.8687</td> <td>    0.057</td> <td>   15.188</td> <td> 0.000</td> <td>    0.757</td> <td>    0.981</td>\n",
       "</tr>\n",
       "<tr>\n",
       "  <th>I Am Mourning A Loss</th>        <td>    0.3981</td> <td>    0.056</td> <td>    7.120</td> <td> 0.000</td> <td>    0.288</td> <td>    0.508</td>\n",
       "</tr>\n",
       "<tr>\n",
       "  <th>I Have Professional Contact</th> <td>    0.7851</td> <td>    0.047</td> <td>   16.790</td> <td> 0.000</td> <td>    0.693</td> <td>    0.877</td>\n",
       "</tr>\n",
       "<tr>\n",
       "  <th>I Live With Someone</th>         <td>    0.9822</td> <td>    0.060</td> <td>   16.494</td> <td> 0.000</td> <td>    0.865</td> <td>    1.099</td>\n",
       "</tr>\n",
       "<tr>\n",
       "  <th>None</th>                        <td>   -0.3689</td> <td>    0.023</td> <td>  -15.763</td> <td> 0.000</td> <td>   -0.415</td> <td>   -0.323</td>\n",
       "</tr>\n",
       "<tr>\n",
       "  <th>Prefer Not To Say</th>           <td>   -0.1559</td> <td>    0.056</td> <td>   -2.774</td> <td> 0.006</td> <td>   -0.266</td> <td>   -0.046</td>\n",
       "</tr>\n",
       "<tr>\n",
       "  <th>Someone I Am Close To</th>       <td>   -0.1077</td> <td>    0.033</td> <td>   -3.303</td> <td> 0.001</td> <td>   -0.172</td> <td>   -0.044</td>\n",
       "</tr>\n",
       "</table>\n",
       "<table class=\"simpletable\">\n",
       "<tr>\n",
       "  <th>Omnibus:</th>       <td>11.117</td> <th>  Durbin-Watson:     </th> <td>   1.624</td>\n",
       "</tr>\n",
       "<tr>\n",
       "  <th>Prob(Omnibus):</th> <td> 0.004</td> <th>  Jarque-Bera (JB):  </th> <td>  13.477</td>\n",
       "</tr>\n",
       "<tr>\n",
       "  <th>Skew:</th>          <td>-0.014</td> <th>  Prob(JB):          </th> <td> 0.00118</td>\n",
       "</tr>\n",
       "<tr>\n",
       "  <th>Kurtosis:</th>      <td> 3.250</td> <th>  Cond. No.          </th> <td>    7.06</td>\n",
       "</tr>\n",
       "</table><br/><br/>Warnings:<br/>[1] Standard Errors assume that the covariance matrix of the errors is correctly specified."
      ],
      "text/plain": [
       "<class 'statsmodels.iolib.summary.Summary'>\n",
       "\"\"\"\n",
       "                            OLS Regression Results                            \n",
       "==============================================================================\n",
       "Dep. Variable:                     F3   R-squared:                       0.280\n",
       "Model:                            OLS   Adj. R-squared:                  0.279\n",
       "Method:                 Least Squares   F-statistic:                     248.3\n",
       "Date:                Wed, 09 Dec 2020   Prob (F-statistic):               0.00\n",
       "Time:                        22:03:38   Log-Likelihood:                -5703.7\n",
       "No. Observations:                5113   AIC:                         1.143e+04\n",
       "Df Residuals:                    5105   BIC:                         1.148e+04\n",
       "Df Model:                           8                                         \n",
       "Covariance Type:            nonrobust                                         \n",
       "===============================================================================================\n",
       "                                  coef    std err          t      P>|t|      [0.025      0.975]\n",
       "-----------------------------------------------------------------------------------------------\n",
       "const                           0.0413      0.017      2.436      0.015       0.008       0.074\n",
       "I Am Infected                   0.8687      0.057     15.188      0.000       0.757       0.981\n",
       "I Am Mourning A Loss            0.3981      0.056      7.120      0.000       0.288       0.508\n",
       "I Have Professional Contact     0.7851      0.047     16.790      0.000       0.693       0.877\n",
       "I Live With Someone             0.9822      0.060     16.494      0.000       0.865       1.099\n",
       "None                           -0.3689      0.023    -15.763      0.000      -0.415      -0.323\n",
       "Prefer Not To Say              -0.1559      0.056     -2.774      0.006      -0.266      -0.046\n",
       "Someone I Am Close To          -0.1077      0.033     -3.303      0.001      -0.172      -0.044\n",
       "==============================================================================\n",
       "Omnibus:                       11.117   Durbin-Watson:                   1.624\n",
       "Prob(Omnibus):                  0.004   Jarque-Bera (JB):               13.477\n",
       "Skew:                          -0.014   Prob(JB):                      0.00118\n",
       "Kurtosis:                       3.250   Cond. No.                         7.06\n",
       "==============================================================================\n",
       "\n",
       "Warnings:\n",
       "[1] Standard Errors assume that the covariance matrix of the errors is correctly specified.\n",
       "\"\"\""
      ]
     },
     "execution_count": 19,
     "metadata": {},
     "output_type": "execute_result"
    }
   ],
   "source": [
    "X = all_X.loc[:,covid]\n",
    "X.columns = X.columns.str.replace(r'^.*-', '', regex=True)\n",
    "X = sm.add_constant(X)\n",
    "\n",
    "avg_ols_model = sm.OLS(y, X)\n",
    "avg_results = avg_ols_model.fit_regularized(L1_wt=1, refit=True)\n",
    "avg_results.summary()"
   ]
  }
 ],
 "metadata": {
  "kernelspec": {
   "display_name": "Python 3",
   "language": "python",
   "name": "python3"
  },
  "language_info": {
   "codemirror_mode": {
    "name": "ipython",
    "version": 3
   },
   "file_extension": ".py",
   "mimetype": "text/x-python",
   "name": "python",
   "nbconvert_exporter": "python",
   "pygments_lexer": "ipython3",
   "version": "3.7.4"
  },
  "varInspector": {
   "cols": {
    "lenName": 16,
    "lenType": 16,
    "lenVar": 40
   },
   "kernels_config": {
    "python": {
     "delete_cmd_postfix": "",
     "delete_cmd_prefix": "del ",
     "library": "var_list.py",
     "varRefreshCmd": "print(var_dic_list())"
    },
    "r": {
     "delete_cmd_postfix": ") ",
     "delete_cmd_prefix": "rm(",
     "library": "var_list.r",
     "varRefreshCmd": "cat(var_dic_list()) "
    }
   },
   "types_to_exclude": [
    "module",
    "function",
    "builtin_function_or_method",
    "instance",
    "_Feature"
   ],
   "window_display": false
  }
 },
 "nbformat": 4,
 "nbformat_minor": 2
}
