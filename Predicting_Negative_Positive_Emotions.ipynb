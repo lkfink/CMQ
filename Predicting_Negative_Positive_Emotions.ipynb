{
 "cells": [
  {
   "cell_type": "markdown",
   "metadata": {},
   "source": [
    "# **Predicting Changes in Positive and Negative Emotions from Coronavirus-related Variables**\n",
    "Lindsay Warrenburg  \n",
    "lindsay.a.warrenburg@gmail.com  \n",
    "Final version: December 22, 2020\n",
    "\n",
    "### This script describes Step 1 of investigating individual differences in lockdown situations and music-related behaviors.\n",
    "\n",
    "- A series of linear regression analyses was conducted to examine the degree to which the pandemic and lockdown measures influenced emotions\n",
    "- Changes in *Negative Emotions* and *Positive Emotions* are the dependent variables\n",
    "- Three different sets of predictors were used: (1) Contact with the COVID-19 Virus, (2) Work Situation due to the Pandemic, and (3) Living Situation during the Pandemic"
   ]
  },
  {
   "cell_type": "code",
   "execution_count": 1,
   "metadata": {},
   "outputs": [],
   "source": [
    "import numpy as np, pandas as pd, os, sys, seaborn as sns, warnings, matplotlib.pyplot as plt, statsmodels.api as sm\n",
    "from statsmodels.stats.outliers_influence import variance_inflation_factor\n",
    "pd.set_option('display.max_columns', None)\n",
    "pd.set_option('display.max_rows', None)\n",
    "%matplotlib inline\n",
    "plt.rcParams['figure.figsize'] = (14,4)\n",
    "warnings.filterwarnings(action='ignore')\n",
    "%run Coronavirus_Music_Functions.ipynb"
   ]
  },
  {
   "cell_type": "code",
   "execution_count": 2,
   "metadata": {},
   "outputs": [
    {
     "data": {
      "text/plain": [
       "(5113, 240)"
      ]
     },
     "execution_count": 2,
     "metadata": {},
     "output_type": "execute_result"
    }
   ],
   "source": [
    "all_data = pd.read_csv('factors_all_data.csv') \n",
    "all_data.rename(columns={'Demographics_General_Gender': 'Gender'}, inplace=True)\n",
    "all_data.columns = all_data.columns.str.replace(r'^.*_', '', regex=True)\n",
    "all_data.shape"
   ]
  },
  {
   "cell_type": "markdown",
   "metadata": {},
   "source": [
    "# Pre-processing\n",
    "\n",
    "### Impute missing values in the emotion variables with the median value for that variable, with regard to that person's country"
   ]
  },
  {
   "cell_type": "code",
   "execution_count": 3,
   "metadata": {},
   "outputs": [],
   "source": [
    "neg_emotions = ['Depressed','Stressed','Anxious','Negative Valence','Lonely']\n",
    "pos_emotions = ['Positive Valence','Arousal','General Health']\n",
    "all_emotions = neg_emotions + pos_emotions\n",
    "\n",
    "normalize_column = 'Country'\n",
    "\n",
    "for i, column in enumerate(all_emotions):\n",
    "    all_data[column] = all_data.groupby(normalize_column, sort = False)[column].apply(lambda x: x.fillna(x.median()))\n",
    "    \n",
    "all_data.reset_index(inplace = True, drop = True)"
   ]
  },
  {
   "cell_type": "markdown",
   "metadata": {},
   "source": [
    "### Create lists of corona-virus related variables that we will use as the regression predictors"
   ]
  },
  {
   "cell_type": "code",
   "execution_count": 4,
   "metadata": {},
   "outputs": [],
   "source": [
    "living = [c for c in all_data.columns if c.startswith('Living Situation') and 'No Response' not in c]\n",
    "work = [c for c in all_data.columns if c.startswith('Ways Work Affected') and 'No Response' not in c]\n",
    "covid = [c for c in all_data.columns if c.startswith('Infected with COVID') and 'No Response' not in c]\n",
    "\n",
    "col_list = living + work + covid\n",
    "\n",
    "all_X = all_data.loc[:,col_list]\n",
    "all_X.reset_index(inplace = True, drop = True)"
   ]
  },
  {
   "cell_type": "markdown",
   "metadata": {},
   "source": [
    "# **Changes in Negative Emotions**\n",
    "\n",
    "The DV is the average of the variables referring to changes in the negative emotions during the coronavirus crisis:\n",
    "- Depression\n",
    "- Stress\n",
    "- Anxiety\n",
    "- Negative Valence\n",
    "- Loneliness"
   ]
  },
  {
   "cell_type": "code",
   "execution_count": 5,
   "metadata": {},
   "outputs": [],
   "source": [
    "# create average score of all negative emotions\n",
    "y = (all_data.loc[:,neg_emotions]).mean(skipna=True,axis=1)"
   ]
  },
  {
   "cell_type": "markdown",
   "metadata": {},
   "source": [
    "### Contact with the COVID-19 Virus"
   ]
  },
  {
   "cell_type": "code",
   "execution_count": 6,
   "metadata": {},
   "outputs": [
    {
     "data": {
      "text/plain": [
       "<AxesSubplot:>"
      ]
     },
     "execution_count": 6,
     "metadata": {},
     "output_type": "execute_result"
    },
    {
     "data": {
      "image/png": "[encoded data removed]",
      "text/plain": [
       "<Figure size 576x576 with 2 Axes>"
      ]
     },
     "metadata": {
      "needs_background": "light"
     },
     "output_type": "display_data"
    }
   ],
   "source": [
    "# correlations\n",
    "data = all_X.loc[:,covid]\n",
    "data.columns = data.columns.str.replace(r'^.*-', '', regex=True)\n",
    "data['NEGATIVE EMOTIONS'] = y\n",
    "corr = data.corr()\n",
    "fig, ax = plt.subplots(figsize=(8, 8))\n",
    "cmap = sns.diverging_palette(230, 10, as_cmap=True)\n",
    "mask = np.triu(np.ones_like(corr))\n",
    "sns.heatmap(corr, cmap = cmap, fmt = '.2g', vmax = 1.0, vmin = -1.0, center = 0, square = True, \\\n",
    "            mask = mask, linewidths = 0.7, cbar_kws = {\"shrink\": 0.5}, annot = False)"
   ]
  },
  {
   "cell_type": "code",
   "execution_count": 7,
   "metadata": {},
   "outputs": [
    {
     "data": {
      "text/html": [
       "<table class=\"simpletable\">\n",
       "<caption>OLS Regression Results</caption>\n",
       "<tr>\n",
       "  <th>Dep. Variable:</th>            <td>y</td>        <th>  R-squared:         </th> <td>   0.046</td> \n",
       "</tr>\n",
       "<tr>\n",
       "  <th>Model:</th>                   <td>OLS</td>       <th>  Adj. R-squared:    </th> <td>   0.044</td> \n",
       "</tr>\n",
       "<tr>\n",
       "  <th>Method:</th>             <td>Least Squares</td>  <th>  F-statistic:       </th> <td>   34.94</td> \n",
       "</tr>\n",
       "<tr>\n",
       "  <th>Date:</th>             <td>Tue, 22 Dec 2020</td> <th>  Prob (F-statistic):</th> <td>5.91e-48</td> \n",
       "</tr>\n",
       "<tr>\n",
       "  <th>Time:</th>                 <td>07:57:11</td>     <th>  Log-Likelihood:    </th> <td> -8089.8</td> \n",
       "</tr>\n",
       "<tr>\n",
       "  <th>No. Observations:</th>      <td>  5113</td>      <th>  AIC:               </th> <td>1.620e+04</td>\n",
       "</tr>\n",
       "<tr>\n",
       "  <th>Df Residuals:</th>          <td>  5105</td>      <th>  BIC:               </th> <td>1.625e+04</td>\n",
       "</tr>\n",
       "<tr>\n",
       "  <th>Df Model:</th>              <td>     7</td>      <th>                     </th>     <td> </td>    \n",
       "</tr>\n",
       "<tr>\n",
       "  <th>Covariance Type:</th>      <td>nonrobust</td>    <th>                     </th>     <td> </td>    \n",
       "</tr>\n",
       "</table>\n",
       "<table class=\"simpletable\">\n",
       "<tr>\n",
       "               <td></td>                  <th>coef</th>     <th>std err</th>      <th>t</th>      <th>P>|t|</th>  <th>[0.025</th>    <th>0.975]</th>  \n",
       "</tr>\n",
       "<tr>\n",
       "  <th>const</th>                       <td>    4.4259</td> <td>    0.027</td> <td>  163.862</td> <td> 0.000</td> <td>    4.373</td> <td>    4.479</td>\n",
       "</tr>\n",
       "<tr>\n",
       "  <th>I Am Infected</th>               <td>    0.4204</td> <td>    0.091</td> <td>    4.609</td> <td> 0.000</td> <td>    0.242</td> <td>    0.599</td>\n",
       "</tr>\n",
       "<tr>\n",
       "  <th>I Am Mourning A Loss</th>        <td>    0.2982</td> <td>    0.089</td> <td>    3.345</td> <td> 0.001</td> <td>    0.123</td> <td>    0.473</td>\n",
       "</tr>\n",
       "<tr>\n",
       "  <th>I Have Professional Contact</th> <td>    0.3584</td> <td>    0.075</td> <td>    4.806</td> <td> 0.000</td> <td>    0.212</td> <td>    0.505</td>\n",
       "</tr>\n",
       "<tr>\n",
       "  <th>I Live With Someone</th>         <td>    0.3625</td> <td>    0.095</td> <td>    3.817</td> <td> 0.000</td> <td>    0.176</td> <td>    0.549</td>\n",
       "</tr>\n",
       "<tr>\n",
       "  <th>None</th>                        <td>   -0.2314</td> <td>    0.037</td> <td>   -6.201</td> <td> 0.000</td> <td>   -0.305</td> <td>   -0.158</td>\n",
       "</tr>\n",
       "<tr>\n",
       "  <th>Prefer Not To Say</th>           <td>   -0.3549</td> <td>    0.090</td> <td>   -3.960</td> <td> 0.000</td> <td>   -0.531</td> <td>   -0.179</td>\n",
       "</tr>\n",
       "<tr>\n",
       "  <th>Someone I Am Close To</th>       <td>    0.1291</td> <td>    0.052</td> <td>    2.484</td> <td> 0.013</td> <td>    0.027</td> <td>    0.231</td>\n",
       "</tr>\n",
       "</table>\n",
       "<table class=\"simpletable\">\n",
       "<tr>\n",
       "  <th>Omnibus:</th>       <td>257.832</td> <th>  Durbin-Watson:     </th> <td>   1.928</td>\n",
       "</tr>\n",
       "<tr>\n",
       "  <th>Prob(Omnibus):</th> <td> 0.000</td>  <th>  Jarque-Bera (JB):  </th> <td> 327.685</td>\n",
       "</tr>\n",
       "<tr>\n",
       "  <th>Skew:</th>          <td>-0.507</td>  <th>  Prob(JB):          </th> <td>6.98e-72</td>\n",
       "</tr>\n",
       "<tr>\n",
       "  <th>Kurtosis:</th>      <td> 3.715</td>  <th>  Cond. No.          </th> <td>    7.06</td>\n",
       "</tr>\n",
       "</table><br/><br/>Notes:<br/>[1] Standard Errors assume that the covariance matrix of the errors is correctly specified."
      ],
      "text/plain": [
       "<class 'statsmodels.iolib.summary.Summary'>\n",
       "\"\"\"\n",
       "                            OLS Regression Results                            \n",
       "==============================================================================\n",
       "Dep. Variable:                      y   R-squared:                       0.046\n",
       "Model:                            OLS   Adj. R-squared:                  0.044\n",
       "Method:                 Least Squares   F-statistic:                     34.94\n",
       "Date:                Tue, 22 Dec 2020   Prob (F-statistic):           5.91e-48\n",
       "Time:                        07:57:11   Log-Likelihood:                -8089.8\n",
       "No. Observations:                5113   AIC:                         1.620e+04\n",
       "Df Residuals:                    5105   BIC:                         1.625e+04\n",
       "Df Model:                           7                                         \n",
       "Covariance Type:            nonrobust                                         \n",
       "===============================================================================================\n",
       "                                  coef    std err          t      P>|t|      [0.025      0.975]\n",
       "-----------------------------------------------------------------------------------------------\n",
       "const                           4.4259      0.027    163.862      0.000       4.373       4.479\n",
       "I Am Infected                   0.4204      0.091      4.609      0.000       0.242       0.599\n",
       "I Am Mourning A Loss            0.2982      0.089      3.345      0.001       0.123       0.473\n",
       "I Have Professional Contact     0.3584      0.075      4.806      0.000       0.212       0.505\n",
       "I Live With Someone             0.3625      0.095      3.817      0.000       0.176       0.549\n",
       "None                           -0.2314      0.037     -6.201      0.000      -0.305      -0.158\n",
       "Prefer Not To Say              -0.3549      0.090     -3.960      0.000      -0.531      -0.179\n",
       "Someone I Am Close To           0.1291      0.052      2.484      0.013       0.027       0.231\n",
       "==============================================================================\n",
       "Omnibus:                      257.832   Durbin-Watson:                   1.928\n",
       "Prob(Omnibus):                  0.000   Jarque-Bera (JB):              327.685\n",
       "Skew:                          -0.507   Prob(JB):                     6.98e-72\n",
       "Kurtosis:                       3.715   Cond. No.                         7.06\n",
       "==============================================================================\n",
       "\n",
       "Notes:\n",
       "[1] Standard Errors assume that the covariance matrix of the errors is correctly specified.\n",
       "\"\"\""
      ]
     },
     "execution_count": 7,
     "metadata": {},
     "output_type": "execute_result"
    }
   ],
   "source": [
    "# regression\n",
    "X = all_X.loc[:,covid]\n",
    "X.columns = X.columns.str.replace(r'^.*-', '', regex=True)\n",
    "X = sm.add_constant(X)\n",
    "\n",
    "model = sm.OLS(y, X)\n",
    "results = model.fit()\n",
    "results.summary()"
   ]
  },
  {
   "cell_type": "markdown",
   "metadata": {},
   "source": [
    "### Work Situation due to the Pandemic"
   ]
  },
  {
   "cell_type": "code",
   "execution_count": 8,
   "metadata": {},
   "outputs": [
    {
     "data": {
      "text/plain": [
       "<AxesSubplot:>"
      ]
     },
     "execution_count": 8,
     "metadata": {},
     "output_type": "execute_result"
    },
    {
     "data": {
      "image/png": "[encoded data removed]",
      "text/plain": [
       "<Figure size 576x576 with 2 Axes>"
      ]
     },
     "metadata": {
      "needs_background": "light"
     },
     "output_type": "display_data"
    }
   ],
   "source": [
    "# correlations\n",
    "data = all_X.loc[:,work]\n",
    "data.columns = data.columns.str.replace(r'^.*-', '', regex=True)\n",
    "data['NEGATIVE EMOTIONS'] = y\n",
    "corr = data.corr()\n",
    "fig, ax = plt.subplots(figsize=(8, 8))\n",
    "cmap = sns.diverging_palette(230, 10, as_cmap=True)\n",
    "mask = np.triu(np.ones_like(corr))\n",
    "sns.heatmap(corr, cmap = cmap, fmt = '.2g', vmax = 1.0, vmin = -1.0, center = 0, square = True, \\\n",
    "            mask = mask, linewidths = 0.7, cbar_kws = {\"shrink\": 0.5}, annot = False)"
   ]
  },
  {
   "cell_type": "code",
   "execution_count": 9,
   "metadata": {},
   "outputs": [
    {
     "data": {
      "text/html": [
       "<table class=\"simpletable\">\n",
       "<caption>OLS Regression Results</caption>\n",
       "<tr>\n",
       "  <th>Dep. Variable:</th>            <td>y</td>        <th>  R-squared:         </th> <td>   0.031</td> \n",
       "</tr>\n",
       "<tr>\n",
       "  <th>Model:</th>                   <td>OLS</td>       <th>  Adj. R-squared:    </th> <td>   0.030</td> \n",
       "</tr>\n",
       "<tr>\n",
       "  <th>Method:</th>             <td>Least Squares</td>  <th>  F-statistic:       </th> <td>   20.59</td> \n",
       "</tr>\n",
       "<tr>\n",
       "  <th>Date:</th>             <td>Tue, 22 Dec 2020</td> <th>  Prob (F-statistic):</th> <td>5.41e-31</td> \n",
       "</tr>\n",
       "<tr>\n",
       "  <th>Time:</th>                 <td>07:57:11</td>     <th>  Log-Likelihood:    </th> <td> -8128.2</td> \n",
       "</tr>\n",
       "<tr>\n",
       "  <th>No. Observations:</th>      <td>  5113</td>      <th>  AIC:               </th> <td>1.627e+04</td>\n",
       "</tr>\n",
       "<tr>\n",
       "  <th>Df Residuals:</th>          <td>  5104</td>      <th>  BIC:               </th> <td>1.633e+04</td>\n",
       "</tr>\n",
       "<tr>\n",
       "  <th>Df Model:</th>              <td>     8</td>      <th>                     </th>     <td> </td>    \n",
       "</tr>\n",
       "<tr>\n",
       "  <th>Covariance Type:</th>      <td>nonrobust</td>    <th>                     </th>     <td> </td>    \n",
       "</tr>\n",
       "</table>\n",
       "<table class=\"simpletable\">\n",
       "<tr>\n",
       "            <td></td>              <th>coef</th>     <th>std err</th>      <th>t</th>      <th>P>|t|</th>  <th>[0.025</th>    <th>0.975]</th>  \n",
       "</tr>\n",
       "<tr>\n",
       "  <th>const</th>                <td>    4.1616</td> <td>    0.040</td> <td>  102.782</td> <td> 0.000</td> <td>    4.082</td> <td>    4.241</td>\n",
       "</tr>\n",
       "<tr>\n",
       "  <th>Homeschool Children</th>  <td>    0.0624</td> <td>    0.058</td> <td>    1.078</td> <td> 0.281</td> <td>   -0.051</td> <td>    0.176</td>\n",
       "</tr>\n",
       "<tr>\n",
       "  <th>Job At Risk</th>          <td>    0.3548</td> <td>    0.070</td> <td>    5.062</td> <td> 0.000</td> <td>    0.217</td> <td>    0.492</td>\n",
       "</tr>\n",
       "<tr>\n",
       "  <th>Lost Job</th>             <td>    0.3767</td> <td>    0.064</td> <td>    5.920</td> <td> 0.000</td> <td>    0.252</td> <td>    0.501</td>\n",
       "</tr>\n",
       "<tr>\n",
       "  <th>Lower Income</th>         <td>    0.2733</td> <td>    0.048</td> <td>    5.737</td> <td> 0.000</td> <td>    0.180</td> <td>    0.367</td>\n",
       "</tr>\n",
       "<tr>\n",
       "  <th>Now Work From Home</th>   <td>    0.2215</td> <td>    0.045</td> <td>    4.911</td> <td> 0.000</td> <td>    0.133</td> <td>    0.310</td>\n",
       "</tr>\n",
       "<tr>\n",
       "  <th>Reduced Hours</th>        <td>    0.1502</td> <td>    0.050</td> <td>    2.981</td> <td> 0.003</td> <td>    0.051</td> <td>    0.249</td>\n",
       "</tr>\n",
       "<tr>\n",
       "  <th>Still Go To Work</th>     <td>    0.0710</td> <td>    0.049</td> <td>    1.460</td> <td> 0.144</td> <td>   -0.024</td> <td>    0.166</td>\n",
       "</tr>\n",
       "<tr>\n",
       "  <th>Still Work From Home</th> <td>    0.1422</td> <td>    0.049</td> <td>    2.922</td> <td> 0.003</td> <td>    0.047</td> <td>    0.238</td>\n",
       "</tr>\n",
       "</table>\n",
       "<table class=\"simpletable\">\n",
       "<tr>\n",
       "  <th>Omnibus:</th>       <td>241.327</td> <th>  Durbin-Watson:     </th> <td>   1.921</td>\n",
       "</tr>\n",
       "<tr>\n",
       "  <th>Prob(Omnibus):</th> <td> 0.000</td>  <th>  Jarque-Bera (JB):  </th> <td> 303.769</td>\n",
       "</tr>\n",
       "<tr>\n",
       "  <th>Skew:</th>          <td>-0.488</td>  <th>  Prob(JB):          </th> <td>1.09e-66</td>\n",
       "</tr>\n",
       "<tr>\n",
       "  <th>Kurtosis:</th>      <td> 3.689</td>  <th>  Cond. No.          </th> <td>    5.91</td>\n",
       "</tr>\n",
       "</table><br/><br/>Notes:<br/>[1] Standard Errors assume that the covariance matrix of the errors is correctly specified."
      ],
      "text/plain": [
       "<class 'statsmodels.iolib.summary.Summary'>\n",
       "\"\"\"\n",
       "                            OLS Regression Results                            \n",
       "==============================================================================\n",
       "Dep. Variable:                      y   R-squared:                       0.031\n",
       "Model:                            OLS   Adj. R-squared:                  0.030\n",
       "Method:                 Least Squares   F-statistic:                     20.59\n",
       "Date:                Tue, 22 Dec 2020   Prob (F-statistic):           5.41e-31\n",
       "Time:                        07:57:11   Log-Likelihood:                -8128.2\n",
       "No. Observations:                5113   AIC:                         1.627e+04\n",
       "Df Residuals:                    5104   BIC:                         1.633e+04\n",
       "Df Model:                           8                                         \n",
       "Covariance Type:            nonrobust                                         \n",
       "========================================================================================\n",
       "                           coef    std err          t      P>|t|      [0.025      0.975]\n",
       "----------------------------------------------------------------------------------------\n",
       "const                    4.1616      0.040    102.782      0.000       4.082       4.241\n",
       "Homeschool Children      0.0624      0.058      1.078      0.281      -0.051       0.176\n",
       "Job At Risk              0.3548      0.070      5.062      0.000       0.217       0.492\n",
       "Lost Job                 0.3767      0.064      5.920      0.000       0.252       0.501\n",
       "Lower Income             0.2733      0.048      5.737      0.000       0.180       0.367\n",
       "Now Work From Home       0.2215      0.045      4.911      0.000       0.133       0.310\n",
       "Reduced Hours            0.1502      0.050      2.981      0.003       0.051       0.249\n",
       "Still Go To Work         0.0710      0.049      1.460      0.144      -0.024       0.166\n",
       "Still Work From Home     0.1422      0.049      2.922      0.003       0.047       0.238\n",
       "==============================================================================\n",
       "Omnibus:                      241.327   Durbin-Watson:                   1.921\n",
       "Prob(Omnibus):                  0.000   Jarque-Bera (JB):              303.769\n",
       "Skew:                          -0.488   Prob(JB):                     1.09e-66\n",
       "Kurtosis:                       3.689   Cond. No.                         5.91\n",
       "==============================================================================\n",
       "\n",
       "Notes:\n",
       "[1] Standard Errors assume that the covariance matrix of the errors is correctly specified.\n",
       "\"\"\""
      ]
     },
     "execution_count": 9,
     "metadata": {},
     "output_type": "execute_result"
    }
   ],
   "source": [
    "# regression\n",
    "X = all_X.loc[:,work]\n",
    "X.columns = X.columns.str.replace(r'^.*-', '', regex=True)\n",
    "X = sm.add_constant(X)\n",
    "\n",
    "model = sm.OLS(y, X)\n",
    "results = model.fit()\n",
    "results.summary()"
   ]
  },
  {
   "cell_type": "markdown",
   "metadata": {},
   "source": [
    "### Living Situation during the Pandemic"
   ]
  },
  {
   "cell_type": "code",
   "execution_count": 10,
   "metadata": {},
   "outputs": [
    {
     "data": {
      "text/plain": [
       "<AxesSubplot:>"
      ]
     },
     "execution_count": 10,
     "metadata": {},
     "output_type": "execute_result"
    },
    {
     "data": {
      "image/png": "[encoded data removed]",
      "text/plain": [
       "<Figure size 576x576 with 2 Axes>"
      ]
     },
     "metadata": {
      "needs_background": "light"
     },
     "output_type": "display_data"
    }
   ],
   "source": [
    "# correlations\n",
    "data = all_X.loc[:,living]\n",
    "data.columns = data.columns.str.replace(r'^.*-', '', regex=True)\n",
    "data['NEGATIVE EMOTIONS'] = y\n",
    "corr = data.corr()\n",
    "fig, ax = plt.subplots(figsize=(8, 8))\n",
    "cmap = sns.diverging_palette(230, 10, as_cmap=True)\n",
    "mask = np.triu(np.ones_like(corr))\n",
    "sns.heatmap(corr, cmap = cmap, fmt = '.2g', vmax = 1.0, vmin = -1.0, center = 0, square = True, \\\n",
    "            mask = mask, linewidths = 0.7, cbar_kws = {\"shrink\": 0.5}, annot = False)"
   ]
  },
  {
   "cell_type": "code",
   "execution_count": 11,
   "metadata": {},
   "outputs": [
    {
     "data": {
      "text/html": [
       "<table class=\"simpletable\">\n",
       "<caption>OLS Regression Results</caption>\n",
       "<tr>\n",
       "  <th>Dep. Variable:</th>            <td>y</td>        <th>  R-squared:         </th> <td>   0.018</td> \n",
       "</tr>\n",
       "<tr>\n",
       "  <th>Model:</th>                   <td>OLS</td>       <th>  Adj. R-squared:    </th> <td>   0.016</td> \n",
       "</tr>\n",
       "<tr>\n",
       "  <th>Method:</th>             <td>Least Squares</td>  <th>  F-statistic:       </th> <td>   9.340</td> \n",
       "</tr>\n",
       "<tr>\n",
       "  <th>Date:</th>             <td>Tue, 22 Dec 2020</td> <th>  Prob (F-statistic):</th> <td>1.61e-15</td> \n",
       "</tr>\n",
       "<tr>\n",
       "  <th>Time:</th>                 <td>07:57:11</td>     <th>  Log-Likelihood:    </th> <td> -8163.1</td> \n",
       "</tr>\n",
       "<tr>\n",
       "  <th>No. Observations:</th>      <td>  5113</td>      <th>  AIC:               </th> <td>1.635e+04</td>\n",
       "</tr>\n",
       "<tr>\n",
       "  <th>Df Residuals:</th>          <td>  5102</td>      <th>  BIC:               </th> <td>1.642e+04</td>\n",
       "</tr>\n",
       "<tr>\n",
       "  <th>Df Model:</th>              <td>    10</td>      <th>                     </th>     <td> </td>    \n",
       "</tr>\n",
       "<tr>\n",
       "  <th>Covariance Type:</th>      <td>nonrobust</td>    <th>                     </th>     <td> </td>    \n",
       "</tr>\n",
       "</table>\n",
       "<table class=\"simpletable\">\n",
       "<tr>\n",
       "     <td></td>        <th>coef</th>     <th>std err</th>      <th>t</th>      <th>P>|t|</th>  <th>[0.025</th>    <th>0.975]</th>  \n",
       "</tr>\n",
       "<tr>\n",
       "  <th>const</th>   <td>    4.2284</td> <td>    0.050</td> <td>   83.734</td> <td> 0.000</td> <td>    4.129</td> <td>    4.327</td>\n",
       "</tr>\n",
       "<tr>\n",
       "  <th>Alone</th>   <td>    0.1726</td> <td>    0.064</td> <td>    2.695</td> <td> 0.007</td> <td>    0.047</td> <td>    0.298</td>\n",
       "</tr>\n",
       "<tr>\n",
       "  <th>Child</th>   <td>    0.2322</td> <td>    0.039</td> <td>    5.930</td> <td> 0.000</td> <td>    0.155</td> <td>    0.309</td>\n",
       "</tr>\n",
       "<tr>\n",
       "  <th>Elderly</th> <td>   -0.1182</td> <td>    0.132</td> <td>   -0.898</td> <td> 0.369</td> <td>   -0.376</td> <td>    0.140</td>\n",
       "</tr>\n",
       "<tr>\n",
       "  <th>Friend</th>  <td>    0.6204</td> <td>    0.132</td> <td>    4.703</td> <td> 0.000</td> <td>    0.362</td> <td>    0.879</td>\n",
       "</tr>\n",
       "<tr>\n",
       "  <th>Other</th>   <td>    0.0524</td> <td>    0.126</td> <td>    0.416</td> <td> 0.678</td> <td>   -0.195</td> <td>    0.300</td>\n",
       "</tr>\n",
       "<tr>\n",
       "  <th>Parent</th>  <td>    0.2042</td> <td>    0.054</td> <td>    3.775</td> <td> 0.000</td> <td>    0.098</td> <td>    0.310</td>\n",
       "</tr>\n",
       "<tr>\n",
       "  <th>Partner</th> <td>    0.0048</td> <td>    0.050</td> <td>    0.096</td> <td> 0.924</td> <td>   -0.093</td> <td>    0.103</td>\n",
       "</tr>\n",
       "<tr>\n",
       "  <th>Pet</th>     <td>   -0.0124</td> <td>    0.042</td> <td>   -0.295</td> <td> 0.768</td> <td>   -0.095</td> <td>    0.070</td>\n",
       "</tr>\n",
       "<tr>\n",
       "  <th>Shared</th>  <td>    0.5020</td> <td>    0.121</td> <td>    4.159</td> <td> 0.000</td> <td>    0.265</td> <td>    0.739</td>\n",
       "</tr>\n",
       "<tr>\n",
       "  <th>SibCous</th> <td>    0.2208</td> <td>    0.088</td> <td>    2.501</td> <td> 0.012</td> <td>    0.048</td> <td>    0.394</td>\n",
       "</tr>\n",
       "</table>\n",
       "<table class=\"simpletable\">\n",
       "<tr>\n",
       "  <th>Omnibus:</th>       <td>193.161</td> <th>  Durbin-Watson:     </th> <td>   1.902</td>\n",
       "</tr>\n",
       "<tr>\n",
       "  <th>Prob(Omnibus):</th> <td> 0.000</td>  <th>  Jarque-Bera (JB):  </th> <td> 233.791</td>\n",
       "</tr>\n",
       "<tr>\n",
       "  <th>Skew:</th>          <td>-0.433</td>  <th>  Prob(JB):          </th> <td>1.71e-51</td>\n",
       "</tr>\n",
       "<tr>\n",
       "  <th>Kurtosis:</th>      <td> 3.589</td>  <th>  Cond. No.          </th> <td>    10.6</td>\n",
       "</tr>\n",
       "</table><br/><br/>Notes:<br/>[1] Standard Errors assume that the covariance matrix of the errors is correctly specified."
      ],
      "text/plain": [
       "<class 'statsmodels.iolib.summary.Summary'>\n",
       "\"\"\"\n",
       "                            OLS Regression Results                            \n",
       "==============================================================================\n",
       "Dep. Variable:                      y   R-squared:                       0.018\n",
       "Model:                            OLS   Adj. R-squared:                  0.016\n",
       "Method:                 Least Squares   F-statistic:                     9.340\n",
       "Date:                Tue, 22 Dec 2020   Prob (F-statistic):           1.61e-15\n",
       "Time:                        07:57:11   Log-Likelihood:                -8163.1\n",
       "No. Observations:                5113   AIC:                         1.635e+04\n",
       "Df Residuals:                    5102   BIC:                         1.642e+04\n",
       "Df Model:                          10                                         \n",
       "Covariance Type:            nonrobust                                         \n",
       "==============================================================================\n",
       "                 coef    std err          t      P>|t|      [0.025      0.975]\n",
       "------------------------------------------------------------------------------\n",
       "const          4.2284      0.050     83.734      0.000       4.129       4.327\n",
       "Alone          0.1726      0.064      2.695      0.007       0.047       0.298\n",
       "Child          0.2322      0.039      5.930      0.000       0.155       0.309\n",
       "Elderly       -0.1182      0.132     -0.898      0.369      -0.376       0.140\n",
       "Friend         0.6204      0.132      4.703      0.000       0.362       0.879\n",
       "Other          0.0524      0.126      0.416      0.678      -0.195       0.300\n",
       "Parent         0.2042      0.054      3.775      0.000       0.098       0.310\n",
       "Partner        0.0048      0.050      0.096      0.924      -0.093       0.103\n",
       "Pet           -0.0124      0.042     -0.295      0.768      -0.095       0.070\n",
       "Shared         0.5020      0.121      4.159      0.000       0.265       0.739\n",
       "SibCous        0.2208      0.088      2.501      0.012       0.048       0.394\n",
       "==============================================================================\n",
       "Omnibus:                      193.161   Durbin-Watson:                   1.902\n",
       "Prob(Omnibus):                  0.000   Jarque-Bera (JB):              233.791\n",
       "Skew:                          -0.433   Prob(JB):                     1.71e-51\n",
       "Kurtosis:                       3.589   Cond. No.                         10.6\n",
       "==============================================================================\n",
       "\n",
       "Notes:\n",
       "[1] Standard Errors assume that the covariance matrix of the errors is correctly specified.\n",
       "\"\"\""
      ]
     },
     "execution_count": 11,
     "metadata": {},
     "output_type": "execute_result"
    }
   ],
   "source": [
    "# regression\n",
    "X = all_X.loc[:,living]\n",
    "X.columns = X.columns.str.replace(r'^.*-', '', regex=True)\n",
    "X = sm.add_constant(X)\n",
    "\n",
    "model = sm.OLS(y, X)\n",
    "results = model.fit()\n",
    "results.summary()"
   ]
  },
  {
   "cell_type": "markdown",
   "metadata": {},
   "source": [
    "# **Changes in Positive Emotions**\n",
    "\n",
    "The DV is the average of the variables referring to changes in the positive emotions/general wellbeing during the coronavirus crisis:\n",
    "- Positive Valence\n",
    "- Energetic Arousal\n",
    "- General Health"
   ]
  },
  {
   "cell_type": "code",
   "execution_count": 12,
   "metadata": {},
   "outputs": [],
   "source": [
    "y = (all_data.loc[:,pos_emotions]).mean(skipna=True,axis=1)"
   ]
  },
  {
   "cell_type": "markdown",
   "metadata": {},
   "source": [
    "### Contact with the COVID-19 Virus"
   ]
  },
  {
   "cell_type": "code",
   "execution_count": 13,
   "metadata": {},
   "outputs": [
    {
     "data": {
      "text/plain": [
       "<AxesSubplot:>"
      ]
     },
     "execution_count": 13,
     "metadata": {},
     "output_type": "execute_result"
    },
    {
     "data": {
      "image/png": "[encoded data removed]",
      "text/plain": [
       "<Figure size 576x576 with 2 Axes>"
      ]
     },
     "metadata": {
      "needs_background": "light"
     },
     "output_type": "display_data"
    }
   ],
   "source": [
    "# correlations\n",
    "data = all_X.loc[:,covid]\n",
    "data.columns = data.columns.str.replace(r'^.*-', '', regex=True)\n",
    "data['POSITIVE EMOTIONS'] = y\n",
    "corr = data.corr()\n",
    "fig, ax = plt.subplots(figsize=(8, 8))\n",
    "cmap = sns.diverging_palette(230, 10, as_cmap=True)\n",
    "mask = np.triu(np.ones_like(corr))\n",
    "sns.heatmap(corr, cmap = cmap, fmt = '.2g', vmax = 1.0, vmin = -1.0, center = 0, square = True, \\\n",
    "            mask = mask, linewidths = 0.7, cbar_kws = {\"shrink\": 0.5}, annot = False)"
   ]
  },
  {
   "cell_type": "code",
   "execution_count": 14,
   "metadata": {},
   "outputs": [
    {
     "data": {
      "text/html": [
       "<table class=\"simpletable\">\n",
       "<caption>OLS Regression Results</caption>\n",
       "<tr>\n",
       "  <th>Dep. Variable:</th>            <td>y</td>        <th>  R-squared:         </th> <td>   0.067</td> \n",
       "</tr>\n",
       "<tr>\n",
       "  <th>Model:</th>                   <td>OLS</td>       <th>  Adj. R-squared:    </th> <td>   0.066</td> \n",
       "</tr>\n",
       "<tr>\n",
       "  <th>Method:</th>             <td>Least Squares</td>  <th>  F-statistic:       </th> <td>   52.43</td> \n",
       "</tr>\n",
       "<tr>\n",
       "  <th>Date:</th>             <td>Tue, 22 Dec 2020</td> <th>  Prob (F-statistic):</th> <td>1.30e-72</td> \n",
       "</tr>\n",
       "<tr>\n",
       "  <th>Time:</th>                 <td>07:57:12</td>     <th>  Log-Likelihood:    </th> <td> -7506.8</td> \n",
       "</tr>\n",
       "<tr>\n",
       "  <th>No. Observations:</th>      <td>  5113</td>      <th>  AIC:               </th> <td>1.503e+04</td>\n",
       "</tr>\n",
       "<tr>\n",
       "  <th>Df Residuals:</th>          <td>  5105</td>      <th>  BIC:               </th> <td>1.508e+04</td>\n",
       "</tr>\n",
       "<tr>\n",
       "  <th>Df Model:</th>              <td>     7</td>      <th>                     </th>     <td> </td>    \n",
       "</tr>\n",
       "<tr>\n",
       "  <th>Covariance Type:</th>      <td>nonrobust</td>    <th>                     </th>     <td> </td>    \n",
       "</tr>\n",
       "</table>\n",
       "<table class=\"simpletable\">\n",
       "<tr>\n",
       "               <td></td>                  <th>coef</th>     <th>std err</th>      <th>t</th>      <th>P>|t|</th>  <th>[0.025</th>    <th>0.975]</th>  \n",
       "</tr>\n",
       "<tr>\n",
       "  <th>const</th>                       <td>    3.9000</td> <td>    0.024</td> <td>  161.831</td> <td> 0.000</td> <td>    3.853</td> <td>    3.947</td>\n",
       "</tr>\n",
       "<tr>\n",
       "  <th>I Am Infected</th>               <td>    0.4435</td> <td>    0.081</td> <td>    5.449</td> <td> 0.000</td> <td>    0.284</td> <td>    0.603</td>\n",
       "</tr>\n",
       "<tr>\n",
       "  <th>I Am Mourning A Loss</th>        <td>    0.2496</td> <td>    0.080</td> <td>    3.137</td> <td> 0.002</td> <td>    0.094</td> <td>    0.406</td>\n",
       "</tr>\n",
       "<tr>\n",
       "  <th>I Have Professional Contact</th> <td>    0.2803</td> <td>    0.067</td> <td>    4.213</td> <td> 0.000</td> <td>    0.150</td> <td>    0.411</td>\n",
       "</tr>\n",
       "<tr>\n",
       "  <th>I Live With Someone</th>         <td>    0.6388</td> <td>    0.085</td> <td>    7.539</td> <td> 0.000</td> <td>    0.473</td> <td>    0.805</td>\n",
       "</tr>\n",
       "<tr>\n",
       "  <th>None</th>                        <td>   -0.3348</td> <td>    0.033</td> <td>  -10.055</td> <td> 0.000</td> <td>   -0.400</td> <td>   -0.270</td>\n",
       "</tr>\n",
       "<tr>\n",
       "  <th>Prefer Not To Say</th>           <td>   -0.1358</td> <td>    0.080</td> <td>   -1.698</td> <td> 0.090</td> <td>   -0.293</td> <td>    0.021</td>\n",
       "</tr>\n",
       "<tr>\n",
       "  <th>Someone I Am Close To</th>       <td>   -0.2514</td> <td>    0.046</td> <td>   -5.420</td> <td> 0.000</td> <td>   -0.342</td> <td>   -0.160</td>\n",
       "</tr>\n",
       "</table>\n",
       "<table class=\"simpletable\">\n",
       "<tr>\n",
       "  <th>Omnibus:</th>       <td>72.504</td> <th>  Durbin-Watson:     </th> <td>   1.734</td>\n",
       "</tr>\n",
       "<tr>\n",
       "  <th>Prob(Omnibus):</th> <td> 0.000</td> <th>  Jarque-Bera (JB):  </th> <td> 122.373</td>\n",
       "</tr>\n",
       "<tr>\n",
       "  <th>Skew:</th>          <td> 0.101</td> <th>  Prob(JB):          </th> <td>2.67e-27</td>\n",
       "</tr>\n",
       "<tr>\n",
       "  <th>Kurtosis:</th>      <td> 3.730</td> <th>  Cond. No.          </th> <td>    7.06</td>\n",
       "</tr>\n",
       "</table><br/><br/>Notes:<br/>[1] Standard Errors assume that the covariance matrix of the errors is correctly specified."
      ],
      "text/plain": [
       "<class 'statsmodels.iolib.summary.Summary'>\n",
       "\"\"\"\n",
       "                            OLS Regression Results                            \n",
       "==============================================================================\n",
       "Dep. Variable:                      y   R-squared:                       0.067\n",
       "Model:                            OLS   Adj. R-squared:                  0.066\n",
       "Method:                 Least Squares   F-statistic:                     52.43\n",
       "Date:                Tue, 22 Dec 2020   Prob (F-statistic):           1.30e-72\n",
       "Time:                        07:57:12   Log-Likelihood:                -7506.8\n",
       "No. Observations:                5113   AIC:                         1.503e+04\n",
       "Df Residuals:                    5105   BIC:                         1.508e+04\n",
       "Df Model:                           7                                         \n",
       "Covariance Type:            nonrobust                                         \n",
       "===============================================================================================\n",
       "                                  coef    std err          t      P>|t|      [0.025      0.975]\n",
       "-----------------------------------------------------------------------------------------------\n",
       "const                           3.9000      0.024    161.831      0.000       3.853       3.947\n",
       "I Am Infected                   0.4435      0.081      5.449      0.000       0.284       0.603\n",
       "I Am Mourning A Loss            0.2496      0.080      3.137      0.002       0.094       0.406\n",
       "I Have Professional Contact     0.2803      0.067      4.213      0.000       0.150       0.411\n",
       "I Live With Someone             0.6388      0.085      7.539      0.000       0.473       0.805\n",
       "None                           -0.3348      0.033    -10.055      0.000      -0.400      -0.270\n",
       "Prefer Not To Say              -0.1358      0.080     -1.698      0.090      -0.293       0.021\n",
       "Someone I Am Close To          -0.2514      0.046     -5.420      0.000      -0.342      -0.160\n",
       "==============================================================================\n",
       "Omnibus:                       72.504   Durbin-Watson:                   1.734\n",
       "Prob(Omnibus):                  0.000   Jarque-Bera (JB):              122.373\n",
       "Skew:                           0.101   Prob(JB):                     2.67e-27\n",
       "Kurtosis:                       3.730   Cond. No.                         7.06\n",
       "==============================================================================\n",
       "\n",
       "Notes:\n",
       "[1] Standard Errors assume that the covariance matrix of the errors is correctly specified.\n",
       "\"\"\""
      ]
     },
     "execution_count": 14,
     "metadata": {},
     "output_type": "execute_result"
    }
   ],
   "source": [
    "# regression\n",
    "X = all_X.loc[:,covid]\n",
    "X.columns = X.columns.str.replace(r'^.*-', '', regex=True)\n",
    "X = sm.add_constant(X)\n",
    "\n",
    "model = sm.OLS(y, X)\n",
    "results = model.fit()\n",
    "results.summary()"
   ]
  },
  {
   "cell_type": "markdown",
   "metadata": {},
   "source": [
    "### Work Situation due to the Pandemic"
   ]
  },
  {
   "cell_type": "code",
   "execution_count": 15,
   "metadata": {},
   "outputs": [
    {
     "data": {
      "text/plain": [
       "<AxesSubplot:>"
      ]
     },
     "execution_count": 15,
     "metadata": {},
     "output_type": "execute_result"
    },
    {
     "data": {
      "image/png": "[encoded data removed]",
      "text/plain": [
       "<Figure size 576x576 with 2 Axes>"
      ]
     },
     "metadata": {
      "needs_background": "light"
     },
     "output_type": "display_data"
    }
   ],
   "source": [
    "# correlations\n",
    "data = all_X.loc[:,work]\n",
    "data.columns = data.columns.str.replace(r'^.*-', '', regex=True)\n",
    "data['POSITIVE EMOTIONS'] = y\n",
    "corr = data.corr()\n",
    "fig, ax = plt.subplots(figsize=(8, 8))\n",
    "cmap = sns.diverging_palette(230, 10, as_cmap=True)\n",
    "mask = np.triu(np.ones_like(corr))\n",
    "sns.heatmap(corr, cmap = cmap, fmt = '.2g', vmax = 1.0, vmin = -1.0, center = 0, square = True, \\\n",
    "            mask = mask, linewidths = 0.7, cbar_kws = {\"shrink\": 0.5}, annot = False)"
   ]
  },
  {
   "cell_type": "code",
   "execution_count": 16,
   "metadata": {},
   "outputs": [
    {
     "data": {
      "text/html": [
       "<table class=\"simpletable\">\n",
       "<caption>OLS Regression Results</caption>\n",
       "<tr>\n",
       "  <th>Dep. Variable:</th>            <td>y</td>        <th>  R-squared:         </th> <td>   0.059</td> \n",
       "</tr>\n",
       "<tr>\n",
       "  <th>Model:</th>                   <td>OLS</td>       <th>  Adj. R-squared:    </th> <td>   0.057</td> \n",
       "</tr>\n",
       "<tr>\n",
       "  <th>Method:</th>             <td>Least Squares</td>  <th>  F-statistic:       </th> <td>   39.70</td> \n",
       "</tr>\n",
       "<tr>\n",
       "  <th>Date:</th>             <td>Tue, 22 Dec 2020</td> <th>  Prob (F-statistic):</th> <td>6.96e-62</td> \n",
       "</tr>\n",
       "<tr>\n",
       "  <th>Time:</th>                 <td>07:57:12</td>     <th>  Log-Likelihood:    </th> <td> -7530.0</td> \n",
       "</tr>\n",
       "<tr>\n",
       "  <th>No. Observations:</th>      <td>  5113</td>      <th>  AIC:               </th> <td>1.508e+04</td>\n",
       "</tr>\n",
       "<tr>\n",
       "  <th>Df Residuals:</th>          <td>  5104</td>      <th>  BIC:               </th> <td>1.514e+04</td>\n",
       "</tr>\n",
       "<tr>\n",
       "  <th>Df Model:</th>              <td>     8</td>      <th>                     </th>     <td> </td>    \n",
       "</tr>\n",
       "<tr>\n",
       "  <th>Covariance Type:</th>      <td>nonrobust</td>    <th>                     </th>     <td> </td>    \n",
       "</tr>\n",
       "</table>\n",
       "<table class=\"simpletable\">\n",
       "<tr>\n",
       "            <td></td>              <th>coef</th>     <th>std err</th>      <th>t</th>      <th>P>|t|</th>  <th>[0.025</th>    <th>0.975]</th>  \n",
       "</tr>\n",
       "<tr>\n",
       "  <th>const</th>                <td>    3.3097</td> <td>    0.036</td> <td>   91.889</td> <td> 0.000</td> <td>    3.239</td> <td>    3.380</td>\n",
       "</tr>\n",
       "<tr>\n",
       "  <th>Homeschool Children</th>  <td>    0.0920</td> <td>    0.051</td> <td>    1.788</td> <td> 0.074</td> <td>   -0.009</td> <td>    0.193</td>\n",
       "</tr>\n",
       "<tr>\n",
       "  <th>Job At Risk</th>          <td>    0.1094</td> <td>    0.062</td> <td>    1.754</td> <td> 0.079</td> <td>   -0.013</td> <td>    0.232</td>\n",
       "</tr>\n",
       "<tr>\n",
       "  <th>Lost Job</th>             <td>    0.3968</td> <td>    0.057</td> <td>    7.011</td> <td> 0.000</td> <td>    0.286</td> <td>    0.508</td>\n",
       "</tr>\n",
       "<tr>\n",
       "  <th>Lower Income</th>         <td>    0.1133</td> <td>    0.042</td> <td>    2.673</td> <td> 0.008</td> <td>    0.030</td> <td>    0.196</td>\n",
       "</tr>\n",
       "<tr>\n",
       "  <th>Now Work From Home</th>   <td>    0.5147</td> <td>    0.040</td> <td>   12.829</td> <td> 0.000</td> <td>    0.436</td> <td>    0.593</td>\n",
       "</tr>\n",
       "<tr>\n",
       "  <th>Reduced Hours</th>        <td>    0.4747</td> <td>    0.045</td> <td>   10.591</td> <td> 0.000</td> <td>    0.387</td> <td>    0.563</td>\n",
       "</tr>\n",
       "<tr>\n",
       "  <th>Still Go To Work</th>     <td>    0.4369</td> <td>    0.043</td> <td>   10.097</td> <td> 0.000</td> <td>    0.352</td> <td>    0.522</td>\n",
       "</tr>\n",
       "<tr>\n",
       "  <th>Still Work From Home</th> <td>    0.4938</td> <td>    0.043</td> <td>   11.408</td> <td> 0.000</td> <td>    0.409</td> <td>    0.579</td>\n",
       "</tr>\n",
       "</table>\n",
       "<table class=\"simpletable\">\n",
       "<tr>\n",
       "  <th>Omnibus:</th>       <td>117.723</td> <th>  Durbin-Watson:     </th> <td>   1.713</td>\n",
       "</tr>\n",
       "<tr>\n",
       "  <th>Prob(Omnibus):</th> <td> 0.000</td>  <th>  Jarque-Bera (JB):  </th> <td> 173.811</td>\n",
       "</tr>\n",
       "<tr>\n",
       "  <th>Skew:</th>          <td> 0.247</td>  <th>  Prob(JB):          </th> <td>1.81e-38</td>\n",
       "</tr>\n",
       "<tr>\n",
       "  <th>Kurtosis:</th>      <td> 3.757</td>  <th>  Cond. No.          </th> <td>    5.91</td>\n",
       "</tr>\n",
       "</table><br/><br/>Notes:<br/>[1] Standard Errors assume that the covariance matrix of the errors is correctly specified."
      ],
      "text/plain": [
       "<class 'statsmodels.iolib.summary.Summary'>\n",
       "\"\"\"\n",
       "                            OLS Regression Results                            \n",
       "==============================================================================\n",
       "Dep. Variable:                      y   R-squared:                       0.059\n",
       "Model:                            OLS   Adj. R-squared:                  0.057\n",
       "Method:                 Least Squares   F-statistic:                     39.70\n",
       "Date:                Tue, 22 Dec 2020   Prob (F-statistic):           6.96e-62\n",
       "Time:                        07:57:12   Log-Likelihood:                -7530.0\n",
       "No. Observations:                5113   AIC:                         1.508e+04\n",
       "Df Residuals:                    5104   BIC:                         1.514e+04\n",
       "Df Model:                           8                                         \n",
       "Covariance Type:            nonrobust                                         \n",
       "========================================================================================\n",
       "                           coef    std err          t      P>|t|      [0.025      0.975]\n",
       "----------------------------------------------------------------------------------------\n",
       "const                    3.3097      0.036     91.889      0.000       3.239       3.380\n",
       "Homeschool Children      0.0920      0.051      1.788      0.074      -0.009       0.193\n",
       "Job At Risk              0.1094      0.062      1.754      0.079      -0.013       0.232\n",
       "Lost Job                 0.3968      0.057      7.011      0.000       0.286       0.508\n",
       "Lower Income             0.1133      0.042      2.673      0.008       0.030       0.196\n",
       "Now Work From Home       0.5147      0.040     12.829      0.000       0.436       0.593\n",
       "Reduced Hours            0.4747      0.045     10.591      0.000       0.387       0.563\n",
       "Still Go To Work         0.4369      0.043     10.097      0.000       0.352       0.522\n",
       "Still Work From Home     0.4938      0.043     11.408      0.000       0.409       0.579\n",
       "==============================================================================\n",
       "Omnibus:                      117.723   Durbin-Watson:                   1.713\n",
       "Prob(Omnibus):                  0.000   Jarque-Bera (JB):              173.811\n",
       "Skew:                           0.247   Prob(JB):                     1.81e-38\n",
       "Kurtosis:                       3.757   Cond. No.                         5.91\n",
       "==============================================================================\n",
       "\n",
       "Notes:\n",
       "[1] Standard Errors assume that the covariance matrix of the errors is correctly specified.\n",
       "\"\"\""
      ]
     },
     "execution_count": 16,
     "metadata": {},
     "output_type": "execute_result"
    }
   ],
   "source": [
    "# regression\n",
    "X = all_X.loc[:,work]\n",
    "X.columns = X.columns.str.replace(r'^.*-', '', regex=True)\n",
    "X = sm.add_constant(X)\n",
    "\n",
    "model = sm.OLS(y, X)\n",
    "results = model.fit()\n",
    "results.summary()"
   ]
  },
  {
   "cell_type": "markdown",
   "metadata": {},
   "source": [
    "### Living Situation during the Pandemic"
   ]
  },
  {
   "cell_type": "code",
   "execution_count": 17,
   "metadata": {},
   "outputs": [
    {
     "data": {
      "text/plain": [
       "<AxesSubplot:>"
      ]
     },
     "execution_count": 17,
     "metadata": {},
     "output_type": "execute_result"
    },
    {
     "data": {
      "image/png": "[encoded data removed]",
      "text/plain": [
       "<Figure size 576x576 with 2 Axes>"
      ]
     },
     "metadata": {
      "needs_background": "light"
     },
     "output_type": "display_data"
    }
   ],
   "source": [
    "# correlations\n",
    "data = all_X.loc[:,living]\n",
    "data.columns = data.columns.str.replace(r'^.*-', '', regex=True)\n",
    "data['POSITIVE EMOTIONS'] = y\n",
    "corr = data.corr()\n",
    "fig, ax = plt.subplots(figsize=(8, 8))\n",
    "cmap = sns.diverging_palette(230, 10, as_cmap=True)\n",
    "mask = np.triu(np.ones_like(corr))\n",
    "sns.heatmap(corr, cmap = cmap, fmt = '.2g', vmax = 1.0, vmin = -1.0, center = 0, square = True, \\\n",
    "            mask = mask, linewidths = 0.7, cbar_kws = {\"shrink\": 0.5}, annot = False)"
   ]
  },
  {
   "cell_type": "code",
   "execution_count": 18,
   "metadata": {},
   "outputs": [
    {
     "data": {
      "text/html": [
       "<table class=\"simpletable\">\n",
       "<caption>OLS Regression Results</caption>\n",
       "<tr>\n",
       "  <th>Dep. Variable:</th>            <td>y</td>        <th>  R-squared:         </th> <td>   0.034</td> \n",
       "</tr>\n",
       "<tr>\n",
       "  <th>Model:</th>                   <td>OLS</td>       <th>  Adj. R-squared:    </th> <td>   0.033</td> \n",
       "</tr>\n",
       "<tr>\n",
       "  <th>Method:</th>             <td>Least Squares</td>  <th>  F-statistic:       </th> <td>   18.21</td> \n",
       "</tr>\n",
       "<tr>\n",
       "  <th>Date:</th>             <td>Tue, 22 Dec 2020</td> <th>  Prob (F-statistic):</th> <td>3.65e-33</td> \n",
       "</tr>\n",
       "<tr>\n",
       "  <th>Time:</th>                 <td>07:57:13</td>     <th>  Log-Likelihood:    </th> <td> -7594.6</td> \n",
       "</tr>\n",
       "<tr>\n",
       "  <th>No. Observations:</th>      <td>  5113</td>      <th>  AIC:               </th> <td>1.521e+04</td>\n",
       "</tr>\n",
       "<tr>\n",
       "  <th>Df Residuals:</th>          <td>  5102</td>      <th>  BIC:               </th> <td>1.528e+04</td>\n",
       "</tr>\n",
       "<tr>\n",
       "  <th>Df Model:</th>              <td>    10</td>      <th>                     </th>     <td> </td>    \n",
       "</tr>\n",
       "<tr>\n",
       "  <th>Covariance Type:</th>      <td>nonrobust</td>    <th>                     </th>     <td> </td>    \n",
       "</tr>\n",
       "</table>\n",
       "<table class=\"simpletable\">\n",
       "<tr>\n",
       "     <td></td>        <th>coef</th>     <th>std err</th>      <th>t</th>      <th>P>|t|</th>  <th>[0.025</th>    <th>0.975]</th>  \n",
       "</tr>\n",
       "<tr>\n",
       "  <th>const</th>   <td>    3.4412</td> <td>    0.045</td> <td>   76.158</td> <td> 0.000</td> <td>    3.353</td> <td>    3.530</td>\n",
       "</tr>\n",
       "<tr>\n",
       "  <th>Alone</th>   <td>    0.2289</td> <td>    0.057</td> <td>    3.993</td> <td> 0.000</td> <td>    0.117</td> <td>    0.341</td>\n",
       "</tr>\n",
       "<tr>\n",
       "  <th>Child</th>   <td>    0.3170</td> <td>    0.035</td> <td>    9.045</td> <td> 0.000</td> <td>    0.248</td> <td>    0.386</td>\n",
       "</tr>\n",
       "<tr>\n",
       "  <th>Elderly</th> <td>    0.4024</td> <td>    0.118</td> <td>    3.418</td> <td> 0.001</td> <td>    0.172</td> <td>    0.633</td>\n",
       "</tr>\n",
       "<tr>\n",
       "  <th>Friend</th>  <td>    0.4171</td> <td>    0.118</td> <td>    3.533</td> <td> 0.000</td> <td>    0.186</td> <td>    0.648</td>\n",
       "</tr>\n",
       "<tr>\n",
       "  <th>Other</th>   <td>   -0.0084</td> <td>    0.113</td> <td>   -0.075</td> <td> 0.940</td> <td>   -0.230</td> <td>    0.213</td>\n",
       "</tr>\n",
       "<tr>\n",
       "  <th>Parent</th>  <td>    0.3712</td> <td>    0.048</td> <td>    7.669</td> <td> 0.000</td> <td>    0.276</td> <td>    0.466</td>\n",
       "</tr>\n",
       "<tr>\n",
       "  <th>Partner</th> <td>    0.2664</td> <td>    0.045</td> <td>    5.947</td> <td> 0.000</td> <td>    0.179</td> <td>    0.354</td>\n",
       "</tr>\n",
       "<tr>\n",
       "  <th>Pet</th>     <td>   -0.1012</td> <td>    0.038</td> <td>   -2.693</td> <td> 0.007</td> <td>   -0.175</td> <td>   -0.028</td>\n",
       "</tr>\n",
       "<tr>\n",
       "  <th>Shared</th>  <td>   -0.1080</td> <td>    0.108</td> <td>   -1.000</td> <td> 0.318</td> <td>   -0.320</td> <td>    0.104</td>\n",
       "</tr>\n",
       "<tr>\n",
       "  <th>SibCous</th> <td>   -0.0233</td> <td>    0.079</td> <td>   -0.295</td> <td> 0.768</td> <td>   -0.178</td> <td>    0.132</td>\n",
       "</tr>\n",
       "</table>\n",
       "<table class=\"simpletable\">\n",
       "<tr>\n",
       "  <th>Omnibus:</th>       <td>153.088</td> <th>  Durbin-Watson:     </th> <td>   1.685</td>\n",
       "</tr>\n",
       "<tr>\n",
       "  <th>Prob(Omnibus):</th> <td> 0.000</td>  <th>  Jarque-Bera (JB):  </th> <td> 216.431</td>\n",
       "</tr>\n",
       "<tr>\n",
       "  <th>Skew:</th>          <td> 0.318</td>  <th>  Prob(JB):          </th> <td>1.01e-47</td>\n",
       "</tr>\n",
       "<tr>\n",
       "  <th>Kurtosis:</th>      <td> 3.781</td>  <th>  Cond. No.          </th> <td>    10.6</td>\n",
       "</tr>\n",
       "</table><br/><br/>Notes:<br/>[1] Standard Errors assume that the covariance matrix of the errors is correctly specified."
      ],
      "text/plain": [
       "<class 'statsmodels.iolib.summary.Summary'>\n",
       "\"\"\"\n",
       "                            OLS Regression Results                            \n",
       "==============================================================================\n",
       "Dep. Variable:                      y   R-squared:                       0.034\n",
       "Model:                            OLS   Adj. R-squared:                  0.033\n",
       "Method:                 Least Squares   F-statistic:                     18.21\n",
       "Date:                Tue, 22 Dec 2020   Prob (F-statistic):           3.65e-33\n",
       "Time:                        07:57:13   Log-Likelihood:                -7594.6\n",
       "No. Observations:                5113   AIC:                         1.521e+04\n",
       "Df Residuals:                    5102   BIC:                         1.528e+04\n",
       "Df Model:                          10                                         \n",
       "Covariance Type:            nonrobust                                         \n",
       "==============================================================================\n",
       "                 coef    std err          t      P>|t|      [0.025      0.975]\n",
       "------------------------------------------------------------------------------\n",
       "const          3.4412      0.045     76.158      0.000       3.353       3.530\n",
       "Alone          0.2289      0.057      3.993      0.000       0.117       0.341\n",
       "Child          0.3170      0.035      9.045      0.000       0.248       0.386\n",
       "Elderly        0.4024      0.118      3.418      0.001       0.172       0.633\n",
       "Friend         0.4171      0.118      3.533      0.000       0.186       0.648\n",
       "Other         -0.0084      0.113     -0.075      0.940      -0.230       0.213\n",
       "Parent         0.3712      0.048      7.669      0.000       0.276       0.466\n",
       "Partner        0.2664      0.045      5.947      0.000       0.179       0.354\n",
       "Pet           -0.1012      0.038     -2.693      0.007      -0.175      -0.028\n",
       "Shared        -0.1080      0.108     -1.000      0.318      -0.320       0.104\n",
       "SibCous       -0.0233      0.079     -0.295      0.768      -0.178       0.132\n",
       "==============================================================================\n",
       "Omnibus:                      153.088   Durbin-Watson:                   1.685\n",
       "Prob(Omnibus):                  0.000   Jarque-Bera (JB):              216.431\n",
       "Skew:                           0.318   Prob(JB):                     1.01e-47\n",
       "Kurtosis:                       3.781   Cond. No.                         10.6\n",
       "==============================================================================\n",
       "\n",
       "Notes:\n",
       "[1] Standard Errors assume that the covariance matrix of the errors is correctly specified.\n",
       "\"\"\""
      ]
     },
     "execution_count": 18,
     "metadata": {},
     "output_type": "execute_result"
    }
   ],
   "source": [
    "# regression\n",
    "X = all_X.loc[:,living]\n",
    "X.columns = X.columns.str.replace(r'^.*-', '', regex=True)\n",
    "X = sm.add_constant(X)\n",
    "\n",
    "model = sm.OLS(y, X)\n",
    "results = model.fit()\n",
    "results.summary()"
   ]
  }
 ],
 "metadata": {
  "kernelspec": {
   "display_name": "Python 3",
   "language": "python",
   "name": "python3"
  },
  "language_info": {
   "codemirror_mode": {
    "name": "ipython",
    "version": 3
   },
   "file_extension": ".py",
   "mimetype": "text/x-python",
   "name": "python",
   "nbconvert_exporter": "python",
   "pygments_lexer": "ipython3",
   "version": "3.8.10"
  },
  "varInspector": {
   "cols": {
    "lenName": 16,
    "lenType": 16,
    "lenVar": 40
   },
   "kernels_config": {
    "python": {
     "delete_cmd_postfix": "",
     "delete_cmd_prefix": "del ",
     "library": "var_list.py",
     "varRefreshCmd": "print(var_dic_list())"
    },
    "r": {
     "delete_cmd_postfix": ") ",
     "delete_cmd_prefix": "rm(",
     "library": "var_list.r",
     "varRefreshCmd": "cat(var_dic_list()) "
    }
   },
   "types_to_exclude": [
    "module",
    "function",
    "builtin_function_or_method",
    "instance",
    "_Feature"
   ],
   "window_display": false
  }
 },
 "nbformat": 4,
 "nbformat_minor": 2
}
