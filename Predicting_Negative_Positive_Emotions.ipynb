{
 "cells": [
  {
   "cell_type": "code",
   "execution_count": 1,
   "metadata": {},
   "outputs": [],
   "source": [
    "import numpy as np, pandas as pd, os, sys, seaborn as sns, warnings, matplotlib.pyplot as plt, statsmodels.api as sm\n",
    "pd.set_option('display.max_columns', None)\n",
    "pd.set_option('display.max_rows', None)\n",
    "%matplotlib inline\n",
    "plt.rcParams['figure.figsize'] = (14,4)\n",
    "warnings.filterwarnings(action='ignore')\n",
    "os.chdir(\"/Users/home/Desktop/Research/Coronavirus/Public GitHub\")\n",
    "%run Coronavirus_Music_Functions.ipynb"
   ]
  },
  {
   "cell_type": "code",
   "execution_count": 2,
   "metadata": {},
   "outputs": [
    {
     "data": {
      "text/plain": [
       "(5113, 238)"
      ]
     },
     "execution_count": 2,
     "metadata": {},
     "output_type": "execute_result"
    }
   ],
   "source": [
    "with open(\"/Users/home/Desktop/Research/Coronavirus/Public GitHub/factors_all_data.csv\", encoding=\"utf8\", errors='ignore') as file:\n",
    "    all_data = pd.read_csv(file)\n",
    "        \n",
    "all_data.rename(columns={'Demographics_General_Gender': 'Gender'}, inplace=True)\n",
    "all_data.columns = all_data.columns.str.replace(r'^.*_', '', regex=True)\n",
    "all_data.shape"
   ]
  },
  {
   "cell_type": "code",
   "execution_count": 3,
   "metadata": {},
   "outputs": [],
   "source": [
    "living = [c for c in all_data.columns if c.startswith('Living Situation') and 'No Response' not in c]\n",
    "work = [c for c in all_data.columns if c.startswith('Ways Work Affected') and 'No Response' not in c]\n",
    "covid = [c for c in all_data.columns if c.startswith('Infected with COVID') and 'No Response' not in c]\n",
    "col_list = living + work + covid\n",
    "\n",
    "all_X = all_data.loc[:,col_list]\n",
    "all_X.reset_index(inplace = True, drop = True)"
   ]
  },
  {
   "cell_type": "markdown",
   "metadata": {},
   "source": [
    "### **Factor 1: Negative Emotions**"
   ]
  },
  {
   "cell_type": "code",
   "execution_count": 4,
   "metadata": {},
   "outputs": [],
   "source": [
    "y = all_data.loc[:,'F1']"
   ]
  },
  {
   "cell_type": "code",
   "execution_count": 5,
   "metadata": {},
   "outputs": [
    {
     "data": {
      "text/plain": [
       "<AxesSubplot:>"
      ]
     },
     "execution_count": 5,
     "metadata": {},
     "output_type": "execute_result"
    },
    {
     "data": {
      "image/png": "[encoded data removed]",
      "text/plain": [
       "<Figure size 576x576 with 2 Axes>"
      ]
     },
     "metadata": {
      "needs_background": "light"
     },
     "output_type": "display_data"
    }
   ],
   "source": [
    "# living situation\n",
    "data = all_X.loc[:,living]\n",
    "data.columns = data.columns.str.replace(r'^.*-', '', regex=True)\n",
    "data['NEGATIVE EMOTIONS'] = y\n",
    "corr = data.corr()\n",
    "fig, ax = plt.subplots(figsize=(8, 8))\n",
    "cmap = sns.diverging_palette(230, 10, as_cmap=True)\n",
    "mask = np.triu(np.ones_like(corr))\n",
    "sns.heatmap(corr, cmap = cmap, fmt = '.2g', vmax = 1.0, vmin = -1.0, center = 0, square = True, \\\n",
    "            mask = mask, linewidths = 0.7, cbar_kws = {\"shrink\": 0.5}, annot = False)"
   ]
  },
  {
   "cell_type": "code",
   "execution_count": 6,
   "metadata": {},
   "outputs": [
    {
     "data": {
      "text/html": [
       "<table class=\"simpletable\">\n",
       "<caption>OLS Regression Results</caption>\n",
       "<tr>\n",
       "  <th>Dep. Variable:</th>           <td>F1</td>        <th>  R-squared:         </th> <td>   0.019</td> \n",
       "</tr>\n",
       "<tr>\n",
       "  <th>Model:</th>                   <td>OLS</td>       <th>  Adj. R-squared:    </th> <td>   0.017</td> \n",
       "</tr>\n",
       "<tr>\n",
       "  <th>Method:</th>             <td>Least Squares</td>  <th>  F-statistic:       </th> <td>   9.913</td> \n",
       "</tr>\n",
       "<tr>\n",
       "  <th>Date:</th>             <td>Mon, 07 Dec 2020</td> <th>  Prob (F-statistic):</th> <td>1.21e-16</td> \n",
       "</tr>\n",
       "<tr>\n",
       "  <th>Time:</th>                 <td>14:37:23</td>     <th>  Log-Likelihood:    </th> <td> -6880.7</td> \n",
       "</tr>\n",
       "<tr>\n",
       "  <th>No. Observations:</th>      <td>  5113</td>      <th>  AIC:               </th> <td>1.378e+04</td>\n",
       "</tr>\n",
       "<tr>\n",
       "  <th>Df Residuals:</th>          <td>  5102</td>      <th>  BIC:               </th> <td>1.386e+04</td>\n",
       "</tr>\n",
       "<tr>\n",
       "  <th>Df Model:</th>              <td>    10</td>      <th>                     </th>     <td> </td>    \n",
       "</tr>\n",
       "<tr>\n",
       "  <th>Covariance Type:</th>      <td>nonrobust</td>    <th>                     </th>     <td> </td>    \n",
       "</tr>\n",
       "</table>\n",
       "<table class=\"simpletable\">\n",
       "<tr>\n",
       "     <td></td>        <th>coef</th>     <th>std err</th>      <th>t</th>      <th>P>|t|</th>  <th>[0.025</th>    <th>0.975]</th>  \n",
       "</tr>\n",
       "<tr>\n",
       "  <th>const</th>   <td>   -0.1393</td> <td>    0.040</td> <td>   -3.503</td> <td> 0.000</td> <td>   -0.217</td> <td>   -0.061</td>\n",
       "</tr>\n",
       "<tr>\n",
       "  <th>Alone</th>   <td>    0.1506</td> <td>    0.051</td> <td>    2.978</td> <td> 0.003</td> <td>    0.051</td> <td>    0.250</td>\n",
       "</tr>\n",
       "<tr>\n",
       "  <th>Child</th>   <td>    0.2111</td> <td>    0.030</td> <td>    6.924</td> <td> 0.000</td> <td>    0.151</td> <td>    0.271</td>\n",
       "</tr>\n",
       "<tr>\n",
       "  <th>Elderly</th> <td>   -0.1129</td> <td>    0.102</td> <td>   -1.102</td> <td> 0.270</td> <td>   -0.314</td> <td>    0.088</td>\n",
       "</tr>\n",
       "<tr>\n",
       "  <th>Friend</th>  <td>    0.5510</td> <td>    0.103</td> <td>    5.353</td> <td> 0.000</td> <td>    0.349</td> <td>    0.753</td>\n",
       "</tr>\n",
       "<tr>\n",
       "  <th>Other</th>   <td>    0.0466</td> <td>    0.098</td> <td>    0.475</td> <td> 0.635</td> <td>   -0.146</td> <td>    0.239</td>\n",
       "</tr>\n",
       "<tr>\n",
       "  <th>Parent</th>  <td>    0.0931</td> <td>    0.042</td> <td>    2.200</td> <td> 0.028</td> <td>    0.010</td> <td>    0.176</td>\n",
       "</tr>\n",
       "<tr>\n",
       "  <th>Partner</th> <td>    0.0163</td> <td>    0.039</td> <td>    0.416</td> <td> 0.678</td> <td>   -0.061</td> <td>    0.093</td>\n",
       "</tr>\n",
       "<tr>\n",
       "  <th>Pet</th>     <td>   -0.0092</td> <td>    0.033</td> <td>   -0.280</td> <td> 0.779</td> <td>   -0.073</td> <td>    0.055</td>\n",
       "</tr>\n",
       "<tr>\n",
       "  <th>Shared</th>  <td>    0.4049</td> <td>    0.094</td> <td>    4.307</td> <td> 0.000</td> <td>    0.221</td> <td>    0.589</td>\n",
       "</tr>\n",
       "<tr>\n",
       "  <th>SibCous</th> <td>    0.0278</td> <td>    0.080</td> <td>    0.348</td> <td> 0.728</td> <td>   -0.129</td> <td>    0.185</td>\n",
       "</tr>\n",
       "</table>\n",
       "<table class=\"simpletable\">\n",
       "<tr>\n",
       "  <th>Omnibus:</th>       <td>127.251</td> <th>  Durbin-Watson:     </th> <td>   1.885</td>\n",
       "</tr>\n",
       "<tr>\n",
       "  <th>Prob(Omnibus):</th> <td> 0.000</td>  <th>  Jarque-Bera (JB):  </th> <td> 149.243</td>\n",
       "</tr>\n",
       "<tr>\n",
       "  <th>Skew:</th>          <td>-0.338</td>  <th>  Prob(JB):          </th> <td>3.91e-33</td>\n",
       "</tr>\n",
       "<tr>\n",
       "  <th>Kurtosis:</th>      <td> 3.493</td>  <th>  Cond. No.          </th> <td>    11.2</td>\n",
       "</tr>\n",
       "</table><br/><br/>Notes:<br/>[1] Standard Errors assume that the covariance matrix of the errors is correctly specified."
      ],
      "text/plain": [
       "<class 'statsmodels.iolib.summary.Summary'>\n",
       "\"\"\"\n",
       "                            OLS Regression Results                            \n",
       "==============================================================================\n",
       "Dep. Variable:                     F1   R-squared:                       0.019\n",
       "Model:                            OLS   Adj. R-squared:                  0.017\n",
       "Method:                 Least Squares   F-statistic:                     9.913\n",
       "Date:                Mon, 07 Dec 2020   Prob (F-statistic):           1.21e-16\n",
       "Time:                        14:37:23   Log-Likelihood:                -6880.7\n",
       "No. Observations:                5113   AIC:                         1.378e+04\n",
       "Df Residuals:                    5102   BIC:                         1.386e+04\n",
       "Df Model:                          10                                         \n",
       "Covariance Type:            nonrobust                                         \n",
       "==============================================================================\n",
       "                 coef    std err          t      P>|t|      [0.025      0.975]\n",
       "------------------------------------------------------------------------------\n",
       "const         -0.1393      0.040     -3.503      0.000      -0.217      -0.061\n",
       "Alone          0.1506      0.051      2.978      0.003       0.051       0.250\n",
       "Child          0.2111      0.030      6.924      0.000       0.151       0.271\n",
       "Elderly       -0.1129      0.102     -1.102      0.270      -0.314       0.088\n",
       "Friend         0.5510      0.103      5.353      0.000       0.349       0.753\n",
       "Other          0.0466      0.098      0.475      0.635      -0.146       0.239\n",
       "Parent         0.0931      0.042      2.200      0.028       0.010       0.176\n",
       "Partner        0.0163      0.039      0.416      0.678      -0.061       0.093\n",
       "Pet           -0.0092      0.033     -0.280      0.779      -0.073       0.055\n",
       "Shared         0.4049      0.094      4.307      0.000       0.221       0.589\n",
       "SibCous        0.0278      0.080      0.348      0.728      -0.129       0.185\n",
       "==============================================================================\n",
       "Omnibus:                      127.251   Durbin-Watson:                   1.885\n",
       "Prob(Omnibus):                  0.000   Jarque-Bera (JB):              149.243\n",
       "Skew:                          -0.338   Prob(JB):                     3.91e-33\n",
       "Kurtosis:                       3.493   Cond. No.                         11.2\n",
       "==============================================================================\n",
       "\n",
       "Notes:\n",
       "[1] Standard Errors assume that the covariance matrix of the errors is correctly specified.\n",
       "\"\"\""
      ]
     },
     "execution_count": 6,
     "metadata": {},
     "output_type": "execute_result"
    }
   ],
   "source": [
    "X = all_X.loc[:,living]\n",
    "X.columns = X.columns.str.replace(r'^.*-', '', regex=True)\n",
    "X = sm.add_constant(X)\n",
    "\n",
    "avg_ols_model = sm.OLS(y, X)\n",
    "avg_results = avg_ols_model.fit(L1_wt=1, refit=True)\n",
    "f1_living_r2 = avg_results.rsquared\n",
    "avg_results.summary()"
   ]
  },
  {
   "cell_type": "code",
   "execution_count": 7,
   "metadata": {},
   "outputs": [
    {
     "data": {
      "text/plain": [
       "<AxesSubplot:>"
      ]
     },
     "execution_count": 7,
     "metadata": {},
     "output_type": "execute_result"
    },
    {
     "data": {
      "image/png": "[encoded data removed]",
      "text/plain": [
       "<Figure size 576x576 with 2 Axes>"
      ]
     },
     "metadata": {
      "needs_background": "light"
     },
     "output_type": "display_data"
    }
   ],
   "source": [
    "# work situation\n",
    "data = all_X.loc[:,work]\n",
    "data.columns = data.columns.str.replace(r'^.*-', '', regex=True)\n",
    "data['NEGATIVE EMOTIONS'] = y\n",
    "corr = data.corr()\n",
    "fig, ax = plt.subplots(figsize=(8, 8))\n",
    "cmap = sns.diverging_palette(230, 10, as_cmap=True)\n",
    "mask = np.triu(np.ones_like(corr))\n",
    "sns.heatmap(corr, cmap = cmap, fmt = '.2g', vmax = 1.0, vmin = -1.0, center = 0, square = True, \\\n",
    "            mask = mask, linewidths = 0.7, cbar_kws = {\"shrink\": 0.5}, annot = False)"
   ]
  },
  {
   "cell_type": "code",
   "execution_count": 8,
   "metadata": {},
   "outputs": [
    {
     "data": {
      "text/html": [
       "<table class=\"simpletable\">\n",
       "<caption>OLS Regression Results</caption>\n",
       "<tr>\n",
       "  <th>Dep. Variable:</th>           <td>F1</td>        <th>  R-squared:         </th> <td>   0.044</td> \n",
       "</tr>\n",
       "<tr>\n",
       "  <th>Model:</th>                   <td>OLS</td>       <th>  Adj. R-squared:    </th> <td>   0.043</td> \n",
       "</tr>\n",
       "<tr>\n",
       "  <th>Method:</th>             <td>Least Squares</td>  <th>  F-statistic:       </th> <td>   26.25</td> \n",
       "</tr>\n",
       "<tr>\n",
       "  <th>Date:</th>             <td>Mon, 07 Dec 2020</td> <th>  Prob (F-statistic):</th> <td>9.63e-45</td> \n",
       "</tr>\n",
       "<tr>\n",
       "  <th>Time:</th>                 <td>14:37:24</td>     <th>  Log-Likelihood:    </th> <td> -6814.2</td> \n",
       "</tr>\n",
       "<tr>\n",
       "  <th>No. Observations:</th>      <td>  5113</td>      <th>  AIC:               </th> <td>1.365e+04</td>\n",
       "</tr>\n",
       "<tr>\n",
       "  <th>Df Residuals:</th>          <td>  5104</td>      <th>  BIC:               </th> <td>1.371e+04</td>\n",
       "</tr>\n",
       "<tr>\n",
       "  <th>Df Model:</th>              <td>     9</td>      <th>                     </th>     <td> </td>    \n",
       "</tr>\n",
       "<tr>\n",
       "  <th>Covariance Type:</th>      <td>nonrobust</td>    <th>                     </th>     <td> </td>    \n",
       "</tr>\n",
       "</table>\n",
       "<table class=\"simpletable\">\n",
       "<tr>\n",
       "            <td></td>              <th>coef</th>     <th>std err</th>      <th>t</th>      <th>P>|t|</th>  <th>[0.025</th>    <th>0.975]</th>  \n",
       "</tr>\n",
       "<tr>\n",
       "  <th>const</th>                <td>   -0.2160</td> <td>    0.031</td> <td>   -6.898</td> <td> 0.000</td> <td>   -0.277</td> <td>   -0.155</td>\n",
       "</tr>\n",
       "<tr>\n",
       "  <th>Homeschool Children</th>  <td>    0.0540</td> <td>    0.045</td> <td>    1.206</td> <td> 0.228</td> <td>   -0.034</td> <td>    0.142</td>\n",
       "</tr>\n",
       "<tr>\n",
       "  <th>Job At Risk</th>          <td>    0.3616</td> <td>    0.054</td> <td>    6.670</td> <td> 0.000</td> <td>    0.255</td> <td>    0.468</td>\n",
       "</tr>\n",
       "<tr>\n",
       "  <th>Lost Job</th>             <td>    0.3398</td> <td>    0.049</td> <td>    6.905</td> <td> 0.000</td> <td>    0.243</td> <td>    0.436</td>\n",
       "</tr>\n",
       "<tr>\n",
       "  <th>Lower Income</th>         <td>    0.2554</td> <td>    0.037</td> <td>    6.932</td> <td> 0.000</td> <td>    0.183</td> <td>    0.328</td>\n",
       "</tr>\n",
       "<tr>\n",
       "  <th>Now Work From Home</th>   <td>    0.1476</td> <td>    0.035</td> <td>    4.232</td> <td> 0.000</td> <td>    0.079</td> <td>    0.216</td>\n",
       "</tr>\n",
       "<tr>\n",
       "  <th>Reduced Hours</th>        <td>    0.1783</td> <td>    0.039</td> <td>    4.577</td> <td> 0.000</td> <td>    0.102</td> <td>    0.255</td>\n",
       "</tr>\n",
       "<tr>\n",
       "  <th>Still Go To Work</th>     <td>    0.1092</td> <td>    0.038</td> <td>    2.902</td> <td> 0.004</td> <td>    0.035</td> <td>    0.183</td>\n",
       "</tr>\n",
       "<tr>\n",
       "  <th>Still Work From Home</th> <td>    0.1010</td> <td>    0.038</td> <td>    2.685</td> <td> 0.007</td> <td>    0.027</td> <td>    0.175</td>\n",
       "</tr>\n",
       "</table>\n",
       "<table class=\"simpletable\">\n",
       "<tr>\n",
       "  <th>Omnibus:</th>       <td>184.763</td> <th>  Durbin-Watson:     </th> <td>   1.908</td>\n",
       "</tr>\n",
       "<tr>\n",
       "  <th>Prob(Omnibus):</th> <td> 0.000</td>  <th>  Jarque-Bera (JB):  </th> <td> 225.511</td>\n",
       "</tr>\n",
       "<tr>\n",
       "  <th>Skew:</th>          <td>-0.417</td>  <th>  Prob(JB):          </th> <td>1.07e-49</td>\n",
       "</tr>\n",
       "<tr>\n",
       "  <th>Kurtosis:</th>      <td> 3.603</td>  <th>  Cond. No.          </th> <td>    5.91</td>\n",
       "</tr>\n",
       "</table><br/><br/>Notes:<br/>[1] Standard Errors assume that the covariance matrix of the errors is correctly specified."
      ],
      "text/plain": [
       "<class 'statsmodels.iolib.summary.Summary'>\n",
       "\"\"\"\n",
       "                            OLS Regression Results                            \n",
       "==============================================================================\n",
       "Dep. Variable:                     F1   R-squared:                       0.044\n",
       "Model:                            OLS   Adj. R-squared:                  0.043\n",
       "Method:                 Least Squares   F-statistic:                     26.25\n",
       "Date:                Mon, 07 Dec 2020   Prob (F-statistic):           9.63e-45\n",
       "Time:                        14:37:24   Log-Likelihood:                -6814.2\n",
       "No. Observations:                5113   AIC:                         1.365e+04\n",
       "Df Residuals:                    5104   BIC:                         1.371e+04\n",
       "Df Model:                           9                                         \n",
       "Covariance Type:            nonrobust                                         \n",
       "========================================================================================\n",
       "                           coef    std err          t      P>|t|      [0.025      0.975]\n",
       "----------------------------------------------------------------------------------------\n",
       "const                   -0.2160      0.031     -6.898      0.000      -0.277      -0.155\n",
       "Homeschool Children      0.0540      0.045      1.206      0.228      -0.034       0.142\n",
       "Job At Risk              0.3616      0.054      6.670      0.000       0.255       0.468\n",
       "Lost Job                 0.3398      0.049      6.905      0.000       0.243       0.436\n",
       "Lower Income             0.2554      0.037      6.932      0.000       0.183       0.328\n",
       "Now Work From Home       0.1476      0.035      4.232      0.000       0.079       0.216\n",
       "Reduced Hours            0.1783      0.039      4.577      0.000       0.102       0.255\n",
       "Still Go To Work         0.1092      0.038      2.902      0.004       0.035       0.183\n",
       "Still Work From Home     0.1010      0.038      2.685      0.007       0.027       0.175\n",
       "==============================================================================\n",
       "Omnibus:                      184.763   Durbin-Watson:                   1.908\n",
       "Prob(Omnibus):                  0.000   Jarque-Bera (JB):              225.511\n",
       "Skew:                          -0.417   Prob(JB):                     1.07e-49\n",
       "Kurtosis:                       3.603   Cond. No.                         5.91\n",
       "==============================================================================\n",
       "\n",
       "Notes:\n",
       "[1] Standard Errors assume that the covariance matrix of the errors is correctly specified.\n",
       "\"\"\""
      ]
     },
     "execution_count": 8,
     "metadata": {},
     "output_type": "execute_result"
    }
   ],
   "source": [
    "X = all_X.loc[:,work]\n",
    "X.columns = X.columns.str.replace(r'^.*-', '', regex=True)\n",
    "X = sm.add_constant(X)\n",
    "\n",
    "avg_ols_model = sm.OLS(y, X)\n",
    "avg_results = avg_ols_model.fit_regularized(L1_wt=1, refit=True)\n",
    "f1_work_r2 = avg_results.rsquared\n",
    "avg_results.summary()"
   ]
  },
  {
   "cell_type": "code",
   "execution_count": 9,
   "metadata": {},
   "outputs": [
    {
     "data": {
      "text/plain": [
       "<AxesSubplot:>"
      ]
     },
     "execution_count": 9,
     "metadata": {},
     "output_type": "execute_result"
    },
    {
     "data": {
      "image/png": "[encoded data removed]",
      "text/plain": [
       "<Figure size 576x576 with 2 Axes>"
      ]
     },
     "metadata": {
      "needs_background": "light"
     },
     "output_type": "display_data"
    }
   ],
   "source": [
    "# contact with Covid-19\n",
    "data = all_X.loc[:,covid]\n",
    "data.columns = data.columns.str.replace(r'^.*-', '', regex=True)\n",
    "data['NEGATIVE EMOTIONS'] = y\n",
    "corr = data.corr()\n",
    "fig, ax = plt.subplots(figsize=(8, 8))\n",
    "cmap = sns.diverging_palette(230, 10, as_cmap=True)\n",
    "mask = np.triu(np.ones_like(corr))\n",
    "sns.heatmap(corr, cmap = cmap, fmt = '.2g', vmax = 1.0, vmin = -1.0, center = 0, square = True, \\\n",
    "            mask = mask, linewidths = 0.7, cbar_kws = {\"shrink\": 0.5}, annot = False)"
   ]
  },
  {
   "cell_type": "code",
   "execution_count": 10,
   "metadata": {},
   "outputs": [
    {
     "data": {
      "text/html": [
       "<table class=\"simpletable\">\n",
       "<caption>OLS Regression Results</caption>\n",
       "<tr>\n",
       "  <th>Dep. Variable:</th>           <td>F1</td>        <th>  R-squared:         </th> <td>   0.086</td> \n",
       "</tr>\n",
       "<tr>\n",
       "  <th>Model:</th>                   <td>OLS</td>       <th>  Adj. R-squared:    </th> <td>   0.084</td> \n",
       "</tr>\n",
       "<tr>\n",
       "  <th>Method:</th>             <td>Least Squares</td>  <th>  F-statistic:       </th> <td>   59.74</td> \n",
       "</tr>\n",
       "<tr>\n",
       "  <th>Date:</th>             <td>Mon, 07 Dec 2020</td> <th>  Prob (F-statistic):</th> <td>1.12e-93</td> \n",
       "</tr>\n",
       "<tr>\n",
       "  <th>Time:</th>                 <td>14:37:24</td>     <th>  Log-Likelihood:    </th> <td> -6701.1</td> \n",
       "</tr>\n",
       "<tr>\n",
       "  <th>No. Observations:</th>      <td>  5113</td>      <th>  AIC:               </th> <td>1.342e+04</td>\n",
       "</tr>\n",
       "<tr>\n",
       "  <th>Df Residuals:</th>          <td>  5105</td>      <th>  BIC:               </th> <td>1.348e+04</td>\n",
       "</tr>\n",
       "<tr>\n",
       "  <th>Df Model:</th>              <td>     8</td>      <th>                     </th>     <td> </td>    \n",
       "</tr>\n",
       "<tr>\n",
       "  <th>Covariance Type:</th>      <td>nonrobust</td>    <th>                     </th>     <td> </td>    \n",
       "</tr>\n",
       "</table>\n",
       "<table class=\"simpletable\">\n",
       "<tr>\n",
       "               <td></td>                  <th>coef</th>     <th>std err</th>      <th>t</th>      <th>P>|t|</th>  <th>[0.025</th>    <th>0.975]</th>  \n",
       "</tr>\n",
       "<tr>\n",
       "  <th>const</th>                       <td>   -0.0088</td> <td>    0.021</td> <td>   -0.430</td> <td> 0.667</td> <td>   -0.049</td> <td>    0.032</td>\n",
       "</tr>\n",
       "<tr>\n",
       "  <th>I Am Infected</th>               <td>    0.4982</td> <td>    0.070</td> <td>    7.167</td> <td> 0.000</td> <td>    0.362</td> <td>    0.635</td>\n",
       "</tr>\n",
       "<tr>\n",
       "  <th>I Am Mourning A Loss</th>        <td>    0.3237</td> <td>    0.068</td> <td>    4.764</td> <td> 0.000</td> <td>    0.190</td> <td>    0.457</td>\n",
       "</tr>\n",
       "<tr>\n",
       "  <th>I Have Professional Contact</th> <td>    0.4307</td> <td>    0.057</td> <td>    7.578</td> <td> 0.000</td> <td>    0.319</td> <td>    0.542</td>\n",
       "</tr>\n",
       "<tr>\n",
       "  <th>I Live With Someone</th>         <td>    0.4618</td> <td>    0.072</td> <td>    6.381</td> <td> 0.000</td> <td>    0.320</td> <td>    0.604</td>\n",
       "</tr>\n",
       "<tr>\n",
       "  <th>None</th>                        <td>   -0.1884</td> <td>    0.028</td> <td>   -6.623</td> <td> 0.000</td> <td>   -0.244</td> <td>   -0.133</td>\n",
       "</tr>\n",
       "<tr>\n",
       "  <th>Prefer Not To Say</th>           <td>   -0.2345</td> <td>    0.068</td> <td>   -3.433</td> <td> 0.001</td> <td>   -0.368</td> <td>   -0.101</td>\n",
       "</tr>\n",
       "<tr>\n",
       "  <th>Someone I Am Close To</th>       <td>    0.1619</td> <td>    0.040</td> <td>    4.086</td> <td> 0.000</td> <td>    0.084</td> <td>    0.240</td>\n",
       "</tr>\n",
       "</table>\n",
       "<table class=\"simpletable\">\n",
       "<tr>\n",
       "  <th>Omnibus:</th>       <td>233.355</td> <th>  Durbin-Watson:     </th> <td>   1.918</td>\n",
       "</tr>\n",
       "<tr>\n",
       "  <th>Prob(Omnibus):</th> <td> 0.000</td>  <th>  Jarque-Bera (JB):  </th> <td> 295.640</td>\n",
       "</tr>\n",
       "<tr>\n",
       "  <th>Skew:</th>          <td>-0.474</td>  <th>  Prob(JB):          </th> <td>6.35e-65</td>\n",
       "</tr>\n",
       "<tr>\n",
       "  <th>Kurtosis:</th>      <td> 3.700</td>  <th>  Cond. No.          </th> <td>    7.06</td>\n",
       "</tr>\n",
       "</table><br/><br/>Notes:<br/>[1] Standard Errors assume that the covariance matrix of the errors is correctly specified."
      ],
      "text/plain": [
       "<class 'statsmodels.iolib.summary.Summary'>\n",
       "\"\"\"\n",
       "                            OLS Regression Results                            \n",
       "==============================================================================\n",
       "Dep. Variable:                     F1   R-squared:                       0.086\n",
       "Model:                            OLS   Adj. R-squared:                  0.084\n",
       "Method:                 Least Squares   F-statistic:                     59.74\n",
       "Date:                Mon, 07 Dec 2020   Prob (F-statistic):           1.12e-93\n",
       "Time:                        14:37:24   Log-Likelihood:                -6701.1\n",
       "No. Observations:                5113   AIC:                         1.342e+04\n",
       "Df Residuals:                    5105   BIC:                         1.348e+04\n",
       "Df Model:                           8                                         \n",
       "Covariance Type:            nonrobust                                         \n",
       "===============================================================================================\n",
       "                                  coef    std err          t      P>|t|      [0.025      0.975]\n",
       "-----------------------------------------------------------------------------------------------\n",
       "const                          -0.0088      0.021     -0.430      0.667      -0.049       0.032\n",
       "I Am Infected                   0.4982      0.070      7.167      0.000       0.362       0.635\n",
       "I Am Mourning A Loss            0.3237      0.068      4.764      0.000       0.190       0.457\n",
       "I Have Professional Contact     0.4307      0.057      7.578      0.000       0.319       0.542\n",
       "I Live With Someone             0.4618      0.072      6.381      0.000       0.320       0.604\n",
       "None                           -0.1884      0.028     -6.623      0.000      -0.244      -0.133\n",
       "Prefer Not To Say              -0.2345      0.068     -3.433      0.001      -0.368      -0.101\n",
       "Someone I Am Close To           0.1619      0.040      4.086      0.000       0.084       0.240\n",
       "==============================================================================\n",
       "Omnibus:                      233.355   Durbin-Watson:                   1.918\n",
       "Prob(Omnibus):                  0.000   Jarque-Bera (JB):              295.640\n",
       "Skew:                          -0.474   Prob(JB):                     6.35e-65\n",
       "Kurtosis:                       3.700   Cond. No.                         7.06\n",
       "==============================================================================\n",
       "\n",
       "Notes:\n",
       "[1] Standard Errors assume that the covariance matrix of the errors is correctly specified.\n",
       "\"\"\""
      ]
     },
     "execution_count": 10,
     "metadata": {},
     "output_type": "execute_result"
    }
   ],
   "source": [
    "X = all_X.loc[:,covid]\n",
    "X.columns = X.columns.str.replace(r'^.*-', '', regex=True)\n",
    "X = sm.add_constant(X)\n",
    "\n",
    "avg_ols_model = sm.OLS(y, X)\n",
    "avg_results = avg_ols_model.fit_regularized(L1_wt=1, refit=True)\n",
    "f1_covid_r2 = avg_results.rsquared\n",
    "avg_results.summary()"
   ]
  },
  {
   "cell_type": "markdown",
   "metadata": {},
   "source": [
    "### **Factor 3: Positive Emotions**"
   ]
  },
  {
   "cell_type": "code",
   "execution_count": 11,
   "metadata": {},
   "outputs": [],
   "source": [
    "y = all_data.loc[:,'F3']"
   ]
  },
  {
   "cell_type": "code",
   "execution_count": 12,
   "metadata": {},
   "outputs": [
    {
     "data": {
      "text/plain": [
       "<AxesSubplot:>"
      ]
     },
     "execution_count": 12,
     "metadata": {},
     "output_type": "execute_result"
    },
    {
     "data": {
      "image/png": "[encoded data removed]",
      "text/plain": [
       "<Figure size 576x576 with 2 Axes>"
      ]
     },
     "metadata": {
      "needs_background": "light"
     },
     "output_type": "display_data"
    }
   ],
   "source": [
    "# living situation\n",
    "data = all_X.loc[:,living]\n",
    "data.columns = data.columns.str.replace(r'^.*-', '', regex=True)\n",
    "data['POSITIVE EMOTIONS'] = y\n",
    "corr = data.corr()\n",
    "fig, ax = plt.subplots(figsize=(8, 8))\n",
    "cmap = sns.diverging_palette(230, 10, as_cmap=True)\n",
    "mask = np.triu(np.ones_like(corr))\n",
    "sns.heatmap(corr, cmap = cmap, fmt = '.2g', vmax = 1.0, vmin = -1.0, center = 0, square = True, \\\n",
    "            mask = mask, linewidths = 0.7, cbar_kws = {\"shrink\": 0.5}, annot = False)"
   ]
  },
  {
   "cell_type": "code",
   "execution_count": 13,
   "metadata": {},
   "outputs": [
    {
     "data": {
      "text/html": [
       "<table class=\"simpletable\">\n",
       "<caption>OLS Regression Results</caption>\n",
       "<tr>\n",
       "  <th>Dep. Variable:</th>           <td>F3</td>        <th>  R-squared:         </th> <td>   0.069</td> \n",
       "</tr>\n",
       "<tr>\n",
       "  <th>Model:</th>                   <td>OLS</td>       <th>  Adj. R-squared:    </th> <td>   0.067</td> \n",
       "</tr>\n",
       "<tr>\n",
       "  <th>Method:</th>             <td>Least Squares</td>  <th>  F-statistic:       </th> <td>   34.19</td> \n",
       "</tr>\n",
       "<tr>\n",
       "  <th>Date:</th>             <td>Mon, 07 Dec 2020</td> <th>  Prob (F-statistic):</th> <td>3.90e-71</td> \n",
       "</tr>\n",
       "<tr>\n",
       "  <th>Time:</th>                 <td>14:37:25</td>     <th>  Log-Likelihood:    </th> <td> -6302.6</td> \n",
       "</tr>\n",
       "<tr>\n",
       "  <th>No. Observations:</th>      <td>  5113</td>      <th>  AIC:               </th> <td>1.263e+04</td>\n",
       "</tr>\n",
       "<tr>\n",
       "  <th>Df Residuals:</th>          <td>  5102</td>      <th>  BIC:               </th> <td>1.271e+04</td>\n",
       "</tr>\n",
       "<tr>\n",
       "  <th>Df Model:</th>              <td>    11</td>      <th>                     </th>     <td> </td>    \n",
       "</tr>\n",
       "<tr>\n",
       "  <th>Covariance Type:</th>      <td>nonrobust</td>    <th>                     </th>     <td> </td>    \n",
       "</tr>\n",
       "</table>\n",
       "<table class=\"simpletable\">\n",
       "<tr>\n",
       "     <td></td>        <th>coef</th>     <th>std err</th>      <th>t</th>      <th>P>|t|</th>  <th>[0.025</th>    <th>0.975]</th>  \n",
       "</tr>\n",
       "<tr>\n",
       "  <th>const</th>   <td>   -0.3714</td> <td>    0.036</td> <td>  -10.458</td> <td> 0.000</td> <td>   -0.441</td> <td>   -0.302</td>\n",
       "</tr>\n",
       "<tr>\n",
       "  <th>Alone</th>   <td>    0.5129</td> <td>    0.045</td> <td>   11.350</td> <td> 0.000</td> <td>    0.424</td> <td>    0.601</td>\n",
       "</tr>\n",
       "<tr>\n",
       "  <th>Child</th>   <td>    0.3927</td> <td>    0.027</td> <td>   14.419</td> <td> 0.000</td> <td>    0.339</td> <td>    0.446</td>\n",
       "</tr>\n",
       "<tr>\n",
       "  <th>Elderly</th> <td>    0.2380</td> <td>    0.092</td> <td>    2.600</td> <td> 0.009</td> <td>    0.059</td> <td>    0.417</td>\n",
       "</tr>\n",
       "<tr>\n",
       "  <th>Friend</th>  <td>    0.5514</td> <td>    0.092</td> <td>    5.998</td> <td> 0.000</td> <td>    0.371</td> <td>    0.732</td>\n",
       "</tr>\n",
       "<tr>\n",
       "  <th>Other</th>   <td>   -0.2620</td> <td>    0.088</td> <td>   -2.987</td> <td> 0.003</td> <td>   -0.434</td> <td>   -0.090</td>\n",
       "</tr>\n",
       "<tr>\n",
       "  <th>Parent</th>  <td>    0.2333</td> <td>    0.038</td> <td>    6.176</td> <td> 0.000</td> <td>    0.159</td> <td>    0.307</td>\n",
       "</tr>\n",
       "<tr>\n",
       "  <th>Partner</th> <td>    0.2438</td> <td>    0.035</td> <td>    6.945</td> <td> 0.000</td> <td>    0.175</td> <td>    0.313</td>\n",
       "</tr>\n",
       "<tr>\n",
       "  <th>Pet</th>     <td>   -0.1378</td> <td>    0.029</td> <td>   -4.719</td> <td> 0.000</td> <td>   -0.195</td> <td>   -0.081</td>\n",
       "</tr>\n",
       "<tr>\n",
       "  <th>Shared</th>  <td>   -0.0452</td> <td>    0.084</td> <td>   -0.538</td> <td> 0.591</td> <td>   -0.210</td> <td>    0.119</td>\n",
       "</tr>\n",
       "<tr>\n",
       "  <th>SibCous</th> <td>   -0.4145</td> <td>    0.071</td> <td>   -5.805</td> <td> 0.000</td> <td>   -0.554</td> <td>   -0.275</td>\n",
       "</tr>\n",
       "</table>\n",
       "<table class=\"simpletable\">\n",
       "<tr>\n",
       "  <th>Omnibus:</th>       <td>582.431</td> <th>  Durbin-Watson:     </th> <td>   1.528</td> \n",
       "</tr>\n",
       "<tr>\n",
       "  <th>Prob(Omnibus):</th> <td> 0.000</td>  <th>  Jarque-Bera (JB):  </th> <td>1220.430</td> \n",
       "</tr>\n",
       "<tr>\n",
       "  <th>Skew:</th>          <td> 0.710</td>  <th>  Prob(JB):          </th> <td>9.70e-266</td>\n",
       "</tr>\n",
       "<tr>\n",
       "  <th>Kurtosis:</th>      <td> 4.926</td>  <th>  Cond. No.          </th> <td>    11.2</td> \n",
       "</tr>\n",
       "</table><br/><br/>Notes:<br/>[1] Standard Errors assume that the covariance matrix of the errors is correctly specified."
      ],
      "text/plain": [
       "<class 'statsmodels.iolib.summary.Summary'>\n",
       "\"\"\"\n",
       "                            OLS Regression Results                            \n",
       "==============================================================================\n",
       "Dep. Variable:                     F3   R-squared:                       0.069\n",
       "Model:                            OLS   Adj. R-squared:                  0.067\n",
       "Method:                 Least Squares   F-statistic:                     34.19\n",
       "Date:                Mon, 07 Dec 2020   Prob (F-statistic):           3.90e-71\n",
       "Time:                        14:37:25   Log-Likelihood:                -6302.6\n",
       "No. Observations:                5113   AIC:                         1.263e+04\n",
       "Df Residuals:                    5102   BIC:                         1.271e+04\n",
       "Df Model:                          11                                         \n",
       "Covariance Type:            nonrobust                                         \n",
       "==============================================================================\n",
       "                 coef    std err          t      P>|t|      [0.025      0.975]\n",
       "------------------------------------------------------------------------------\n",
       "const         -0.3714      0.036    -10.458      0.000      -0.441      -0.302\n",
       "Alone          0.5129      0.045     11.350      0.000       0.424       0.601\n",
       "Child          0.3927      0.027     14.419      0.000       0.339       0.446\n",
       "Elderly        0.2380      0.092      2.600      0.009       0.059       0.417\n",
       "Friend         0.5514      0.092      5.998      0.000       0.371       0.732\n",
       "Other         -0.2620      0.088     -2.987      0.003      -0.434      -0.090\n",
       "Parent         0.2333      0.038      6.176      0.000       0.159       0.307\n",
       "Partner        0.2438      0.035      6.945      0.000       0.175       0.313\n",
       "Pet           -0.1378      0.029     -4.719      0.000      -0.195      -0.081\n",
       "Shared        -0.0452      0.084     -0.538      0.591      -0.210       0.119\n",
       "SibCous       -0.4145      0.071     -5.805      0.000      -0.554      -0.275\n",
       "==============================================================================\n",
       "Omnibus:                      582.431   Durbin-Watson:                   1.528\n",
       "Prob(Omnibus):                  0.000   Jarque-Bera (JB):             1220.430\n",
       "Skew:                           0.710   Prob(JB):                    9.70e-266\n",
       "Kurtosis:                       4.926   Cond. No.                         11.2\n",
       "==============================================================================\n",
       "\n",
       "Notes:\n",
       "[1] Standard Errors assume that the covariance matrix of the errors is correctly specified.\n",
       "\"\"\""
      ]
     },
     "execution_count": 13,
     "metadata": {},
     "output_type": "execute_result"
    }
   ],
   "source": [
    "X = all_X.loc[:,living]\n",
    "X.columns = X.columns.str.replace(r'^.*-', '', regex=True)\n",
    "X = sm.add_constant(X)\n",
    "\n",
    "avg_ols_model = sm.OLS(y, X)\n",
    "avg_results = avg_ols_model.fit_regularized(L1_wt=1, refit=True)\n",
    "avg_results.summary()"
   ]
  },
  {
   "cell_type": "code",
   "execution_count": 14,
   "metadata": {},
   "outputs": [
    {
     "data": {
      "text/plain": [
       "<AxesSubplot:>"
      ]
     },
     "execution_count": 14,
     "metadata": {},
     "output_type": "execute_result"
    },
    {
     "data": {
      "image/png": "[encoded data removed]",
      "text/plain": [
       "<Figure size 576x576 with 2 Axes>"
      ]
     },
     "metadata": {
      "needs_background": "light"
     },
     "output_type": "display_data"
    }
   ],
   "source": [
    "# work situation\n",
    "data = all_X.loc[:,work]\n",
    "data.columns = data.columns.str.replace(r'^.*-', '', regex=True)\n",
    "data['POSITIVE EMOTIONS'] = y\n",
    "corr = data.corr()\n",
    "fig, ax = plt.subplots(figsize=(8, 8))\n",
    "cmap = sns.diverging_palette(230, 10, as_cmap=True)\n",
    "mask = np.triu(np.ones_like(corr))\n",
    "sns.heatmap(corr, cmap = cmap, fmt = '.2g', vmax = 1.0, vmin = -1.0, center = 0, square = True, \\\n",
    "            mask = mask, linewidths = 0.7, cbar_kws = {\"shrink\": 0.5}, annot = False)"
   ]
  },
  {
   "cell_type": "code",
   "execution_count": 15,
   "metadata": {},
   "outputs": [
    {
     "data": {
      "text/html": [
       "<table class=\"simpletable\">\n",
       "<caption>OLS Regression Results</caption>\n",
       "<tr>\n",
       "  <th>Dep. Variable:</th>           <td>F3</td>        <th>  R-squared:         </th> <td>   0.201</td> \n",
       "</tr>\n",
       "<tr>\n",
       "  <th>Model:</th>                   <td>OLS</td>       <th>  Adj. R-squared:    </th> <td>   0.200</td> \n",
       "</tr>\n",
       "<tr>\n",
       "  <th>Method:</th>             <td>Least Squares</td>  <th>  F-statistic:       </th> <td>   142.7</td> \n",
       "</tr>\n",
       "<tr>\n",
       "  <th>Date:</th>             <td>Mon, 07 Dec 2020</td> <th>  Prob (F-statistic):</th> <td>3.92e-241</td>\n",
       "</tr>\n",
       "<tr>\n",
       "  <th>Time:</th>                 <td>14:37:26</td>     <th>  Log-Likelihood:    </th> <td> -5910.5</td> \n",
       "</tr>\n",
       "<tr>\n",
       "  <th>No. Observations:</th>      <td>  5113</td>      <th>  AIC:               </th> <td>1.184e+04</td>\n",
       "</tr>\n",
       "<tr>\n",
       "  <th>Df Residuals:</th>          <td>  5104</td>      <th>  BIC:               </th> <td>1.191e+04</td>\n",
       "</tr>\n",
       "<tr>\n",
       "  <th>Df Model:</th>              <td>     9</td>      <th>                     </th>     <td> </td>    \n",
       "</tr>\n",
       "<tr>\n",
       "  <th>Covariance Type:</th>      <td>nonrobust</td>    <th>                     </th>     <td> </td>    \n",
       "</tr>\n",
       "</table>\n",
       "<table class=\"simpletable\">\n",
       "<tr>\n",
       "            <td></td>              <th>coef</th>     <th>std err</th>      <th>t</th>      <th>P>|t|</th>  <th>[0.025</th>    <th>0.975]</th>  \n",
       "</tr>\n",
       "<tr>\n",
       "  <th>const</th>                <td>   -0.5590</td> <td>    0.026</td> <td>  -21.303</td> <td> 0.000</td> <td>   -0.610</td> <td>   -0.508</td>\n",
       "</tr>\n",
       "<tr>\n",
       "  <th>Homeschool Children</th>  <td>   -0.2144</td> <td>    0.037</td> <td>   -5.716</td> <td> 0.000</td> <td>   -0.288</td> <td>   -0.141</td>\n",
       "</tr>\n",
       "<tr>\n",
       "  <th>Job At Risk</th>          <td>    0.3204</td> <td>    0.045</td> <td>    7.052</td> <td> 0.000</td> <td>    0.231</td> <td>    0.409</td>\n",
       "</tr>\n",
       "<tr>\n",
       "  <th>Lost Job</th>             <td>    0.3704</td> <td>    0.041</td> <td>    8.982</td> <td> 0.000</td> <td>    0.290</td> <td>    0.451</td>\n",
       "</tr>\n",
       "<tr>\n",
       "  <th>Lower Income</th>         <td>    0.1438</td> <td>    0.031</td> <td>    4.658</td> <td> 0.000</td> <td>    0.083</td> <td>    0.204</td>\n",
       "</tr>\n",
       "<tr>\n",
       "  <th>Now Work From Home</th>   <td>    0.6208</td> <td>    0.029</td> <td>   21.242</td> <td> 0.000</td> <td>    0.564</td> <td>    0.678</td>\n",
       "</tr>\n",
       "<tr>\n",
       "  <th>Reduced Hours</th>        <td>    0.6645</td> <td>    0.033</td> <td>   20.352</td> <td> 0.000</td> <td>    0.601</td> <td>    0.729</td>\n",
       "</tr>\n",
       "<tr>\n",
       "  <th>Still Go To Work</th>     <td>    0.7207</td> <td>    0.032</td> <td>   22.862</td> <td> 0.000</td> <td>    0.659</td> <td>    0.783</td>\n",
       "</tr>\n",
       "<tr>\n",
       "  <th>Still Work From Home</th> <td>    0.3436</td> <td>    0.032</td> <td>   10.897</td> <td> 0.000</td> <td>    0.282</td> <td>    0.405</td>\n",
       "</tr>\n",
       "</table>\n",
       "<table class=\"simpletable\">\n",
       "<tr>\n",
       "  <th>Omnibus:</th>       <td>456.282</td> <th>  Durbin-Watson:     </th> <td>   1.617</td> \n",
       "</tr>\n",
       "<tr>\n",
       "  <th>Prob(Omnibus):</th> <td> 0.000</td>  <th>  Jarque-Bera (JB):  </th> <td> 919.693</td> \n",
       "</tr>\n",
       "<tr>\n",
       "  <th>Skew:</th>          <td> 0.589</td>  <th>  Prob(JB):          </th> <td>1.96e-200</td>\n",
       "</tr>\n",
       "<tr>\n",
       "  <th>Kurtosis:</th>      <td> 4.712</td>  <th>  Cond. No.          </th> <td>    5.91</td> \n",
       "</tr>\n",
       "</table><br/><br/>Notes:<br/>[1] Standard Errors assume that the covariance matrix of the errors is correctly specified."
      ],
      "text/plain": [
       "<class 'statsmodels.iolib.summary.Summary'>\n",
       "\"\"\"\n",
       "                            OLS Regression Results                            \n",
       "==============================================================================\n",
       "Dep. Variable:                     F3   R-squared:                       0.201\n",
       "Model:                            OLS   Adj. R-squared:                  0.200\n",
       "Method:                 Least Squares   F-statistic:                     142.7\n",
       "Date:                Mon, 07 Dec 2020   Prob (F-statistic):          3.92e-241\n",
       "Time:                        14:37:26   Log-Likelihood:                -5910.5\n",
       "No. Observations:                5113   AIC:                         1.184e+04\n",
       "Df Residuals:                    5104   BIC:                         1.191e+04\n",
       "Df Model:                           9                                         \n",
       "Covariance Type:            nonrobust                                         \n",
       "========================================================================================\n",
       "                           coef    std err          t      P>|t|      [0.025      0.975]\n",
       "----------------------------------------------------------------------------------------\n",
       "const                   -0.5590      0.026    -21.303      0.000      -0.610      -0.508\n",
       "Homeschool Children     -0.2144      0.037     -5.716      0.000      -0.288      -0.141\n",
       "Job At Risk              0.3204      0.045      7.052      0.000       0.231       0.409\n",
       "Lost Job                 0.3704      0.041      8.982      0.000       0.290       0.451\n",
       "Lower Income             0.1438      0.031      4.658      0.000       0.083       0.204\n",
       "Now Work From Home       0.6208      0.029     21.242      0.000       0.564       0.678\n",
       "Reduced Hours            0.6645      0.033     20.352      0.000       0.601       0.729\n",
       "Still Go To Work         0.7207      0.032     22.862      0.000       0.659       0.783\n",
       "Still Work From Home     0.3436      0.032     10.897      0.000       0.282       0.405\n",
       "==============================================================================\n",
       "Omnibus:                      456.282   Durbin-Watson:                   1.617\n",
       "Prob(Omnibus):                  0.000   Jarque-Bera (JB):              919.693\n",
       "Skew:                           0.589   Prob(JB):                    1.96e-200\n",
       "Kurtosis:                       4.712   Cond. No.                         5.91\n",
       "==============================================================================\n",
       "\n",
       "Notes:\n",
       "[1] Standard Errors assume that the covariance matrix of the errors is correctly specified.\n",
       "\"\"\""
      ]
     },
     "execution_count": 15,
     "metadata": {},
     "output_type": "execute_result"
    }
   ],
   "source": [
    "X = all_X.loc[:,work]\n",
    "X.columns = X.columns.str.replace(r'^.*-', '', regex=True)\n",
    "X = sm.add_constant(X)\n",
    "\n",
    "avg_ols_model = sm.OLS(y, X)\n",
    "avg_results = avg_ols_model.fit_regularized(L1_wt=1, refit=True)\n",
    "avg_results.summary()"
   ]
  },
  {
   "cell_type": "code",
   "execution_count": 16,
   "metadata": {},
   "outputs": [
    {
     "data": {
      "text/plain": [
       "<AxesSubplot:>"
      ]
     },
     "execution_count": 16,
     "metadata": {},
     "output_type": "execute_result"
    },
    {
     "data": {
      "image/png": "[encoded data removed]",
      "text/plain": [
       "<Figure size 576x576 with 2 Axes>"
      ]
     },
     "metadata": {
      "needs_background": "light"
     },
     "output_type": "display_data"
    }
   ],
   "source": [
    "# contact with Covid-19\n",
    "data = all_X.loc[:,covid]\n",
    "data.columns = data.columns.str.replace(r'^.*-', '', regex=True)\n",
    "data['POSITIVE EMOTIONS'] = y\n",
    "corr = data.corr()\n",
    "fig, ax = plt.subplots(figsize=(8, 8))\n",
    "cmap = sns.diverging_palette(230, 10, as_cmap=True)\n",
    "mask = np.triu(np.ones_like(corr))\n",
    "sns.heatmap(corr, cmap = cmap, fmt = '.2g', vmax = 1.0, vmin = -1.0, center = 0, square = True, \\\n",
    "            mask = mask, linewidths = 0.7, cbar_kws = {\"shrink\": 0.5}, annot = False)"
   ]
  },
  {
   "cell_type": "code",
   "execution_count": 17,
   "metadata": {},
   "outputs": [
    {
     "data": {
      "text/html": [
       "<table class=\"simpletable\">\n",
       "<caption>OLS Regression Results</caption>\n",
       "<tr>\n",
       "  <th>Dep. Variable:</th>           <td>F3</td>        <th>  R-squared:         </th> <td>   0.293</td> \n",
       "</tr>\n",
       "<tr>\n",
       "  <th>Model:</th>                   <td>OLS</td>       <th>  Adj. R-squared:    </th> <td>   0.292</td> \n",
       "</tr>\n",
       "<tr>\n",
       "  <th>Method:</th>             <td>Least Squares</td>  <th>  F-statistic:       </th> <td>   264.1</td> \n",
       "</tr>\n",
       "<tr>\n",
       "  <th>Date:</th>             <td>Mon, 07 Dec 2020</td> <th>  Prob (F-statistic):</th>  <td>  0.00</td>  \n",
       "</tr>\n",
       "<tr>\n",
       "  <th>Time:</th>                 <td>14:37:26</td>     <th>  Log-Likelihood:    </th> <td> -5599.1</td> \n",
       "</tr>\n",
       "<tr>\n",
       "  <th>No. Observations:</th>      <td>  5113</td>      <th>  AIC:               </th> <td>1.122e+04</td>\n",
       "</tr>\n",
       "<tr>\n",
       "  <th>Df Residuals:</th>          <td>  5105</td>      <th>  BIC:               </th> <td>1.128e+04</td>\n",
       "</tr>\n",
       "<tr>\n",
       "  <th>Df Model:</th>              <td>     8</td>      <th>                     </th>     <td> </td>    \n",
       "</tr>\n",
       "<tr>\n",
       "  <th>Covariance Type:</th>      <td>nonrobust</td>    <th>                     </th>     <td> </td>    \n",
       "</tr>\n",
       "</table>\n",
       "<table class=\"simpletable\">\n",
       "<tr>\n",
       "               <td></td>                  <th>coef</th>     <th>std err</th>      <th>t</th>      <th>P>|t|</th>  <th>[0.025</th>    <th>0.975]</th>  \n",
       "</tr>\n",
       "<tr>\n",
       "  <th>const</th>                       <td>    0.0135</td> <td>    0.017</td> <td>    0.811</td> <td> 0.418</td> <td>   -0.019</td> <td>    0.046</td>\n",
       "</tr>\n",
       "<tr>\n",
       "  <th>I Am Infected</th>               <td>    0.9384</td> <td>    0.056</td> <td>   16.744</td> <td> 0.000</td> <td>    0.828</td> <td>    1.048</td>\n",
       "</tr>\n",
       "<tr>\n",
       "  <th>I Am Mourning A Loss</th>        <td>    0.3938</td> <td>    0.055</td> <td>    7.190</td> <td> 0.000</td> <td>    0.286</td> <td>    0.501</td>\n",
       "</tr>\n",
       "<tr>\n",
       "  <th>I Have Professional Contact</th> <td>    0.8198</td> <td>    0.046</td> <td>   17.893</td> <td> 0.000</td> <td>    0.730</td> <td>    0.910</td>\n",
       "</tr>\n",
       "<tr>\n",
       "  <th>I Live With Someone</th>         <td>    1.0291</td> <td>    0.058</td> <td>   17.637</td> <td> 0.000</td> <td>    0.915</td> <td>    1.143</td>\n",
       "</tr>\n",
       "<tr>\n",
       "  <th>None</th>                        <td>   -0.3169</td> <td>    0.023</td> <td>  -13.823</td> <td> 0.000</td> <td>   -0.362</td> <td>   -0.272</td>\n",
       "</tr>\n",
       "<tr>\n",
       "  <th>Prefer Not To Say</th>           <td>   -0.1496</td> <td>    0.055</td> <td>   -2.717</td> <td> 0.007</td> <td>   -0.258</td> <td>   -0.042</td>\n",
       "</tr>\n",
       "<tr>\n",
       "  <th>Someone I Am Close To</th>       <td>   -0.1039</td> <td>    0.032</td> <td>   -3.252</td> <td> 0.001</td> <td>   -0.166</td> <td>   -0.041</td>\n",
       "</tr>\n",
       "</table>\n",
       "<table class=\"simpletable\">\n",
       "<tr>\n",
       "  <th>Omnibus:</th>       <td>23.455</td> <th>  Durbin-Watson:     </th> <td>   1.599</td>\n",
       "</tr>\n",
       "<tr>\n",
       "  <th>Prob(Omnibus):</th> <td> 0.000</td> <th>  Jarque-Bera (JB):  </th> <td>  32.119</td>\n",
       "</tr>\n",
       "<tr>\n",
       "  <th>Skew:</th>          <td>-0.017</td> <th>  Prob(JB):          </th> <td>1.06e-07</td>\n",
       "</tr>\n",
       "<tr>\n",
       "  <th>Kurtosis:</th>      <td> 3.387</td> <th>  Cond. No.          </th> <td>    7.06</td>\n",
       "</tr>\n",
       "</table><br/><br/>Notes:<br/>[1] Standard Errors assume that the covariance matrix of the errors is correctly specified."
      ],
      "text/plain": [
       "<class 'statsmodels.iolib.summary.Summary'>\n",
       "\"\"\"\n",
       "                            OLS Regression Results                            \n",
       "==============================================================================\n",
       "Dep. Variable:                     F3   R-squared:                       0.293\n",
       "Model:                            OLS   Adj. R-squared:                  0.292\n",
       "Method:                 Least Squares   F-statistic:                     264.1\n",
       "Date:                Mon, 07 Dec 2020   Prob (F-statistic):               0.00\n",
       "Time:                        14:37:26   Log-Likelihood:                -5599.1\n",
       "No. Observations:                5113   AIC:                         1.122e+04\n",
       "Df Residuals:                    5105   BIC:                         1.128e+04\n",
       "Df Model:                           8                                         \n",
       "Covariance Type:            nonrobust                                         \n",
       "===============================================================================================\n",
       "                                  coef    std err          t      P>|t|      [0.025      0.975]\n",
       "-----------------------------------------------------------------------------------------------\n",
       "const                           0.0135      0.017      0.811      0.418      -0.019       0.046\n",
       "I Am Infected                   0.9384      0.056     16.744      0.000       0.828       1.048\n",
       "I Am Mourning A Loss            0.3938      0.055      7.190      0.000       0.286       0.501\n",
       "I Have Professional Contact     0.8198      0.046     17.893      0.000       0.730       0.910\n",
       "I Live With Someone             1.0291      0.058     17.637      0.000       0.915       1.143\n",
       "None                           -0.3169      0.023    -13.823      0.000      -0.362      -0.272\n",
       "Prefer Not To Say              -0.1496      0.055     -2.717      0.007      -0.258      -0.042\n",
       "Someone I Am Close To          -0.1039      0.032     -3.252      0.001      -0.166      -0.041\n",
       "==============================================================================\n",
       "Omnibus:                       23.455   Durbin-Watson:                   1.599\n",
       "Prob(Omnibus):                  0.000   Jarque-Bera (JB):               32.119\n",
       "Skew:                          -0.017   Prob(JB):                     1.06e-07\n",
       "Kurtosis:                       3.387   Cond. No.                         7.06\n",
       "==============================================================================\n",
       "\n",
       "Notes:\n",
       "[1] Standard Errors assume that the covariance matrix of the errors is correctly specified.\n",
       "\"\"\""
      ]
     },
     "execution_count": 17,
     "metadata": {},
     "output_type": "execute_result"
    }
   ],
   "source": [
    "X = all_X.loc[:,covid]\n",
    "X.columns = X.columns.str.replace(r'^.*-', '', regex=True)\n",
    "X = sm.add_constant(X)\n",
    "\n",
    "avg_ols_model = sm.OLS(y, X)\n",
    "avg_results = avg_ols_model.fit_regularized(L1_wt=1, refit=True)\n",
    "avg_results.summary()"
   ]
  }
 ],
 "metadata": {
  "kernelspec": {
   "display_name": "Python 3",
   "language": "python",
   "name": "python3"
  },
  "language_info": {
   "codemirror_mode": {
    "name": "ipython",
    "version": 3
   },
   "file_extension": ".py",
   "mimetype": "text/x-python",
   "name": "python",
   "nbconvert_exporter": "python",
   "pygments_lexer": "ipython3",
   "version": "3.8.6"
  },
  "varInspector": {
   "cols": {
    "lenName": 16,
    "lenType": 16,
    "lenVar": 40
   },
   "kernels_config": {
    "python": {
     "delete_cmd_postfix": "",
     "delete_cmd_prefix": "del ",
     "library": "var_list.py",
     "varRefreshCmd": "print(var_dic_list())"
    },
    "r": {
     "delete_cmd_postfix": ") ",
     "delete_cmd_prefix": "rm(",
     "library": "var_list.r",
     "varRefreshCmd": "cat(var_dic_list()) "
    }
   },
   "types_to_exclude": [
    "module",
    "function",
    "builtin_function_or_method",
    "instance",
    "_Feature"
   ],
   "window_display": false
  }
 },
 "nbformat": 4,
 "nbformat_minor": 2
}
