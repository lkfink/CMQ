{
 "cells": [
  {
   "cell_type": "markdown",
   "metadata": {},
   "source": [
    "# **Music Performance During the Coronavirus: Personality Differences**"
   ]
  },
  {
   "cell_type": "code",
   "execution_count": 1,
   "metadata": {},
   "outputs": [
    {
     "ename": "NameError",
     "evalue": "name 'LW' is not defined",
     "output_type": "error",
     "traceback": [
      "\u001b[0;31m---------------------------------------------------------------------------\u001b[0m",
      "\u001b[0;31mNameError\u001b[0m                                 Traceback (most recent call last)",
      "\u001b[0;32m<ipython-input-1-a1b46fea85cb>\u001b[0m in \u001b[0;36m<module>\u001b[0;34m\u001b[0m\n\u001b[1;32m      3\u001b[0m \u001b[0mpd\u001b[0m\u001b[0;34m.\u001b[0m\u001b[0mset_option\u001b[0m\u001b[0;34m(\u001b[0m\u001b[0;34m'display.max_rows'\u001b[0m\u001b[0;34m,\u001b[0m \u001b[0;32mNone\u001b[0m\u001b[0;34m)\u001b[0m\u001b[0;34m\u001b[0m\u001b[0;34m\u001b[0m\u001b[0m\n\u001b[1;32m      4\u001b[0m \u001b[0mwarnings\u001b[0m\u001b[0;34m.\u001b[0m\u001b[0mfilterwarnings\u001b[0m\u001b[0;34m(\u001b[0m\u001b[0maction\u001b[0m\u001b[0;34m=\u001b[0m\u001b[0;34m'ignore'\u001b[0m\u001b[0;34m)\u001b[0m\u001b[0;34m\u001b[0m\u001b[0;34m\u001b[0m\u001b[0m\n\u001b[0;32m----> 5\u001b[0;31m \u001b[0;32mif\u001b[0m \u001b[0mLW\u001b[0m\u001b[0;34m:\u001b[0m\u001b[0;34m\u001b[0m\u001b[0;34m\u001b[0m\u001b[0m\n\u001b[0m\u001b[1;32m      6\u001b[0m     \u001b[0mos\u001b[0m\u001b[0;34m.\u001b[0m\u001b[0mchdir\u001b[0m\u001b[0;34m(\u001b[0m\u001b[0;34m\"/Users/home/Desktop/Research/Coronavirus/Public GitHub\"\u001b[0m\u001b[0;34m)\u001b[0m\u001b[0;34m\u001b[0m\u001b[0;34m\u001b[0m\u001b[0m\n\u001b[1;32m      7\u001b[0m \u001b[0mget_ipython\u001b[0m\u001b[0;34m(\u001b[0m\u001b[0;34m)\u001b[0m\u001b[0;34m.\u001b[0m\u001b[0mrun_line_magic\u001b[0m\u001b[0;34m(\u001b[0m\u001b[0;34m'run'\u001b[0m\u001b[0;34m,\u001b[0m \u001b[0;34m'Coronavirus_Music_Functions.ipynb'\u001b[0m\u001b[0;34m)\u001b[0m\u001b[0;34m\u001b[0m\u001b[0;34m\u001b[0m\u001b[0m\n",
      "\u001b[0;31mNameError\u001b[0m: name 'LW' is not defined"
     ]
    }
   ],
   "source": [
    "import numpy as np, pandas as pd, os, sys, itertools, re, warnings, math\n",
    "pd.set_option('display.max_columns', None)\n",
    "pd.set_option('display.max_rows', None)\n",
    "warnings.filterwarnings(action='ignore')\n",
    "LW = 0\n",
    "if LW:\n",
    "    os.chdir(\"/Users/home/Desktop/Research/Coronavirus/Public GitHub\")\n",
    "%run Coronavirus_Music_Functions.ipynb"
   ]
  },
  {
   "cell_type": "code",
   "execution_count": null,
   "metadata": {},
   "outputs": [],
   "source": [
    "if LW:\n",
    "    with open(\"/Users/home/Desktop/Research/Coronavirus/Public GitHub/factors_all_data.csv\", encoding=\"utf8\", errors='ignore') as file:\n",
    "        all_data = pd.read_csv(file)\n",
    "else:\n",
    "    all_data = pd.read_csv('factors_all_data.csv') \n",
    "all_data.rename(columns={'Demographics_General_Gender': 'Gender'}, inplace=True)\n",
    "all_data.shape"
   ]
  },
  {
   "cell_type": "code",
   "execution_count": null,
   "metadata": {},
   "outputs": [],
   "source": [
    "# reorder columns\n",
    "id_col = all_data.pop('ID')\n",
    "country_col = all_data.pop('Country')\n",
    "gender_col = all_data.pop('Gender')\n",
    "\n",
    "all_data.insert(0, 'Gender', gender_col)\n",
    "all_data.insert(0, 'Country', country_col)\n",
    "all_data.insert(0, 'ID', id_col)"
   ]
  },
  {
   "cell_type": "code",
   "execution_count": null,
   "metadata": {},
   "outputs": [],
   "source": [
    "# only keep people in performing and both groups\n",
    "data = all_data[all_data['Survey Info_Group'].isin(['both','performing only'])].reset_index(drop=True)\n",
    "data['Survey Info_Group'].value_counts()"
   ]
  },
  {
   "cell_type": "code",
   "execution_count": null,
   "metadata": {},
   "outputs": [],
   "source": [
    "# get separate dataframes for country and factor scores\n",
    "country = pd.get_dummies(data['Country'], prefix='Country')\n",
    "factors = data[['F1','F2','F3','F4','F5']]"
   ]
  },
  {
   "cell_type": "code",
   "execution_count": null,
   "metadata": {},
   "outputs": [],
   "source": [
    "# only keep relevant columns\n",
    "drop_cols = ['F1','F2','F3','F4','F5', 'Music Listening', 'Formats', 'Demographics','Survey Info_Group','Country']\n",
    "col_list = [string for string in data.columns if not any(substring in string for substring in drop_cols)]\n",
    "data = data[col_list]\n",
    "\n",
    "data.columns = data.columns.str.replace(\"Making Music_\", \"\")"
   ]
  },
  {
   "cell_type": "code",
   "execution_count": null,
   "metadata": {},
   "outputs": [],
   "source": [
    "# final df\n",
    "df = pd.concat([factors, country, data], axis = 1, sort = False).reset_index(drop = True)\n",
    "# df.drop(['Music Engagement_Engaging With Music Differently YN'], axis=1, inplace = True)\n",
    "\n",
    "df.shape"
   ]
  },
  {
   "cell_type": "markdown",
   "metadata": {},
   "source": [
    "#### **Factor DFs**"
   ]
  },
  {
   "cell_type": "code",
   "execution_count": null,
   "metadata": {},
   "outputs": [],
   "source": [
    "# set cutoff scores for defining 'high' and 'low' scorers\n",
    "high_cutoff = 75\n",
    "low_cutoff = 25\n",
    "\n",
    "f1 = split_into_high_low(df, 'F1', low_cutoff, high_cutoff)\n",
    "f2 = split_into_high_low(df, 'F2', low_cutoff, high_cutoff)\n",
    "f3 = split_into_high_low(df, 'F3', low_cutoff, high_cutoff)\n",
    "f4 = split_into_high_low(df, 'F4', low_cutoff, high_cutoff)\n",
    "f5 = split_into_high_low(df, 'F5', low_cutoff, high_cutoff)"
   ]
  },
  {
   "cell_type": "markdown",
   "metadata": {},
   "source": [
    "#### **Factor 1: Negative Emotions**"
   ]
  },
  {
   "cell_type": "code",
   "execution_count": null,
   "metadata": {
    "scrolled": false
   },
   "outputs": [],
   "source": [
    "factor1_summary = factor_summary(f1)\n",
    "cols = [i for i in factor1_summary.index if not i.startswith('Activities')]\n",
    "factor1_summary.loc[cols,:].round(2)"
   ]
  },
  {
   "cell_type": "markdown",
   "metadata": {},
   "source": [
    "#### **Factor 2: Living Situation**"
   ]
  },
  {
   "cell_type": "code",
   "execution_count": null,
   "metadata": {},
   "outputs": [],
   "source": [
    "factor2_summary = factor_summary(f2)\n",
    "cols = [i for i in factor2_summary.index if not i.startswith('Activities')]\n",
    "factor2_summary.loc[cols,:].round(2)"
   ]
  },
  {
   "cell_type": "markdown",
   "metadata": {},
   "source": [
    "#### **Factor 3: Positive Emotions**"
   ]
  },
  {
   "cell_type": "code",
   "execution_count": null,
   "metadata": {},
   "outputs": [],
   "source": [
    "factor3_summary = factor_summary(f3)\n",
    "cols = [i for i in factor3_summary.index if not i.startswith('Activities')]\n",
    "factor3_summary.loc[cols,:].round(2)"
   ]
  },
  {
   "cell_type": "markdown",
   "metadata": {},
   "source": [
    "#### **Factor 4: Age**"
   ]
  },
  {
   "cell_type": "code",
   "execution_count": null,
   "metadata": {},
   "outputs": [],
   "source": [
    "factor4_summary = factor_summary(f4)\n",
    "cols = [i for i in factor4_summary.index if not i.startswith('Activities')]\n",
    "factor4_summary.loc[cols,:].round(2)"
   ]
  },
  {
   "cell_type": "markdown",
   "metadata": {},
   "source": [
    "#### **Factor 5: City Type**"
   ]
  },
  {
   "cell_type": "code",
   "execution_count": null,
   "metadata": {},
   "outputs": [],
   "source": [
    "factor5_summary = factor_summary(f5)\n",
    "cols = [i for i in factor5_summary.index if not i.startswith('Activities')]\n",
    "factor5_summary.loc[cols,:].round(2)"
   ]
  },
  {
   "cell_type": "code",
   "execution_count": null,
   "metadata": {},
   "outputs": [],
   "source": []
  }
 ],
 "metadata": {
  "kernelspec": {
   "display_name": "Python 3",
   "language": "python",
   "name": "python3"
  },
  "language_info": {
   "codemirror_mode": {
    "name": "ipython",
    "version": 3
   },
   "file_extension": ".py",
   "mimetype": "text/x-python",
   "name": "python",
   "nbconvert_exporter": "python",
   "pygments_lexer": "ipython3",
   "version": "3.7.4"
  },
  "varInspector": {
   "cols": {
    "lenName": 16,
    "lenType": 16,
    "lenVar": 40
   },
   "kernels_config": {
    "python": {
     "delete_cmd_postfix": "",
     "delete_cmd_prefix": "del ",
     "library": "var_list.py",
     "varRefreshCmd": "print(var_dic_list())"
    },
    "r": {
     "delete_cmd_postfix": ") ",
     "delete_cmd_prefix": "rm(",
     "library": "var_list.r",
     "varRefreshCmd": "cat(var_dic_list()) "
    }
   },
   "types_to_exclude": [
    "module",
    "function",
    "builtin_function_or_method",
    "instance",
    "_Feature"
   ],
   "window_display": false
  }
 },
 "nbformat": 4,
 "nbformat_minor": 2
}
